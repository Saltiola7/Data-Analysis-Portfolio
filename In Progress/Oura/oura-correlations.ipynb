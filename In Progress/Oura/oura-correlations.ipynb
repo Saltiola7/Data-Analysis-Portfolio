{
 "cells": [
  {
   "cell_type": "markdown",
   "metadata": {},
   "source": [
    "# Exploring Oura ring data"
   ]
  },
  {
   "cell_type": "code",
   "execution_count": 8,
   "metadata": {},
   "outputs": [],
   "source": [
    "#%pip install pandas mlplot\n",
    " \n",
    "import csv\n",
    "import pandas as pd\n",
    "import matplotlib.pyplot as plt\n",
    "import matplotlib.ticker as ticker\n",
    "from matplotlib.pyplot import figure\n",
    "from matplotlib.dates import DateFormatter\n"
   ]
  },
  {
   "cell_type": "markdown",
   "metadata": {},
   "source": [
    "## First, let's grab data from local json file, using only sleep data"
   ]
  },
  {
   "cell_type": "code",
   "execution_count": 9,
   "metadata": {},
   "outputs": [
    {
     "data": {
      "text/html": [
       "<div>\n",
       "<style scoped>\n",
       "    .dataframe tbody tr th:only-of-type {\n",
       "        vertical-align: middle;\n",
       "    }\n",
       "\n",
       "    .dataframe tbody tr th {\n",
       "        vertical-align: top;\n",
       "    }\n",
       "\n",
       "    .dataframe thead th {\n",
       "        text-align: right;\n",
       "    }\n",
       "</style>\n",
       "<table border=\"1\" class=\"dataframe\">\n",
       "  <thead>\n",
       "    <tr style=\"text-align: right;\">\n",
       "      <th></th>\n",
       "      <th>date</th>\n",
       "      <th>Sleep Score</th>\n",
       "      <th>Total Sleep Score</th>\n",
       "      <th>REM Sleep Score</th>\n",
       "      <th>Deep Sleep Score</th>\n",
       "      <th>Sleep Efficiency Score</th>\n",
       "      <th>Restfulness Score</th>\n",
       "      <th>Sleep Latency Score</th>\n",
       "      <th>Sleep Timin Score</th>\n",
       "      <th>Total Sleep Duration</th>\n",
       "      <th>...</th>\n",
       "      <th>Long Periods of Inactivity</th>\n",
       "      <th>Readiness Score</th>\n",
       "      <th>Previous Night Score</th>\n",
       "      <th>Sleep Balance Score</th>\n",
       "      <th>Previous Day Activity Score</th>\n",
       "      <th>Activity Balance Score</th>\n",
       "      <th>Temperature Score</th>\n",
       "      <th>Resting Heart Rate Score</th>\n",
       "      <th>HRV Balance Score</th>\n",
       "      <th>Recovery Index Score</th>\n",
       "    </tr>\n",
       "  </thead>\n",
       "  <tbody>\n",
       "    <tr>\n",
       "      <th>0</th>\n",
       "      <td>2022-01-13</td>\n",
       "      <td>67.0</td>\n",
       "      <td>71.0</td>\n",
       "      <td>91.0</td>\n",
       "      <td>57.0</td>\n",
       "      <td>58.0</td>\n",
       "      <td>77.0</td>\n",
       "      <td>64.0</td>\n",
       "      <td>35.0</td>\n",
       "      <td>24930.0</td>\n",
       "      <td>...</td>\n",
       "      <td>0</td>\n",
       "      <td>85.0</td>\n",
       "      <td>56</td>\n",
       "      <td>None</td>\n",
       "      <td>93</td>\n",
       "      <td>None</td>\n",
       "      <td>96.0</td>\n",
       "      <td>100.0</td>\n",
       "      <td>None</td>\n",
       "      <td>100.0</td>\n",
       "    </tr>\n",
       "    <tr>\n",
       "      <th>1</th>\n",
       "      <td>2022-01-14</td>\n",
       "      <td>78.0</td>\n",
       "      <td>100.0</td>\n",
       "      <td>98.0</td>\n",
       "      <td>58.0</td>\n",
       "      <td>76.0</td>\n",
       "      <td>73.0</td>\n",
       "      <td>56.0</td>\n",
       "      <td>31.0</td>\n",
       "      <td>34770.0</td>\n",
       "      <td>...</td>\n",
       "      <td>0</td>\n",
       "      <td>90.0</td>\n",
       "      <td>83</td>\n",
       "      <td>None</td>\n",
       "      <td>85</td>\n",
       "      <td>None</td>\n",
       "      <td>100.0</td>\n",
       "      <td>95.0</td>\n",
       "      <td>None</td>\n",
       "      <td>100.0</td>\n",
       "    </tr>\n",
       "    <tr>\n",
       "      <th>2</th>\n",
       "      <td>2022-01-15</td>\n",
       "      <td>76.0</td>\n",
       "      <td>71.0</td>\n",
       "      <td>77.0</td>\n",
       "      <td>96.0</td>\n",
       "      <td>96.0</td>\n",
       "      <td>84.0</td>\n",
       "      <td>97.0</td>\n",
       "      <td>16.0</td>\n",
       "      <td>24990.0</td>\n",
       "      <td>...</td>\n",
       "      <td>0</td>\n",
       "      <td>71.0</td>\n",
       "      <td>80</td>\n",
       "      <td>73</td>\n",
       "      <td>81</td>\n",
       "      <td>69</td>\n",
       "      <td>99.0</td>\n",
       "      <td>84.0</td>\n",
       "      <td>None</td>\n",
       "      <td>29.0</td>\n",
       "    </tr>\n",
       "    <tr>\n",
       "      <th>3</th>\n",
       "      <td>2022-01-16</td>\n",
       "      <td>75.0</td>\n",
       "      <td>64.0</td>\n",
       "      <td>87.0</td>\n",
       "      <td>75.0</td>\n",
       "      <td>90.0</td>\n",
       "      <td>90.0</td>\n",
       "      <td>75.0</td>\n",
       "      <td>57.0</td>\n",
       "      <td>19260.0</td>\n",
       "      <td>...</td>\n",
       "      <td>0</td>\n",
       "      <td>82.0</td>\n",
       "      <td>77</td>\n",
       "      <td>80</td>\n",
       "      <td>74</td>\n",
       "      <td>91</td>\n",
       "      <td>100.0</td>\n",
       "      <td>77.0</td>\n",
       "      <td>None</td>\n",
       "      <td>100.0</td>\n",
       "    </tr>\n",
       "    <tr>\n",
       "      <th>4</th>\n",
       "      <td>2022-01-17</td>\n",
       "      <td>78.0</td>\n",
       "      <td>75.0</td>\n",
       "      <td>83.0</td>\n",
       "      <td>68.0</td>\n",
       "      <td>90.0</td>\n",
       "      <td>88.0</td>\n",
       "      <td>97.0</td>\n",
       "      <td>47.0</td>\n",
       "      <td>25980.0</td>\n",
       "      <td>...</td>\n",
       "      <td>0</td>\n",
       "      <td>86.0</td>\n",
       "      <td>82</td>\n",
       "      <td>81</td>\n",
       "      <td>90</td>\n",
       "      <td>89</td>\n",
       "      <td>100.0</td>\n",
       "      <td>86.0</td>\n",
       "      <td>None</td>\n",
       "      <td>100.0</td>\n",
       "    </tr>\n",
       "  </tbody>\n",
       "</table>\n",
       "<p>5 rows × 54 columns</p>\n",
       "</div>"
      ],
      "text/plain": [
       "         date  Sleep Score  Total Sleep Score  REM Sleep Score  \\\n",
       "0  2022-01-13         67.0               71.0             91.0   \n",
       "1  2022-01-14         78.0              100.0             98.0   \n",
       "2  2022-01-15         76.0               71.0             77.0   \n",
       "3  2022-01-16         75.0               64.0             87.0   \n",
       "4  2022-01-17         78.0               75.0             83.0   \n",
       "\n",
       "   Deep Sleep Score  Sleep Efficiency Score  Restfulness Score  \\\n",
       "0              57.0                    58.0               77.0   \n",
       "1              58.0                    76.0               73.0   \n",
       "2              96.0                    96.0               84.0   \n",
       "3              75.0                    90.0               90.0   \n",
       "4              68.0                    90.0               88.0   \n",
       "\n",
       "   Sleep Latency Score  Sleep Timin Score  Total Sleep Duration  ...  \\\n",
       "0                 64.0               35.0               24930.0  ...   \n",
       "1                 56.0               31.0               34770.0  ...   \n",
       "2                 97.0               16.0               24990.0  ...   \n",
       "3                 75.0               57.0               19260.0  ...   \n",
       "4                 97.0               47.0               25980.0  ...   \n",
       "\n",
       "   Long Periods of Inactivity  Readiness Score  Previous Night Score  \\\n",
       "0                           0             85.0                    56   \n",
       "1                           0             90.0                    83   \n",
       "2                           0             71.0                    80   \n",
       "3                           0             82.0                    77   \n",
       "4                           0             86.0                    82   \n",
       "\n",
       "   Sleep Balance Score  Previous Day Activity Score  Activity Balance Score  \\\n",
       "0                 None                           93                    None   \n",
       "1                 None                           85                    None   \n",
       "2                   73                           81                      69   \n",
       "3                   80                           74                      91   \n",
       "4                   81                           90                      89   \n",
       "\n",
       "   Temperature Score  Resting Heart Rate Score  HRV Balance Score  \\\n",
       "0               96.0                     100.0               None   \n",
       "1              100.0                      95.0               None   \n",
       "2               99.0                      84.0               None   \n",
       "3              100.0                      77.0               None   \n",
       "4              100.0                      86.0               None   \n",
       "\n",
       "  Recovery Index Score  \n",
       "0                100.0  \n",
       "1                100.0  \n",
       "2                 29.0  \n",
       "3                100.0  \n",
       "4                100.0  \n",
       "\n",
       "[5 rows x 54 columns]"
      ]
     },
     "execution_count": 9,
     "metadata": {},
     "output_type": "execute_result"
    }
   ],
   "source": [
    "# Read in the CSV as a DataFrame\n",
    "oura_df = pd.read_csv('data/oura_2022-01-10_2022-11-28_trends.csv')\n",
    "\n",
    "# Print the first five rows of the DataFrame\n",
    "# print(oura_df[0:5])\n",
    "oura_df.head()"
   ]
  },
  {
   "cell_type": "markdown",
   "metadata": {},
   "source": [
    "## Now, let's build an index of bedtime_end date components"
   ]
  },
  {
   "cell_type": "code",
   "execution_count": 10,
   "metadata": {},
   "outputs": [
    {
     "ename": "NameError",
     "evalue": "name 'full_df' is not defined",
     "output_type": "error",
     "traceback": [
      "\u001b[0;31m---------------------------------------------------------------------------\u001b[0m",
      "\u001b[0;31mNameError\u001b[0m                                 Traceback (most recent call last)",
      "Cell \u001b[0;32mIn [10], line 2\u001b[0m\n\u001b[1;32m      1\u001b[0m \u001b[39m# Reindex by bedtime end date\u001b[39;00m\n\u001b[0;32m----> 2\u001b[0m full_df[\u001b[39m'\u001b[39m\u001b[39mdatetime\u001b[39m\u001b[39m'\u001b[39m] \u001b[39m=\u001b[39m pd\u001b[39m.\u001b[39mto_datetime(full_df[\u001b[39m'\u001b[39m\u001b[39mbedtime_end\u001b[39m\u001b[39m'\u001b[39m], utc\u001b[39m=\u001b[39m\u001b[39mTrue\u001b[39;00m)\u001b[39m.\u001b[39mdt\u001b[39m.\u001b[39mnormalize()\n\u001b[1;32m      3\u001b[0m full_df[\u001b[39m'\u001b[39m\u001b[39mweekday\u001b[39m\u001b[39m'\u001b[39m] \u001b[39m=\u001b[39m full_df[\u001b[39m'\u001b[39m\u001b[39mdatetime\u001b[39m\u001b[39m'\u001b[39m]\u001b[39m.\u001b[39mdt\u001b[39m.\u001b[39mdayofweek\n\u001b[1;32m      4\u001b[0m full_df[\u001b[39m'\u001b[39m\u001b[39mweekend\u001b[39m\u001b[39m'\u001b[39m] \u001b[39m=\u001b[39m (full_df[\u001b[39m'\u001b[39m\u001b[39mdatetime\u001b[39m\u001b[39m'\u001b[39m]\u001b[39m.\u001b[39mdt\u001b[39m.\u001b[39mdayofweek \u001b[39m>\u001b[39m \u001b[39m4\u001b[39m)\u001b[39m.\u001b[39mastype(\u001b[39mint\u001b[39m)\n",
      "\u001b[0;31mNameError\u001b[0m: name 'full_df' is not defined"
     ]
    }
   ],
   "source": [
    "# Reindex by bedtime end date\n",
    "full_df['datetime'] = pd.to_datetime(full_df['bedtime_end'], utc=True).dt.normalize()\n",
    "full_df['weekday'] = full_df['datetime'].dt.dayofweek\n",
    "full_df['weekend'] = (full_df['datetime'].dt.dayofweek > 4).astype(int)\n",
    "full_df['datetime_naive'] = full_df['datetime'].apply(lambda t: t.replace(tzinfo=None))\n",
    "full_df = full_df.set_index('datetime_naive')\n",
    "full_df.info()\n",
    "full_df['weekend']"
   ]
  },
  {
   "cell_type": "markdown",
   "metadata": {},
   "source": [
    "# So, how about some correlation plots?"
   ]
  },
  {
   "cell_type": "code",
   "execution_count": null,
   "metadata": {},
   "outputs": [
    {
     "ename": "NameError",
     "evalue": "name 'full_df' is not defined",
     "output_type": "error",
     "traceback": [
      "\u001b[0;31m---------------------------------------------------------------------------\u001b[0m",
      "\u001b[0;31mNameError\u001b[0m                                 Traceback (most recent call last)",
      "Cell \u001b[0;32mIn [5], line 2\u001b[0m\n\u001b[1;32m      1\u001b[0m \u001b[39m# Drop non-numerical column to make it neater, but use full range of data\u001b[39;00m\n\u001b[0;32m----> 2\u001b[0m df \u001b[39m=\u001b[39m full_df\u001b[39m.\u001b[39mdrop(\u001b[39m'\u001b[39m\u001b[39mis_longest\u001b[39m\u001b[39m'\u001b[39m, axis\u001b[39m=\u001b[39m\u001b[39m1\u001b[39m) \n\u001b[1;32m      4\u001b[0m \u001b[39m# calculate some extra numerical statistics for fun correlations\u001b[39;00m\n\u001b[1;32m      5\u001b[0m df[\u001b[39m'\u001b[39m\u001b[39mbedtime_start_hour\u001b[39m\u001b[39m'\u001b[39m] \u001b[39m=\u001b[39m pd\u001b[39m.\u001b[39mto_datetime(df[\u001b[39m'\u001b[39m\u001b[39mbedtime_start\u001b[39m\u001b[39m'\u001b[39m], utc\u001b[39m=\u001b[39m\u001b[39mTrue\u001b[39;00m)\u001b[39m.\u001b[39mdt\u001b[39m.\u001b[39mhour\n",
      "\u001b[0;31mNameError\u001b[0m: name 'full_df' is not defined"
     ]
    }
   ],
   "source": [
    "# Drop non-numerical column to make it neater, but use full range of data\n",
    "df = full_df.drop('is_longest', axis=1) \n",
    "\n",
    "# calculate some extra numerical statistics for fun correlations\n",
    "df['bedtime_start_hour'] = pd.to_datetime(df['bedtime_start'], utc=True).dt.hour\n",
    "df['bedtime_end_hour'] = pd.to_datetime(df['bedtime_end'], utc=True).dt.hour\n",
    "\n",
    "# Here is the fast and easy way to plot correlations\n",
    "corr = df.corr()\n",
    "corr.style.background_gradient(cmap='coolwarm')\n",
    "corr.style.background_gradient(cmap='coolwarm').set_precision(2)\n"
   ]
  },
  {
   "cell_type": "code",
   "execution_count": null,
   "metadata": {},
   "outputs": [
    {
     "ename": "NameError",
     "evalue": "name 'df' is not defined",
     "output_type": "error",
     "traceback": [
      "\u001b[0;31m---------------------------------------------------------------------------\u001b[0m",
      "\u001b[0;31mNameError\u001b[0m                                 Traceback (most recent call last)",
      "Cell \u001b[0;32mIn [6], line 3\u001b[0m\n\u001b[1;32m      1\u001b[0m \u001b[39m# Here's another way (Create a plot)\u001b[39;00m\n\u001b[1;32m      2\u001b[0m f \u001b[39m=\u001b[39m plt\u001b[39m.\u001b[39mfigure(figsize\u001b[39m=\u001b[39m(\u001b[39m28\u001b[39m, \u001b[39m18\u001b[39m))\n\u001b[0;32m----> 3\u001b[0m plt\u001b[39m.\u001b[39mmatshow(df\u001b[39m.\u001b[39mcorr(), fignum\u001b[39m=\u001b[39mf\u001b[39m.\u001b[39mnumber)\n\u001b[1;32m      4\u001b[0m plt\u001b[39m.\u001b[39mxticks(\u001b[39mrange\u001b[39m(df\u001b[39m.\u001b[39mselect_dtypes([\u001b[39m'\u001b[39m\u001b[39mnumber\u001b[39m\u001b[39m'\u001b[39m])\u001b[39m.\u001b[39mshape[\u001b[39m1\u001b[39m]), df\u001b[39m.\u001b[39mselect_dtypes([\u001b[39m'\u001b[39m\u001b[39mnumber\u001b[39m\u001b[39m'\u001b[39m])\u001b[39m.\u001b[39mcolumns, fontsize\u001b[39m=\u001b[39m\u001b[39m14\u001b[39m, rotation\u001b[39m=\u001b[39m\u001b[39m90\u001b[39m)\n\u001b[1;32m      5\u001b[0m plt\u001b[39m.\u001b[39myticks(\u001b[39mrange\u001b[39m(df\u001b[39m.\u001b[39mselect_dtypes([\u001b[39m'\u001b[39m\u001b[39mnumber\u001b[39m\u001b[39m'\u001b[39m])\u001b[39m.\u001b[39mshape[\u001b[39m1\u001b[39m]), df\u001b[39m.\u001b[39mselect_dtypes([\u001b[39m'\u001b[39m\u001b[39mnumber\u001b[39m\u001b[39m'\u001b[39m])\u001b[39m.\u001b[39mcolumns, fontsize\u001b[39m=\u001b[39m\u001b[39m14\u001b[39m)\n",
      "\u001b[0;31mNameError\u001b[0m: name 'df' is not defined"
     ]
    },
    {
     "data": {
      "text/plain": [
       "<Figure size 2800x1800 with 0 Axes>"
      ]
     },
     "metadata": {},
     "output_type": "display_data"
    }
   ],
   "source": [
    "# Here's another way (Create a plot)\n",
    "f = plt.figure(figsize=(28, 18))\n",
    "plt.matshow(df.corr(), fignum=f.number)\n",
    "plt.xticks(range(df.select_dtypes(['number']).shape[1]), df.select_dtypes(['number']).columns, fontsize=14, rotation=90)\n",
    "plt.yticks(range(df.select_dtypes(['number']).shape[1]), df.select_dtypes(['number']).columns, fontsize=14)\n",
    "cb = plt.colorbar()\n",
    "cb.ax.tick_params(labelsize=14)\n",
    "plt.title('Correlation Matrix', fontsize=16);\n"
   ]
  },
  {
   "cell_type": "code",
   "execution_count": null,
   "metadata": {},
   "outputs": [
    {
     "ename": "NameError",
     "evalue": "name 'df' is not defined",
     "output_type": "error",
     "traceback": [
      "\u001b[0;31m---------------------------------------------------------------------------\u001b[0m",
      "\u001b[0;31mNameError\u001b[0m                                 Traceback (most recent call last)",
      "Cell \u001b[0;32mIn [7], line 2\u001b[0m\n\u001b[1;32m      1\u001b[0m \u001b[39m# Or, just check one column and print all matches\u001b[39;00m\n\u001b[0;32m----> 2\u001b[0m corr \u001b[39m=\u001b[39m df\u001b[39m.\u001b[39mcorr()[\u001b[39m'\u001b[39m\u001b[39mscore\u001b[39m\u001b[39m'\u001b[39m]\u001b[39m.\u001b[39msort_values()\n\u001b[1;32m      3\u001b[0m \u001b[39mwith\u001b[39;00m pd\u001b[39m.\u001b[39moption_context(\u001b[39m'\u001b[39m\u001b[39mdisplay.max_rows\u001b[39m\u001b[39m'\u001b[39m, \u001b[39mNone\u001b[39;00m, \u001b[39m'\u001b[39m\u001b[39mdisplay.max_columns\u001b[39m\u001b[39m'\u001b[39m, \u001b[39mNone\u001b[39;00m):  \u001b[39m# more options can be specified also\u001b[39;00m\n\u001b[1;32m      4\u001b[0m     \u001b[39mprint\u001b[39m(corr)\n",
      "\u001b[0;31mNameError\u001b[0m: name 'df' is not defined"
     ]
    }
   ],
   "source": [
    "# Or, just check one column and print all matches\n",
    "corr = df.corr()['score'].sort_values()\n",
    "with pd.option_context('display.max_rows', None, 'display.max_columns', None):  # more options can be specified also\n",
    "    print(corr)"
   ]
  },
  {
   "cell_type": "markdown",
   "metadata": {
    "tags": []
   },
   "source": [
    "# Do my previous days metrics effect my next days sleep score?"
   ]
  },
  {
   "cell_type": "code",
   "execution_count": 15,
   "metadata": {},
   "outputs": [
    {
     "ename": "NameError",
     "evalue": "name 'df' is not defined",
     "output_type": "error",
     "traceback": [
      "\u001b[0;31m---------------------------------------------------------------------------\u001b[0m",
      "\u001b[0;31mNameError\u001b[0m                                 Traceback (most recent call last)",
      "Cell \u001b[0;32mIn [15], line 1\u001b[0m\n\u001b[0;32m----> 1\u001b[0m df_next \u001b[39m=\u001b[39m df[\u001b[39m'\u001b[39m\u001b[39mscore\u001b[39m\u001b[39m'\u001b[39m] \u001b[39m# Create another subset of data to compare\u001b[39;00m\n\u001b[1;32m      2\u001b[0m df_next \u001b[39m=\u001b[39m df_next\u001b[39m.\u001b[39mshift(periods\u001b[39m=\u001b[39m\u001b[39m-\u001b[39m\u001b[39m1\u001b[39m, axis\u001b[39m=\u001b[39m\u001b[39m0\u001b[39m, fill_value\u001b[39m=\u001b[39m\u001b[39m0\u001b[39m) \u001b[39m# Shift back by one (compare days data with next days score)\u001b[39;00m\n\u001b[1;32m      3\u001b[0m df \u001b[39m=\u001b[39m df\u001b[39m.\u001b[39mjoin(df_next, rsuffix\u001b[39m=\u001b[39m\u001b[39m\"\u001b[39m\u001b[39m_next\u001b[39m\u001b[39m\"\u001b[39m)\n",
      "\u001b[0;31mNameError\u001b[0m: name 'df' is not defined"
     ]
    }
   ],
   "source": [
    "df_next = df['score'] # Create another subset of data to compare\n",
    "df_next = df_next.shift(periods=-1, axis=0, fill_value=0) # Shift back by one (compare days data with next days score)\n",
    "df = df.join(df_next, rsuffix=\"_next\") # Join to original df with a new name"
   ]
  },
  {
   "cell_type": "code",
   "execution_count": 14,
   "metadata": {},
   "outputs": [
    {
     "ename": "NameError",
     "evalue": "name 'df' is not defined",
     "output_type": "error",
     "traceback": [
      "\u001b[0;31m---------------------------------------------------------------------------\u001b[0m",
      "\u001b[0;31mNameError\u001b[0m                                 Traceback (most recent call last)",
      "Cell \u001b[0;32mIn [14], line 2\u001b[0m\n\u001b[1;32m      1\u001b[0m \u001b[39m# Here is the fast and easy way to plot correlations\u001b[39;00m\n\u001b[0;32m----> 2\u001b[0m corr \u001b[39m=\u001b[39m df\u001b[39m.\u001b[39mcorr()\n\u001b[1;32m      3\u001b[0m corr\u001b[39m.\u001b[39mstyle\u001b[39m.\u001b[39mbackground_gradient(cmap\u001b[39m=\u001b[39m\u001b[39m'\u001b[39m\u001b[39mcoolwarm\u001b[39m\u001b[39m'\u001b[39m)\n\u001b[1;32m      4\u001b[0m corr\u001b[39m.\u001b[39mstyle\u001b[39m.\u001b[39mbackground_gradient(cmap\u001b[39m=\u001b[39m\u001b[39m'\u001b[39m\u001b[39mcoolwarm\u001b[39m\u001b[39m'\u001b[39m)\u001b[39m.\u001b[39mset_precision(\u001b[39m2\u001b[39m)\n",
      "\u001b[0;31mNameError\u001b[0m: name 'df' is not defined"
     ]
    }
   ],
   "source": [
    "# Here is the fast and easy way to plot correlations\n",
    "corr = df.corr()\n",
    "corr.style.background_gradient(cmap='coolwarm')\n",
    "corr.style.background_gradient(cmap='coolwarm').set_precision(2)"
   ]
  },
  {
   "cell_type": "markdown",
   "metadata": {},
   "source": [
    "# Does my daily activity effect my next night's sleep score?"
   ]
  },
  {
   "cell_type": "code",
   "execution_count": 13,
   "metadata": {},
   "outputs": [
    {
     "ename": "NameError",
     "evalue": "name 'data' is not defined",
     "output_type": "error",
     "traceback": [
      "\u001b[0;31m---------------------------------------------------------------------------\u001b[0m",
      "\u001b[0;31mNameError\u001b[0m                                 Traceback (most recent call last)",
      "Cell \u001b[0;32mIn [13], line 1\u001b[0m\n\u001b[0;32m----> 1\u001b[0m full_activity_df \u001b[39m=\u001b[39m pd\u001b[39m.\u001b[39mDataFrame\u001b[39m.\u001b[39mfrom_dict(data[\u001b[39m'\u001b[39m\u001b[39mactivity\u001b[39m\u001b[39m'\u001b[39m])\n\u001b[1;32m      2\u001b[0m \u001b[39m# Index by summary_date aka day when activity period started, 4AM\u001b[39;00m\n\u001b[1;32m      3\u001b[0m full_activity_df[\u001b[39m'\u001b[39m\u001b[39mdatetime\u001b[39m\u001b[39m'\u001b[39m] \u001b[39m=\u001b[39m pd\u001b[39m.\u001b[39mto_datetime(full_activity_df[\u001b[39m'\u001b[39m\u001b[39msummary_date\u001b[39m\u001b[39m'\u001b[39m])\u001b[39m.\u001b[39mdt\u001b[39m.\u001b[39mnormalize()\n",
      "\u001b[0;31mNameError\u001b[0m: name 'data' is not defined"
     ]
    }
   ],
   "source": [
    "full_activity_df = pd.DataFrame.from_dict(data['activity'])\n",
    "# Index by summary_date aka day when activity period started, 4AM\n",
    "full_activity_df['datetime'] = pd.to_datetime(full_activity_df['summary_date']).dt.normalize()\n",
    "full_activity_df.head()\n",
    "full_activity_df = full_activity_df.set_index('datetime')\n",
    "full_activity_df.info()"
   ]
  },
  {
   "cell_type": "markdown",
   "metadata": {},
   "source": [
    "# Join activity with sleep score"
   ]
  },
  {
   "cell_type": "code",
   "execution_count": 12,
   "metadata": {},
   "outputs": [
    {
     "ename": "NameError",
     "evalue": "name 'df' is not defined",
     "output_type": "error",
     "traceback": [
      "\u001b[0;31m---------------------------------------------------------------------------\u001b[0m",
      "\u001b[0;31mNameError\u001b[0m                                 Traceback (most recent call last)",
      "Cell \u001b[0;32mIn [12], line 1\u001b[0m\n\u001b[0;32m----> 1\u001b[0m df_next \u001b[39m=\u001b[39m df[\u001b[39m'\u001b[39m\u001b[39mscore\u001b[39m\u001b[39m'\u001b[39m] \u001b[39m# Create another subset of data to compare\u001b[39;00m\n\u001b[1;32m      2\u001b[0m df_next \u001b[39m=\u001b[39m df_next\u001b[39m.\u001b[39mshift(periods\u001b[39m=\u001b[39m\u001b[39m-\u001b[39m\u001b[39m1\u001b[39m, axis\u001b[39m=\u001b[39m\u001b[39m0\u001b[39m, fill_value\u001b[39m=\u001b[39m\u001b[39m0\u001b[39m) \u001b[39m# Shift back by one (compare days data with next days score)\u001b[39;00m\n\u001b[1;32m      3\u001b[0m full_activity_df \u001b[39m=\u001b[39m full_activity_df\u001b[39m.\u001b[39mjoin(df_next, lsuffix\u001b[39m=\u001b[39m\u001b[39m'\u001b[39m\u001b[39m_activity\u001b[39m\u001b[39m'\u001b[39m, rsuffix\u001b[39m=\u001b[39m\u001b[39m'\u001b[39m\u001b[39m_sleep\u001b[39m\u001b[39m'\u001b[39m) \u001b[39m# Join to original df with a new name\u001b[39;00m\n",
      "\u001b[0;31mNameError\u001b[0m: name 'df' is not defined"
     ]
    }
   ],
   "source": [
    "df_next = df['score'] # Create another subset of data to compare\n",
    "df_next = df_next.shift(periods=-1, axis=0, fill_value=0) # Shift back by one (compare days data with next days score)\n",
    "full_activity_df = full_activity_df.join(df_next, lsuffix='_activity', rsuffix='_sleep') # Join to original df with a new name\n",
    "\n",
    "# Cleanup the data a bit by dropping NaN and 0 values\n",
    "full_activity_df = full_activity_df.dropna(subset=['score_sleep'])\n",
    "\n",
    "full_activity_df.head()\n",
    "\n"
   ]
  },
  {
   "cell_type": "code",
   "execution_count": 11,
   "metadata": {},
   "outputs": [
    {
     "ename": "NameError",
     "evalue": "name 'full_activity_df' is not defined",
     "output_type": "error",
     "traceback": [
      "\u001b[0;31m---------------------------------------------------------------------------\u001b[0m",
      "\u001b[0;31mNameError\u001b[0m                                 Traceback (most recent call last)",
      "Cell \u001b[0;32mIn [11], line 6\u001b[0m\n\u001b[1;32m      1\u001b[0m \u001b[39m#corr = full_activity_df.corr()\u001b[39;00m\n\u001b[1;32m      2\u001b[0m \u001b[39m#corr.style.background_gradient(cmap='coolwarm')\u001b[39;00m\n\u001b[1;32m      3\u001b[0m \u001b[39m#corr.style.background_gradient(cmap='coolwarm').set_precision(2)\u001b[39;00m\n\u001b[0;32m----> 6\u001b[0m corr \u001b[39m=\u001b[39m full_activity_df\u001b[39m.\u001b[39mcorr()[\u001b[39m'\u001b[39m\u001b[39mscore_sleep\u001b[39m\u001b[39m'\u001b[39m]\u001b[39m.\u001b[39msort_values()\n\u001b[1;32m      7\u001b[0m \u001b[39mwith\u001b[39;00m pd\u001b[39m.\u001b[39moption_context(\u001b[39m'\u001b[39m\u001b[39mdisplay.max_rows\u001b[39m\u001b[39m'\u001b[39m, \u001b[39mNone\u001b[39;00m, \u001b[39m'\u001b[39m\u001b[39mdisplay.max_columns\u001b[39m\u001b[39m'\u001b[39m, \u001b[39mNone\u001b[39;00m):  \u001b[39m# more options can be specified also\u001b[39;00m\n\u001b[1;32m      8\u001b[0m     \u001b[39mprint\u001b[39m(corr)\n",
      "\u001b[0;31mNameError\u001b[0m: name 'full_activity_df' is not defined"
     ]
    }
   ],
   "source": [
    "#corr = full_activity_df.corr()\n",
    "#corr.style.background_gradient(cmap='coolwarm')\n",
    "#corr.style.background_gradient(cmap='coolwarm').set_precision(2)\n",
    "\n",
    "\n",
    "corr = full_activity_df.corr()['score_sleep'].sort_values()\n",
    "with pd.option_context('display.max_rows', None, 'display.max_columns', None):  # more options can be specified also\n",
    "    print(corr)\n"
   ]
  },
  {
   "cell_type": "code",
   "execution_count": null,
   "metadata": {},
   "outputs": [],
   "source": []
  }
 ],
 "metadata": {
  "kernelspec": {
   "display_name": "Python 3.9.13 ('base')",
   "language": "python",
   "name": "python3"
  },
  "language_info": {
   "codemirror_mode": {
    "name": "ipython",
    "version": 3
   },
   "file_extension": ".py",
   "mimetype": "text/x-python",
   "name": "python",
   "nbconvert_exporter": "python",
   "pygments_lexer": "ipython3",
   "version": "3.9.13"
  },
  "vscode": {
   "interpreter": {
    "hash": "c6e4e9f98eb68ad3b7c296f83d20e6de614cb42e90992a65aa266555a3137d0d"
   }
  }
 },
 "nbformat": 4,
 "nbformat_minor": 4
}
