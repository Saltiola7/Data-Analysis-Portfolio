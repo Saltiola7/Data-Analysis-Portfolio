{
 "cells": [
  {
   "cell_type": "markdown",
   "metadata": {
    "id": "g1kO-KV-vX_8"
   },
   "source": [
    "## Questions\n",
    "How to sort 'Patient Id' column as \"P1, P2, P3 ,...\"\n"
   ]
  },
  {
   "cell_type": "markdown",
   "metadata": {
    "id": "g0YRiuS0ttam"
   },
   "source": [
    "# Upload the Cancer patient dataset into dataframe"
   ]
  },
  {
   "cell_type": "markdown",
   "metadata": {
    "id": "NZdSMrFgCu8I"
   },
   "source": [
    "https://towardsdatascience.com/3-ways-to-load-csv-files-into-colab-7c14fcbdcb92\n",
    "https://www.digitalocean.com/community/tutorials/python-io-bytesio-stringio"
   ]
  },
  {
   "cell_type": "markdown",
   "metadata": {
    "id": "YVKKUnpCtzHX"
   },
   "source": [
    "Import the dataset into a dataframe"
   ]
  },
  {
   "cell_type": "code",
   "execution_count": 1,
   "metadata": {},
   "outputs": [],
   "source": [
    "import pandas as pd\n",
    "df = pd.read_csv('cancer_patient_dataset.csv')"
   ]
  },
  {
   "cell_type": "code",
   "execution_count": 2,
   "metadata": {
    "colab": {
     "base_uri": "https://localhost:8080/",
     "height": 348
    },
    "id": "ytyEGrlcuIjh",
    "outputId": "e9ebca7d-7480-436e-94ff-93705fe1b49f"
   },
   "outputs": [
    {
     "data": {
      "text/html": [
       "<div>\n",
       "<style scoped>\n",
       "    .dataframe tbody tr th:only-of-type {\n",
       "        vertical-align: middle;\n",
       "    }\n",
       "\n",
       "    .dataframe tbody tr th {\n",
       "        vertical-align: top;\n",
       "    }\n",
       "\n",
       "    .dataframe thead th {\n",
       "        text-align: right;\n",
       "    }\n",
       "</style>\n",
       "<table border=\"1\" class=\"dataframe\">\n",
       "  <thead>\n",
       "    <tr style=\"text-align: right;\">\n",
       "      <th></th>\n",
       "      <th>Patient Id</th>\n",
       "      <th>Age</th>\n",
       "      <th>Gender</th>\n",
       "      <th>Air Pollution</th>\n",
       "      <th>Alcohol use</th>\n",
       "      <th>Dust Allergy</th>\n",
       "      <th>OccuPational Hazards</th>\n",
       "      <th>Genetic Risk</th>\n",
       "      <th>chronic Lung Disease</th>\n",
       "      <th>Balanced Diet</th>\n",
       "      <th>...</th>\n",
       "      <th>Fatigue</th>\n",
       "      <th>Weight Loss</th>\n",
       "      <th>Shortness of Breath</th>\n",
       "      <th>Wheezing</th>\n",
       "      <th>Swallowing Difficulty</th>\n",
       "      <th>Clubbing of Finger Nails</th>\n",
       "      <th>Frequent Cold</th>\n",
       "      <th>Dry Cough</th>\n",
       "      <th>Snoring</th>\n",
       "      <th>Level</th>\n",
       "    </tr>\n",
       "  </thead>\n",
       "  <tbody>\n",
       "    <tr>\n",
       "      <th>0</th>\n",
       "      <td>P1</td>\n",
       "      <td>33</td>\n",
       "      <td>1</td>\n",
       "      <td>2</td>\n",
       "      <td>4</td>\n",
       "      <td>5</td>\n",
       "      <td>4</td>\n",
       "      <td>3</td>\n",
       "      <td>2</td>\n",
       "      <td>2</td>\n",
       "      <td>...</td>\n",
       "      <td>3</td>\n",
       "      <td>4</td>\n",
       "      <td>2</td>\n",
       "      <td>2</td>\n",
       "      <td>3</td>\n",
       "      <td>1</td>\n",
       "      <td>2</td>\n",
       "      <td>3</td>\n",
       "      <td>4</td>\n",
       "      <td>Low</td>\n",
       "    </tr>\n",
       "    <tr>\n",
       "      <th>1</th>\n",
       "      <td>P10</td>\n",
       "      <td>17</td>\n",
       "      <td>1</td>\n",
       "      <td>3</td>\n",
       "      <td>1</td>\n",
       "      <td>5</td>\n",
       "      <td>3</td>\n",
       "      <td>4</td>\n",
       "      <td>2</td>\n",
       "      <td>2</td>\n",
       "      <td>...</td>\n",
       "      <td>1</td>\n",
       "      <td>3</td>\n",
       "      <td>7</td>\n",
       "      <td>8</td>\n",
       "      <td>6</td>\n",
       "      <td>2</td>\n",
       "      <td>1</td>\n",
       "      <td>7</td>\n",
       "      <td>2</td>\n",
       "      <td>Medium</td>\n",
       "    </tr>\n",
       "    <tr>\n",
       "      <th>2</th>\n",
       "      <td>P100</td>\n",
       "      <td>35</td>\n",
       "      <td>1</td>\n",
       "      <td>4</td>\n",
       "      <td>5</td>\n",
       "      <td>6</td>\n",
       "      <td>5</td>\n",
       "      <td>5</td>\n",
       "      <td>4</td>\n",
       "      <td>6</td>\n",
       "      <td>...</td>\n",
       "      <td>8</td>\n",
       "      <td>7</td>\n",
       "      <td>9</td>\n",
       "      <td>2</td>\n",
       "      <td>1</td>\n",
       "      <td>4</td>\n",
       "      <td>6</td>\n",
       "      <td>7</td>\n",
       "      <td>2</td>\n",
       "      <td>High</td>\n",
       "    </tr>\n",
       "    <tr>\n",
       "      <th>3</th>\n",
       "      <td>P1000</td>\n",
       "      <td>37</td>\n",
       "      <td>1</td>\n",
       "      <td>7</td>\n",
       "      <td>7</td>\n",
       "      <td>7</td>\n",
       "      <td>7</td>\n",
       "      <td>6</td>\n",
       "      <td>7</td>\n",
       "      <td>7</td>\n",
       "      <td>...</td>\n",
       "      <td>4</td>\n",
       "      <td>2</td>\n",
       "      <td>3</td>\n",
       "      <td>1</td>\n",
       "      <td>4</td>\n",
       "      <td>5</td>\n",
       "      <td>6</td>\n",
       "      <td>7</td>\n",
       "      <td>5</td>\n",
       "      <td>High</td>\n",
       "    </tr>\n",
       "    <tr>\n",
       "      <th>4</th>\n",
       "      <td>P101</td>\n",
       "      <td>46</td>\n",
       "      <td>1</td>\n",
       "      <td>6</td>\n",
       "      <td>8</td>\n",
       "      <td>7</td>\n",
       "      <td>7</td>\n",
       "      <td>7</td>\n",
       "      <td>6</td>\n",
       "      <td>7</td>\n",
       "      <td>...</td>\n",
       "      <td>3</td>\n",
       "      <td>2</td>\n",
       "      <td>4</td>\n",
       "      <td>1</td>\n",
       "      <td>4</td>\n",
       "      <td>2</td>\n",
       "      <td>4</td>\n",
       "      <td>2</td>\n",
       "      <td>3</td>\n",
       "      <td>High</td>\n",
       "    </tr>\n",
       "  </tbody>\n",
       "</table>\n",
       "<p>5 rows × 25 columns</p>\n",
       "</div>"
      ],
      "text/plain": [
       "  Patient Id  Age  Gender  Air Pollution  Alcohol use  Dust Allergy  \\\n",
       "0         P1   33       1              2            4             5   \n",
       "1        P10   17       1              3            1             5   \n",
       "2       P100   35       1              4            5             6   \n",
       "3      P1000   37       1              7            7             7   \n",
       "4       P101   46       1              6            8             7   \n",
       "\n",
       "   OccuPational Hazards  Genetic Risk  chronic Lung Disease  Balanced Diet  \\\n",
       "0                     4             3                     2              2   \n",
       "1                     3             4                     2              2   \n",
       "2                     5             5                     4              6   \n",
       "3                     7             6                     7              7   \n",
       "4                     7             7                     6              7   \n",
       "\n",
       "   ...  Fatigue  Weight Loss  Shortness of Breath  Wheezing  \\\n",
       "0  ...        3            4                    2         2   \n",
       "1  ...        1            3                    7         8   \n",
       "2  ...        8            7                    9         2   \n",
       "3  ...        4            2                    3         1   \n",
       "4  ...        3            2                    4         1   \n",
       "\n",
       "   Swallowing Difficulty  Clubbing of Finger Nails  Frequent Cold  Dry Cough  \\\n",
       "0                      3                         1              2          3   \n",
       "1                      6                         2              1          7   \n",
       "2                      1                         4              6          7   \n",
       "3                      4                         5              6          7   \n",
       "4                      4                         2              4          2   \n",
       "\n",
       "   Snoring   Level  \n",
       "0        4     Low  \n",
       "1        2  Medium  \n",
       "2        2    High  \n",
       "3        5    High  \n",
       "4        3    High  \n",
       "\n",
       "[5 rows x 25 columns]"
      ]
     },
     "execution_count": 2,
     "metadata": {},
     "output_type": "execute_result"
    }
   ],
   "source": [
    "df.head()"
   ]
  },
  {
   "cell_type": "markdown",
   "metadata": {
    "id": "bjh6ORlW4Yke"
   },
   "source": [
    "# Todo\n",
    "- Data Cleaning\n",
    "- Descriptive Statistics\n",
    "- Correlations\n",
    "\n",
    "# Objective\n",
    "What are the differences in symptoms and lifestyles between different ages and genders?\n",
    "\n"
   ]
  },
  {
   "cell_type": "markdown",
   "metadata": {
    "id": "SEQgidePAJ5y"
   },
   "source": [
    "# Data Cleaning"
   ]
  },
  {
   "cell_type": "markdown",
   "metadata": {
    "id": "FTGfN5UDE_Ba"
   },
   "source": [
    "## Missing data\n",
    "https://chartio.com/resources/tutorials/how-to-check-if-any-value-is-nan-in-a-pandas-dataframe/"
   ]
  },
  {
   "cell_type": "code",
   "execution_count": 3,
   "metadata": {
    "colab": {
     "base_uri": "https://localhost:8080/"
    },
    "id": "5KkL4M6EBCU9",
    "outputId": "2309221b-1db4-4514-9e32-ad3b9b1c3a10"
   },
   "outputs": [
    {
     "data": {
      "text/plain": [
       "0"
      ]
     },
     "execution_count": 3,
     "metadata": {},
     "output_type": "execute_result"
    }
   ],
   "source": [
    "df.isnull().sum().sum()"
   ]
  },
  {
   "cell_type": "markdown",
   "metadata": {
    "id": "gI7Qg0CpACDQ"
   },
   "source": [
    "## Remove duplicate rows based on all columns\n",
    "https://pandas.pydata.org/docs/reference/api/pandas.DataFrame.drop_duplicates.html"
   ]
  },
  {
   "cell_type": "code",
   "execution_count": 4,
   "metadata": {
    "id": "r2aTfylX_B4v"
   },
   "outputs": [],
   "source": [
    "dfnoduplicates = df.drop_duplicates()"
   ]
  },
  {
   "cell_type": "markdown",
   "metadata": {
    "id": "Nb5u_4x6AO7t"
   },
   "source": [
    "## Remove irrelevant columns:\n",
    "Bankar (2020) analyzed the same dataset for feature importance\n",
    "5 features irrelevant (chronic lung disease, weight loss, difficulty swallowing, frequent colds, dry cough)\n",
    "https://pandas.pydata.org/docs/reference/api/pandas.DataFrame.drop_duplicates.html"
   ]
  },
  {
   "cell_type": "code",
   "execution_count": 5,
   "metadata": {
    "colab": {
     "base_uri": "https://localhost:8080/"
    },
    "id": "p4PCcsgN856y",
    "outputId": "518c2cc4-483a-4423-a37b-50ec369618df"
   },
   "outputs": [
    {
     "data": {
      "text/plain": [
       "['Patient Id',\n",
       " 'Age',\n",
       " 'Gender',\n",
       " 'Air Pollution',\n",
       " 'Alcohol use',\n",
       " 'Dust Allergy',\n",
       " 'OccuPational Hazards',\n",
       " 'Genetic Risk',\n",
       " 'chronic Lung Disease',\n",
       " 'Balanced Diet',\n",
       " 'Obesity',\n",
       " 'Smoking',\n",
       " 'Passive Smoker',\n",
       " 'Chest Pain',\n",
       " 'Coughing of Blood',\n",
       " 'Fatigue',\n",
       " 'Weight Loss',\n",
       " 'Shortness of Breath',\n",
       " 'Wheezing',\n",
       " 'Swallowing Difficulty',\n",
       " 'Clubbing of Finger Nails',\n",
       " 'Frequent Cold',\n",
       " 'Dry Cough',\n",
       " 'Snoring',\n",
       " 'Level']"
      ]
     },
     "execution_count": 5,
     "metadata": {},
     "output_type": "execute_result"
    }
   ],
   "source": [
    "list(df.columns)"
   ]
  },
  {
   "cell_type": "code",
   "execution_count": 6,
   "metadata": {
    "id": "w6ESaM2y7zjw"
   },
   "outputs": [],
   "source": [
    "dfrelevant = dfnoduplicates.drop(['chronic Lung Disease', 'Weight Loss', 'Swallowing Difficulty', 'Frequent Cold', 'Dry Cough'], axis=1)"
   ]
  },
  {
   "cell_type": "code",
   "execution_count": 7,
   "metadata": {
    "colab": {
     "base_uri": "https://localhost:8080/"
    },
    "id": "6E4-tnRv-kZM",
    "outputId": "6a44e9be-25fd-40a7-c4c2-34aaa1934d9b"
   },
   "outputs": [
    {
     "data": {
      "text/plain": [
       "['Patient Id',\n",
       " 'Age',\n",
       " 'Gender',\n",
       " 'Air Pollution',\n",
       " 'Alcohol use',\n",
       " 'Dust Allergy',\n",
       " 'OccuPational Hazards',\n",
       " 'Genetic Risk',\n",
       " 'Balanced Diet',\n",
       " 'Obesity',\n",
       " 'Smoking',\n",
       " 'Passive Smoker',\n",
       " 'Chest Pain',\n",
       " 'Coughing of Blood',\n",
       " 'Fatigue',\n",
       " 'Shortness of Breath',\n",
       " 'Wheezing',\n",
       " 'Clubbing of Finger Nails',\n",
       " 'Snoring',\n",
       " 'Level']"
      ]
     },
     "execution_count": 7,
     "metadata": {},
     "output_type": "execute_result"
    }
   ],
   "source": [
    "list(dfrelevant.columns)"
   ]
  },
  {
   "cell_type": "markdown",
   "metadata": {
    "id": "92_nETHNA_ex"
   },
   "source": [
    "## Check for outliers"
   ]
  },
  {
   "cell_type": "markdown",
   "metadata": {
    "id": "AHO2sdXYLpfm"
   },
   "source": [
    "using boxplot https://pandas.pydata.org/docs/reference/api/pandas.DataFrame.boxplot.html"
   ]
  },
  {
   "cell_type": "code",
   "execution_count": 8,
   "metadata": {
    "colab": {
     "base_uri": "https://localhost:8080/",
     "height": 319
    },
    "id": "9z-1wyeVITu6",
    "outputId": "0fd3ef84-d9d8-430c-dc1b-d43e5692e1b9"
   },
   "outputs": [
    {
     "data": {
      "text/html": [
       "<div>\n",
       "<style scoped>\n",
       "    .dataframe tbody tr th:only-of-type {\n",
       "        vertical-align: middle;\n",
       "    }\n",
       "\n",
       "    .dataframe tbody tr th {\n",
       "        vertical-align: top;\n",
       "    }\n",
       "\n",
       "    .dataframe thead th {\n",
       "        text-align: right;\n",
       "    }\n",
       "</style>\n",
       "<table border=\"1\" class=\"dataframe\">\n",
       "  <thead>\n",
       "    <tr style=\"text-align: right;\">\n",
       "      <th></th>\n",
       "      <th>Patient Id</th>\n",
       "      <th>Age</th>\n",
       "      <th>Gender</th>\n",
       "      <th>Air Pollution</th>\n",
       "      <th>Alcohol use</th>\n",
       "      <th>Dust Allergy</th>\n",
       "      <th>OccuPational Hazards</th>\n",
       "      <th>Genetic Risk</th>\n",
       "      <th>Balanced Diet</th>\n",
       "      <th>Obesity</th>\n",
       "      <th>Smoking</th>\n",
       "      <th>Passive Smoker</th>\n",
       "      <th>Chest Pain</th>\n",
       "      <th>Coughing of Blood</th>\n",
       "      <th>Fatigue</th>\n",
       "      <th>Shortness of Breath</th>\n",
       "      <th>Wheezing</th>\n",
       "      <th>Clubbing of Finger Nails</th>\n",
       "      <th>Snoring</th>\n",
       "      <th>Level</th>\n",
       "    </tr>\n",
       "  </thead>\n",
       "  <tbody>\n",
       "    <tr>\n",
       "      <th>0</th>\n",
       "      <td>P1</td>\n",
       "      <td>33</td>\n",
       "      <td>1</td>\n",
       "      <td>2</td>\n",
       "      <td>4</td>\n",
       "      <td>5</td>\n",
       "      <td>4</td>\n",
       "      <td>3</td>\n",
       "      <td>2</td>\n",
       "      <td>4</td>\n",
       "      <td>3</td>\n",
       "      <td>2</td>\n",
       "      <td>2</td>\n",
       "      <td>4</td>\n",
       "      <td>3</td>\n",
       "      <td>2</td>\n",
       "      <td>2</td>\n",
       "      <td>1</td>\n",
       "      <td>4</td>\n",
       "      <td>Low</td>\n",
       "    </tr>\n",
       "    <tr>\n",
       "      <th>1</th>\n",
       "      <td>P10</td>\n",
       "      <td>17</td>\n",
       "      <td>1</td>\n",
       "      <td>3</td>\n",
       "      <td>1</td>\n",
       "      <td>5</td>\n",
       "      <td>3</td>\n",
       "      <td>4</td>\n",
       "      <td>2</td>\n",
       "      <td>2</td>\n",
       "      <td>2</td>\n",
       "      <td>4</td>\n",
       "      <td>2</td>\n",
       "      <td>3</td>\n",
       "      <td>1</td>\n",
       "      <td>7</td>\n",
       "      <td>8</td>\n",
       "      <td>2</td>\n",
       "      <td>2</td>\n",
       "      <td>Medium</td>\n",
       "    </tr>\n",
       "    <tr>\n",
       "      <th>2</th>\n",
       "      <td>P100</td>\n",
       "      <td>35</td>\n",
       "      <td>1</td>\n",
       "      <td>4</td>\n",
       "      <td>5</td>\n",
       "      <td>6</td>\n",
       "      <td>5</td>\n",
       "      <td>5</td>\n",
       "      <td>6</td>\n",
       "      <td>7</td>\n",
       "      <td>2</td>\n",
       "      <td>3</td>\n",
       "      <td>4</td>\n",
       "      <td>8</td>\n",
       "      <td>8</td>\n",
       "      <td>9</td>\n",
       "      <td>2</td>\n",
       "      <td>4</td>\n",
       "      <td>2</td>\n",
       "      <td>High</td>\n",
       "    </tr>\n",
       "    <tr>\n",
       "      <th>3</th>\n",
       "      <td>P1000</td>\n",
       "      <td>37</td>\n",
       "      <td>1</td>\n",
       "      <td>7</td>\n",
       "      <td>7</td>\n",
       "      <td>7</td>\n",
       "      <td>7</td>\n",
       "      <td>6</td>\n",
       "      <td>7</td>\n",
       "      <td>7</td>\n",
       "      <td>7</td>\n",
       "      <td>7</td>\n",
       "      <td>7</td>\n",
       "      <td>8</td>\n",
       "      <td>4</td>\n",
       "      <td>3</td>\n",
       "      <td>1</td>\n",
       "      <td>5</td>\n",
       "      <td>5</td>\n",
       "      <td>High</td>\n",
       "    </tr>\n",
       "    <tr>\n",
       "      <th>4</th>\n",
       "      <td>P101</td>\n",
       "      <td>46</td>\n",
       "      <td>1</td>\n",
       "      <td>6</td>\n",
       "      <td>8</td>\n",
       "      <td>7</td>\n",
       "      <td>7</td>\n",
       "      <td>7</td>\n",
       "      <td>7</td>\n",
       "      <td>7</td>\n",
       "      <td>8</td>\n",
       "      <td>7</td>\n",
       "      <td>7</td>\n",
       "      <td>9</td>\n",
       "      <td>3</td>\n",
       "      <td>4</td>\n",
       "      <td>1</td>\n",
       "      <td>2</td>\n",
       "      <td>3</td>\n",
       "      <td>High</td>\n",
       "    </tr>\n",
       "  </tbody>\n",
       "</table>\n",
       "</div>"
      ],
      "text/plain": [
       "  Patient Id  Age  Gender  Air Pollution  Alcohol use  Dust Allergy  \\\n",
       "0         P1   33       1              2            4             5   \n",
       "1        P10   17       1              3            1             5   \n",
       "2       P100   35       1              4            5             6   \n",
       "3      P1000   37       1              7            7             7   \n",
       "4       P101   46       1              6            8             7   \n",
       "\n",
       "   OccuPational Hazards  Genetic Risk  Balanced Diet  Obesity  Smoking  \\\n",
       "0                     4             3              2        4        3   \n",
       "1                     3             4              2        2        2   \n",
       "2                     5             5              6        7        2   \n",
       "3                     7             6              7        7        7   \n",
       "4                     7             7              7        7        8   \n",
       "\n",
       "   Passive Smoker  Chest Pain  Coughing of Blood  Fatigue  \\\n",
       "0               2           2                  4        3   \n",
       "1               4           2                  3        1   \n",
       "2               3           4                  8        8   \n",
       "3               7           7                  8        4   \n",
       "4               7           7                  9        3   \n",
       "\n",
       "   Shortness of Breath  Wheezing  Clubbing of Finger Nails  Snoring   Level  \n",
       "0                    2         2                         1        4     Low  \n",
       "1                    7         8                         2        2  Medium  \n",
       "2                    9         2                         4        2    High  \n",
       "3                    3         1                         5        5    High  \n",
       "4                    4         1                         2        3    High  "
      ]
     },
     "execution_count": 8,
     "metadata": {},
     "output_type": "execute_result"
    }
   ],
   "source": [
    "dfrelevant.head()"
   ]
  },
  {
   "cell_type": "markdown",
   "metadata": {
    "id": "dkHK7aCHJw1e"
   },
   "source": [
    "Removed patient ID, gender and level, Because these type of data do not have outliers"
   ]
  },
  {
   "cell_type": "code",
   "execution_count": 9,
   "metadata": {
    "id": "k1VHMSJOJu2R"
   },
   "outputs": [],
   "source": [
    "dfoutlier = dfrelevant.drop(['Patient Id', 'Gender', 'Level'], axis=1)"
   ]
  },
  {
   "cell_type": "markdown",
   "metadata": {
    "id": "X7wVYNsKKBub"
   },
   "source": [
    "List all columns"
   ]
  },
  {
   "cell_type": "code",
   "execution_count": 10,
   "metadata": {},
   "outputs": [],
   "source": [
    "dfoutlier.columns = dfoutlier.columns.str.replace(\" \", \"_\")"
   ]
  },
  {
   "cell_type": "code",
   "execution_count": 11,
   "metadata": {
    "colab": {
     "base_uri": "https://localhost:8080/"
    },
    "id": "63My5dvlKDqU",
    "outputId": "00b66f41-2dcf-460b-d0d3-46251dc2631a"
   },
   "outputs": [
    {
     "data": {
      "text/plain": [
       "['Age',\n",
       " 'Air_Pollution',\n",
       " 'Alcohol_use',\n",
       " 'Dust_Allergy',\n",
       " 'OccuPational_Hazards',\n",
       " 'Genetic_Risk',\n",
       " 'Balanced_Diet',\n",
       " 'Obesity',\n",
       " 'Smoking',\n",
       " 'Passive_Smoker',\n",
       " 'Chest_Pain',\n",
       " 'Coughing_of_Blood',\n",
       " 'Fatigue',\n",
       " 'Shortness_of_Breath',\n",
       " 'Wheezing',\n",
       " 'Clubbing_of_Finger_Nails',\n",
       " 'Snoring']"
      ]
     },
     "execution_count": 11,
     "metadata": {},
     "output_type": "execute_result"
    }
   ],
   "source": [
    "list(dfoutlier.columns)"
   ]
  },
  {
   "cell_type": "markdown",
   "metadata": {
    "id": "Q-9YC322LQb5"
   },
   "source": [
    "boxplotted age separately, since it doesn't scale well with other variables in same charts.\n",
    "Its the only outlier, but for age its natural."
   ]
  },
  {
   "cell_type": "code",
   "execution_count": 12,
   "metadata": {},
   "outputs": [],
   "source": [
    "import matplotlib as plt\n",
    "import numpy as np\n",
    "import pandas as pd"
   ]
  },
  {
   "cell_type": "code",
   "execution_count": 13,
   "metadata": {
    "colab": {
     "base_uri": "https://localhost:8080/",
     "height": 282
    },
    "id": "HcCaRABVJP62",
    "outputId": "2fc0ccaf-2bca-468c-842c-c850ec1e2378"
   },
   "outputs": [
    {
     "data": {
      "text/plain": [
       "<AxesSubplot:>"
      ]
     },
     "execution_count": 13,
     "metadata": {},
     "output_type": "execute_result"
    },
    {
     "data": {
      "image/png": "[encoded data removed]",
      "text/plain": [
       "<Figure size 640x480 with 1 Axes>"
      ]
     },
     "metadata": {},
     "output_type": "display_data"
    }
   ],
   "source": [
    "dfoutlier.boxplot(column=['Age'])"
   ]
  },
  {
   "cell_type": "code",
   "execution_count": 14,
   "metadata": {},
   "outputs": [],
   "source": [
    "import pandas as pd\n",
    "\n",
    "import matplotlib.pyplot as plt"
   ]
  },
  {
   "cell_type": "code",
   "execution_count": 15,
   "metadata": {
    "colab": {
     "base_uri": "https://localhost:8080/",
     "height": 282
    },
    "id": "XD72-WGJK5JK",
    "outputId": "95b277c7-79dc-4f13-b242-21db32fb1059"
   },
   "outputs": [
    {
     "data": {
      "image/png": "[encoded data removed]",
      "text/plain": [
       "<Figure size 640x480 with 1 Axes>"
      ]
     },
     "metadata": {},
     "output_type": "display_data"
    }
   ],
   "source": [
    "dfoutlier.boxplot(column=[\n",
    " 'Air_Pollution',\n",
    " 'Alcohol_use',\n",
    " 'Dust_Allergy',\n",
    " 'OccuPational_Hazards',\n",
    " 'Genetic_Risk',\n",
    " 'Balanced_Diet',\n",
    " 'Obesity',\n",
    " 'Smoking',\n",
    " 'Passive_Smoker',\n",
    " 'Chest_Pain',\n",
    " 'Coughing_of_Blood',\n",
    " 'Fatigue',\n",
    " 'Shortness_of_Breath',\n",
    " 'Wheezing',\n",
    " 'Clubbing_of_Finger_Nails',\n",
    " 'Snoring'\n",
    "])\n",
    "plt.show()"
   ]
  },
  {
   "cell_type": "markdown",
   "metadata": {
    "id": "zd3_9YjYCOFe"
   },
   "source": [
    "# Descriptive Statistics"
   ]
  },
  {
   "cell_type": "markdown",
   "metadata": {
    "id": "60dm-U_mxd43"
   },
   "source": []
  },
  {
   "cell_type": "code",
   "execution_count": 16,
   "metadata": {
    "colab": {
     "base_uri": "https://localhost:8080/",
     "height": 395
    },
    "id": "Nn6bNgY8CTrh",
    "outputId": "3fe543dc-ba5d-497d-839a-7f6a7ce96bd7"
   },
   "outputs": [
    {
     "data": {
      "text/html": [
       "<div>\n",
       "<style scoped>\n",
       "    .dataframe tbody tr th:only-of-type {\n",
       "        vertical-align: middle;\n",
       "    }\n",
       "\n",
       "    .dataframe tbody tr th {\n",
       "        vertical-align: top;\n",
       "    }\n",
       "\n",
       "    .dataframe thead th {\n",
       "        text-align: right;\n",
       "    }\n",
       "</style>\n",
       "<table border=\"1\" class=\"dataframe\">\n",
       "  <thead>\n",
       "    <tr style=\"text-align: right;\">\n",
       "      <th></th>\n",
       "      <th>Age</th>\n",
       "      <th>Gender</th>\n",
       "      <th>Air Pollution</th>\n",
       "      <th>Alcohol use</th>\n",
       "      <th>Dust Allergy</th>\n",
       "      <th>OccuPational Hazards</th>\n",
       "      <th>Genetic Risk</th>\n",
       "      <th>Balanced Diet</th>\n",
       "      <th>Obesity</th>\n",
       "      <th>Smoking</th>\n",
       "      <th>Passive Smoker</th>\n",
       "      <th>Chest Pain</th>\n",
       "      <th>Coughing of Blood</th>\n",
       "      <th>Fatigue</th>\n",
       "      <th>Shortness of Breath</th>\n",
       "      <th>Wheezing</th>\n",
       "      <th>Clubbing of Finger Nails</th>\n",
       "      <th>Snoring</th>\n",
       "    </tr>\n",
       "  </thead>\n",
       "  <tbody>\n",
       "    <tr>\n",
       "      <th>count</th>\n",
       "      <td>1000.000000</td>\n",
       "      <td>1000.000000</td>\n",
       "      <td>1000.0000</td>\n",
       "      <td>1000.000000</td>\n",
       "      <td>1000.000000</td>\n",
       "      <td>1000.000000</td>\n",
       "      <td>1000.000000</td>\n",
       "      <td>1000.000000</td>\n",
       "      <td>1000.000000</td>\n",
       "      <td>1000.000000</td>\n",
       "      <td>1000.000000</td>\n",
       "      <td>1000.000000</td>\n",
       "      <td>1000.000000</td>\n",
       "      <td>1000.000000</td>\n",
       "      <td>1000.000000</td>\n",
       "      <td>1000.000000</td>\n",
       "      <td>1000.000000</td>\n",
       "      <td>1000.000000</td>\n",
       "    </tr>\n",
       "    <tr>\n",
       "      <th>mean</th>\n",
       "      <td>37.174000</td>\n",
       "      <td>1.402000</td>\n",
       "      <td>3.8400</td>\n",
       "      <td>4.563000</td>\n",
       "      <td>5.165000</td>\n",
       "      <td>4.840000</td>\n",
       "      <td>4.580000</td>\n",
       "      <td>4.491000</td>\n",
       "      <td>4.465000</td>\n",
       "      <td>3.948000</td>\n",
       "      <td>4.195000</td>\n",
       "      <td>4.438000</td>\n",
       "      <td>4.859000</td>\n",
       "      <td>3.856000</td>\n",
       "      <td>4.240000</td>\n",
       "      <td>3.777000</td>\n",
       "      <td>3.923000</td>\n",
       "      <td>2.926000</td>\n",
       "    </tr>\n",
       "    <tr>\n",
       "      <th>std</th>\n",
       "      <td>12.005493</td>\n",
       "      <td>0.490547</td>\n",
       "      <td>2.0304</td>\n",
       "      <td>2.620477</td>\n",
       "      <td>1.980833</td>\n",
       "      <td>2.107805</td>\n",
       "      <td>2.126999</td>\n",
       "      <td>2.135528</td>\n",
       "      <td>2.124921</td>\n",
       "      <td>2.495902</td>\n",
       "      <td>2.311778</td>\n",
       "      <td>2.280209</td>\n",
       "      <td>2.427965</td>\n",
       "      <td>2.244616</td>\n",
       "      <td>2.285087</td>\n",
       "      <td>2.041921</td>\n",
       "      <td>2.388048</td>\n",
       "      <td>1.474686</td>\n",
       "    </tr>\n",
       "    <tr>\n",
       "      <th>min</th>\n",
       "      <td>14.000000</td>\n",
       "      <td>1.000000</td>\n",
       "      <td>1.0000</td>\n",
       "      <td>1.000000</td>\n",
       "      <td>1.000000</td>\n",
       "      <td>1.000000</td>\n",
       "      <td>1.000000</td>\n",
       "      <td>1.000000</td>\n",
       "      <td>1.000000</td>\n",
       "      <td>1.000000</td>\n",
       "      <td>1.000000</td>\n",
       "      <td>1.000000</td>\n",
       "      <td>1.000000</td>\n",
       "      <td>1.000000</td>\n",
       "      <td>1.000000</td>\n",
       "      <td>1.000000</td>\n",
       "      <td>1.000000</td>\n",
       "      <td>1.000000</td>\n",
       "    </tr>\n",
       "    <tr>\n",
       "      <th>25%</th>\n",
       "      <td>27.750000</td>\n",
       "      <td>1.000000</td>\n",
       "      <td>2.0000</td>\n",
       "      <td>2.000000</td>\n",
       "      <td>4.000000</td>\n",
       "      <td>3.000000</td>\n",
       "      <td>2.000000</td>\n",
       "      <td>2.000000</td>\n",
       "      <td>3.000000</td>\n",
       "      <td>2.000000</td>\n",
       "      <td>2.000000</td>\n",
       "      <td>2.000000</td>\n",
       "      <td>3.000000</td>\n",
       "      <td>2.000000</td>\n",
       "      <td>2.000000</td>\n",
       "      <td>2.000000</td>\n",
       "      <td>2.000000</td>\n",
       "      <td>2.000000</td>\n",
       "    </tr>\n",
       "    <tr>\n",
       "      <th>50%</th>\n",
       "      <td>36.000000</td>\n",
       "      <td>1.000000</td>\n",
       "      <td>3.0000</td>\n",
       "      <td>5.000000</td>\n",
       "      <td>6.000000</td>\n",
       "      <td>5.000000</td>\n",
       "      <td>5.000000</td>\n",
       "      <td>4.000000</td>\n",
       "      <td>4.000000</td>\n",
       "      <td>3.000000</td>\n",
       "      <td>4.000000</td>\n",
       "      <td>4.000000</td>\n",
       "      <td>4.000000</td>\n",
       "      <td>3.000000</td>\n",
       "      <td>4.000000</td>\n",
       "      <td>4.000000</td>\n",
       "      <td>4.000000</td>\n",
       "      <td>3.000000</td>\n",
       "    </tr>\n",
       "    <tr>\n",
       "      <th>75%</th>\n",
       "      <td>45.000000</td>\n",
       "      <td>2.000000</td>\n",
       "      <td>6.0000</td>\n",
       "      <td>7.000000</td>\n",
       "      <td>7.000000</td>\n",
       "      <td>7.000000</td>\n",
       "      <td>7.000000</td>\n",
       "      <td>7.000000</td>\n",
       "      <td>7.000000</td>\n",
       "      <td>7.000000</td>\n",
       "      <td>7.000000</td>\n",
       "      <td>7.000000</td>\n",
       "      <td>7.000000</td>\n",
       "      <td>5.000000</td>\n",
       "      <td>6.000000</td>\n",
       "      <td>5.000000</td>\n",
       "      <td>5.000000</td>\n",
       "      <td>4.000000</td>\n",
       "    </tr>\n",
       "    <tr>\n",
       "      <th>max</th>\n",
       "      <td>73.000000</td>\n",
       "      <td>2.000000</td>\n",
       "      <td>8.0000</td>\n",
       "      <td>8.000000</td>\n",
       "      <td>8.000000</td>\n",
       "      <td>8.000000</td>\n",
       "      <td>7.000000</td>\n",
       "      <td>7.000000</td>\n",
       "      <td>7.000000</td>\n",
       "      <td>8.000000</td>\n",
       "      <td>8.000000</td>\n",
       "      <td>9.000000</td>\n",
       "      <td>9.000000</td>\n",
       "      <td>9.000000</td>\n",
       "      <td>9.000000</td>\n",
       "      <td>8.000000</td>\n",
       "      <td>9.000000</td>\n",
       "      <td>7.000000</td>\n",
       "    </tr>\n",
       "  </tbody>\n",
       "</table>\n",
       "</div>"
      ],
      "text/plain": [
       "               Age       Gender  Air Pollution  Alcohol use  Dust Allergy  \\\n",
       "count  1000.000000  1000.000000      1000.0000  1000.000000   1000.000000   \n",
       "mean     37.174000     1.402000         3.8400     4.563000      5.165000   \n",
       "std      12.005493     0.490547         2.0304     2.620477      1.980833   \n",
       "min      14.000000     1.000000         1.0000     1.000000      1.000000   \n",
       "25%      27.750000     1.000000         2.0000     2.000000      4.000000   \n",
       "50%      36.000000     1.000000         3.0000     5.000000      6.000000   \n",
       "75%      45.000000     2.000000         6.0000     7.000000      7.000000   \n",
       "max      73.000000     2.000000         8.0000     8.000000      8.000000   \n",
       "\n",
       "       OccuPational Hazards  Genetic Risk  Balanced Diet      Obesity  \\\n",
       "count           1000.000000   1000.000000    1000.000000  1000.000000   \n",
       "mean               4.840000      4.580000       4.491000     4.465000   \n",
       "std                2.107805      2.126999       2.135528     2.124921   \n",
       "min                1.000000      1.000000       1.000000     1.000000   \n",
       "25%                3.000000      2.000000       2.000000     3.000000   \n",
       "50%                5.000000      5.000000       4.000000     4.000000   \n",
       "75%                7.000000      7.000000       7.000000     7.000000   \n",
       "max                8.000000      7.000000       7.000000     7.000000   \n",
       "\n",
       "           Smoking  Passive Smoker   Chest Pain  Coughing of Blood  \\\n",
       "count  1000.000000     1000.000000  1000.000000        1000.000000   \n",
       "mean      3.948000        4.195000     4.438000           4.859000   \n",
       "std       2.495902        2.311778     2.280209           2.427965   \n",
       "min       1.000000        1.000000     1.000000           1.000000   \n",
       "25%       2.000000        2.000000     2.000000           3.000000   \n",
       "50%       3.000000        4.000000     4.000000           4.000000   \n",
       "75%       7.000000        7.000000     7.000000           7.000000   \n",
       "max       8.000000        8.000000     9.000000           9.000000   \n",
       "\n",
       "           Fatigue  Shortness of Breath     Wheezing  \\\n",
       "count  1000.000000          1000.000000  1000.000000   \n",
       "mean      3.856000             4.240000     3.777000   \n",
       "std       2.244616             2.285087     2.041921   \n",
       "min       1.000000             1.000000     1.000000   \n",
       "25%       2.000000             2.000000     2.000000   \n",
       "50%       3.000000             4.000000     4.000000   \n",
       "75%       5.000000             6.000000     5.000000   \n",
       "max       9.000000             9.000000     8.000000   \n",
       "\n",
       "       Clubbing of Finger Nails      Snoring  \n",
       "count               1000.000000  1000.000000  \n",
       "mean                   3.923000     2.926000  \n",
       "std                    2.388048     1.474686  \n",
       "min                    1.000000     1.000000  \n",
       "25%                    2.000000     2.000000  \n",
       "50%                    4.000000     3.000000  \n",
       "75%                    5.000000     4.000000  \n",
       "max                    9.000000     7.000000  "
      ]
     },
     "execution_count": 16,
     "metadata": {},
     "output_type": "execute_result"
    }
   ],
   "source": [
    "dfrelevant.describe()"
   ]
  },
  {
   "cell_type": "markdown",
   "metadata": {
    "id": "v65Xs_W6xtmS"
   },
   "source": [
    "Replace 'Low', 'Medium', 'High' with 1, 2, 3 for Crosstabulation etc analysis\n",
    "https://pandas.pydata.org/docs/reference/api/pandas.DataFrame.replace.html"
   ]
  },
  {
   "cell_type": "code",
   "execution_count": 17,
   "metadata": {
    "colab": {
     "base_uri": "https://localhost:8080/"
    },
    "id": "4WkLlP6SRquu",
    "outputId": "9aa535f8-4aa4-41a1-b327-78c957909622"
   },
   "outputs": [
    {
     "data": {
      "text/plain": [
       "array(['Low', 'Medium', 'High'], dtype=object)"
      ]
     },
     "execution_count": 17,
     "metadata": {},
     "output_type": "execute_result"
    }
   ],
   "source": [
    "dfrelevant.Level.unique()"
   ]
  },
  {
   "cell_type": "code",
   "execution_count": 18,
   "metadata": {
    "id": "yVDgahWzSe4y"
   },
   "outputs": [],
   "source": [
    "dflevel=dfrelevant.replace(['Low', 'Medium', 'High'], [1, 2, 3])"
   ]
  },
  {
   "cell_type": "markdown",
   "metadata": {
    "id": "zDacj1U200I0"
   },
   "source": [
    "See correlations with different variables\n",
    "\n",
    "https://pandas.pydata.org/docs/reference/api/pandas.DataFrame.corr.html"
   ]
  },
  {
   "cell_type": "code",
   "execution_count": 19,
   "metadata": {
    "colab": {
     "base_uri": "https://localhost:8080/",
     "height": 855
    },
    "id": "XF9bDNEez43T",
    "outputId": "cfddc55c-6bba-4ecc-e5b6-99529f055d73"
   },
   "outputs": [
    {
     "data": {
      "text/html": [
       "<div>\n",
       "<style scoped>\n",
       "    .dataframe tbody tr th:only-of-type {\n",
       "        vertical-align: middle;\n",
       "    }\n",
       "\n",
       "    .dataframe tbody tr th {\n",
       "        vertical-align: top;\n",
       "    }\n",
       "\n",
       "    .dataframe thead th {\n",
       "        text-align: right;\n",
       "    }\n",
       "</style>\n",
       "<table border=\"1\" class=\"dataframe\">\n",
       "  <thead>\n",
       "    <tr style=\"text-align: right;\">\n",
       "      <th></th>\n",
       "      <th>Age</th>\n",
       "      <th>Gender</th>\n",
       "      <th>Air Pollution</th>\n",
       "      <th>Alcohol use</th>\n",
       "      <th>Dust Allergy</th>\n",
       "      <th>OccuPational Hazards</th>\n",
       "      <th>Genetic Risk</th>\n",
       "      <th>Balanced Diet</th>\n",
       "      <th>Obesity</th>\n",
       "      <th>Smoking</th>\n",
       "      <th>Passive Smoker</th>\n",
       "      <th>Chest Pain</th>\n",
       "      <th>Coughing of Blood</th>\n",
       "      <th>Fatigue</th>\n",
       "      <th>Shortness of Breath</th>\n",
       "      <th>Wheezing</th>\n",
       "      <th>Clubbing of Finger Nails</th>\n",
       "      <th>Snoring</th>\n",
       "      <th>Level</th>\n",
       "    </tr>\n",
       "  </thead>\n",
       "  <tbody>\n",
       "    <tr>\n",
       "      <th>Age</th>\n",
       "      <td>1.000000</td>\n",
       "      <td>-0.202086</td>\n",
       "      <td>0.099494</td>\n",
       "      <td>0.151742</td>\n",
       "      <td>0.035202</td>\n",
       "      <td>0.062177</td>\n",
       "      <td>0.073151</td>\n",
       "      <td>0.004863</td>\n",
       "      <td>0.034337</td>\n",
       "      <td>0.075333</td>\n",
       "      <td>0.004908</td>\n",
       "      <td>0.012864</td>\n",
       "      <td>0.053006</td>\n",
       "      <td>0.095059</td>\n",
       "      <td>0.035329</td>\n",
       "      <td>-0.095354</td>\n",
       "      <td>0.039258</td>\n",
       "      <td>-0.004700</td>\n",
       "      <td>0.060048</td>\n",
       "    </tr>\n",
       "    <tr>\n",
       "      <th>Gender</th>\n",
       "      <td>-0.202086</td>\n",
       "      <td>1.000000</td>\n",
       "      <td>-0.246912</td>\n",
       "      <td>-0.227636</td>\n",
       "      <td>-0.204312</td>\n",
       "      <td>-0.192343</td>\n",
       "      <td>-0.222727</td>\n",
       "      <td>-0.099741</td>\n",
       "      <td>-0.123813</td>\n",
       "      <td>-0.206924</td>\n",
       "      <td>-0.184826</td>\n",
       "      <td>-0.218426</td>\n",
       "      <td>-0.146505</td>\n",
       "      <td>-0.116467</td>\n",
       "      <td>-0.045972</td>\n",
       "      <td>-0.076304</td>\n",
       "      <td>-0.034219</td>\n",
       "      <td>-0.181618</td>\n",
       "      <td>-0.164985</td>\n",
       "    </tr>\n",
       "    <tr>\n",
       "      <th>Air Pollution</th>\n",
       "      <td>0.099494</td>\n",
       "      <td>-0.246912</td>\n",
       "      <td>1.000000</td>\n",
       "      <td>0.747293</td>\n",
       "      <td>0.637503</td>\n",
       "      <td>0.608924</td>\n",
       "      <td>0.705276</td>\n",
       "      <td>0.524873</td>\n",
       "      <td>0.601468</td>\n",
       "      <td>0.481902</td>\n",
       "      <td>0.606764</td>\n",
       "      <td>0.585734</td>\n",
       "      <td>0.607829</td>\n",
       "      <td>0.211724</td>\n",
       "      <td>0.269558</td>\n",
       "      <td>0.055368</td>\n",
       "      <td>0.241065</td>\n",
       "      <td>-0.021343</td>\n",
       "      <td>0.636038</td>\n",
       "    </tr>\n",
       "    <tr>\n",
       "      <th>Alcohol use</th>\n",
       "      <td>0.151742</td>\n",
       "      <td>-0.227636</td>\n",
       "      <td>0.747293</td>\n",
       "      <td>1.000000</td>\n",
       "      <td>0.818644</td>\n",
       "      <td>0.878786</td>\n",
       "      <td>0.877210</td>\n",
       "      <td>0.653352</td>\n",
       "      <td>0.669312</td>\n",
       "      <td>0.547035</td>\n",
       "      <td>0.592576</td>\n",
       "      <td>0.717242</td>\n",
       "      <td>0.667612</td>\n",
       "      <td>0.237245</td>\n",
       "      <td>0.435785</td>\n",
       "      <td>0.180817</td>\n",
       "      <td>0.414992</td>\n",
       "      <td>0.122694</td>\n",
       "      <td>0.718710</td>\n",
       "    </tr>\n",
       "    <tr>\n",
       "      <th>Dust Allergy</th>\n",
       "      <td>0.035202</td>\n",
       "      <td>-0.204312</td>\n",
       "      <td>0.637503</td>\n",
       "      <td>0.818644</td>\n",
       "      <td>1.000000</td>\n",
       "      <td>0.835860</td>\n",
       "      <td>0.787904</td>\n",
       "      <td>0.647197</td>\n",
       "      <td>0.700676</td>\n",
       "      <td>0.358691</td>\n",
       "      <td>0.560002</td>\n",
       "      <td>0.639983</td>\n",
       "      <td>0.625291</td>\n",
       "      <td>0.332472</td>\n",
       "      <td>0.518682</td>\n",
       "      <td>0.304850</td>\n",
       "      <td>0.345714</td>\n",
       "      <td>0.052844</td>\n",
       "      <td>0.713839</td>\n",
       "    </tr>\n",
       "    <tr>\n",
       "      <th>OccuPational Hazards</th>\n",
       "      <td>0.062177</td>\n",
       "      <td>-0.192343</td>\n",
       "      <td>0.608924</td>\n",
       "      <td>0.878786</td>\n",
       "      <td>0.835860</td>\n",
       "      <td>1.000000</td>\n",
       "      <td>0.893049</td>\n",
       "      <td>0.691509</td>\n",
       "      <td>0.722191</td>\n",
       "      <td>0.497693</td>\n",
       "      <td>0.555311</td>\n",
       "      <td>0.775619</td>\n",
       "      <td>0.645947</td>\n",
       "      <td>0.267844</td>\n",
       "      <td>0.366482</td>\n",
       "      <td>0.178925</td>\n",
       "      <td>0.366447</td>\n",
       "      <td>0.022916</td>\n",
       "      <td>0.673255</td>\n",
       "    </tr>\n",
       "    <tr>\n",
       "      <th>Genetic Risk</th>\n",
       "      <td>0.073151</td>\n",
       "      <td>-0.222727</td>\n",
       "      <td>0.705276</td>\n",
       "      <td>0.877210</td>\n",
       "      <td>0.787904</td>\n",
       "      <td>0.893049</td>\n",
       "      <td>1.000000</td>\n",
       "      <td>0.679905</td>\n",
       "      <td>0.729826</td>\n",
       "      <td>0.543259</td>\n",
       "      <td>0.609071</td>\n",
       "      <td>0.831751</td>\n",
       "      <td>0.632236</td>\n",
       "      <td>0.230530</td>\n",
       "      <td>0.458200</td>\n",
       "      <td>0.204973</td>\n",
       "      <td>0.357815</td>\n",
       "      <td>-0.056831</td>\n",
       "      <td>0.701303</td>\n",
       "    </tr>\n",
       "    <tr>\n",
       "      <th>Balanced Diet</th>\n",
       "      <td>0.004863</td>\n",
       "      <td>-0.099741</td>\n",
       "      <td>0.524873</td>\n",
       "      <td>0.653352</td>\n",
       "      <td>0.647197</td>\n",
       "      <td>0.691509</td>\n",
       "      <td>0.679905</td>\n",
       "      <td>1.000000</td>\n",
       "      <td>0.706922</td>\n",
       "      <td>0.645390</td>\n",
       "      <td>0.725123</td>\n",
       "      <td>0.798207</td>\n",
       "      <td>0.745054</td>\n",
       "      <td>0.400678</td>\n",
       "      <td>0.343623</td>\n",
       "      <td>0.063930</td>\n",
       "      <td>0.041967</td>\n",
       "      <td>0.152677</td>\n",
       "      <td>0.706273</td>\n",
       "    </tr>\n",
       "    <tr>\n",
       "      <th>Obesity</th>\n",
       "      <td>0.034337</td>\n",
       "      <td>-0.123813</td>\n",
       "      <td>0.601468</td>\n",
       "      <td>0.669312</td>\n",
       "      <td>0.700676</td>\n",
       "      <td>0.722191</td>\n",
       "      <td>0.729826</td>\n",
       "      <td>0.706922</td>\n",
       "      <td>1.000000</td>\n",
       "      <td>0.486795</td>\n",
       "      <td>0.681889</td>\n",
       "      <td>0.673150</td>\n",
       "      <td>0.814805</td>\n",
       "      <td>0.552788</td>\n",
       "      <td>0.406203</td>\n",
       "      <td>0.094287</td>\n",
       "      <td>0.149093</td>\n",
       "      <td>0.039422</td>\n",
       "      <td>0.827435</td>\n",
       "    </tr>\n",
       "    <tr>\n",
       "      <th>Smoking</th>\n",
       "      <td>0.075333</td>\n",
       "      <td>-0.206924</td>\n",
       "      <td>0.481902</td>\n",
       "      <td>0.547035</td>\n",
       "      <td>0.358691</td>\n",
       "      <td>0.497693</td>\n",
       "      <td>0.543259</td>\n",
       "      <td>0.645390</td>\n",
       "      <td>0.486795</td>\n",
       "      <td>1.000000</td>\n",
       "      <td>0.761622</td>\n",
       "      <td>0.647926</td>\n",
       "      <td>0.555289</td>\n",
       "      <td>0.200029</td>\n",
       "      <td>-0.023259</td>\n",
       "      <td>-0.047060</td>\n",
       "      <td>-0.041147</td>\n",
       "      <td>0.189055</td>\n",
       "      <td>0.519530</td>\n",
       "    </tr>\n",
       "    <tr>\n",
       "      <th>Passive Smoker</th>\n",
       "      <td>0.004908</td>\n",
       "      <td>-0.184826</td>\n",
       "      <td>0.606764</td>\n",
       "      <td>0.592576</td>\n",
       "      <td>0.560002</td>\n",
       "      <td>0.555311</td>\n",
       "      <td>0.609071</td>\n",
       "      <td>0.725123</td>\n",
       "      <td>0.681889</td>\n",
       "      <td>0.761622</td>\n",
       "      <td>1.000000</td>\n",
       "      <td>0.696077</td>\n",
       "      <td>0.636223</td>\n",
       "      <td>0.377919</td>\n",
       "      <td>0.062948</td>\n",
       "      <td>0.200283</td>\n",
       "      <td>-0.035536</td>\n",
       "      <td>0.247943</td>\n",
       "      <td>0.703594</td>\n",
       "    </tr>\n",
       "    <tr>\n",
       "      <th>Chest Pain</th>\n",
       "      <td>0.012864</td>\n",
       "      <td>-0.218426</td>\n",
       "      <td>0.585734</td>\n",
       "      <td>0.717242</td>\n",
       "      <td>0.639983</td>\n",
       "      <td>0.775619</td>\n",
       "      <td>0.831751</td>\n",
       "      <td>0.798207</td>\n",
       "      <td>0.673150</td>\n",
       "      <td>0.647926</td>\n",
       "      <td>0.696077</td>\n",
       "      <td>1.000000</td>\n",
       "      <td>0.712158</td>\n",
       "      <td>0.251135</td>\n",
       "      <td>0.237045</td>\n",
       "      <td>0.107211</td>\n",
       "      <td>0.081386</td>\n",
       "      <td>0.140036</td>\n",
       "      <td>0.645461</td>\n",
       "    </tr>\n",
       "    <tr>\n",
       "      <th>Coughing of Blood</th>\n",
       "      <td>0.053006</td>\n",
       "      <td>-0.146505</td>\n",
       "      <td>0.607829</td>\n",
       "      <td>0.667612</td>\n",
       "      <td>0.625291</td>\n",
       "      <td>0.645947</td>\n",
       "      <td>0.632236</td>\n",
       "      <td>0.745054</td>\n",
       "      <td>0.814805</td>\n",
       "      <td>0.555289</td>\n",
       "      <td>0.636223</td>\n",
       "      <td>0.712158</td>\n",
       "      <td>1.000000</td>\n",
       "      <td>0.481540</td>\n",
       "      <td>0.318777</td>\n",
       "      <td>-0.085698</td>\n",
       "      <td>-0.066443</td>\n",
       "      <td>0.087944</td>\n",
       "      <td>0.782092</td>\n",
       "    </tr>\n",
       "    <tr>\n",
       "      <th>Fatigue</th>\n",
       "      <td>0.095059</td>\n",
       "      <td>-0.116467</td>\n",
       "      <td>0.211724</td>\n",
       "      <td>0.237245</td>\n",
       "      <td>0.332472</td>\n",
       "      <td>0.267844</td>\n",
       "      <td>0.230530</td>\n",
       "      <td>0.400678</td>\n",
       "      <td>0.552788</td>\n",
       "      <td>0.200029</td>\n",
       "      <td>0.377919</td>\n",
       "      <td>0.251135</td>\n",
       "      <td>0.481540</td>\n",
       "      <td>1.000000</td>\n",
       "      <td>0.398625</td>\n",
       "      <td>0.174477</td>\n",
       "      <td>0.040694</td>\n",
       "      <td>0.231748</td>\n",
       "      <td>0.625114</td>\n",
       "    </tr>\n",
       "    <tr>\n",
       "      <th>Shortness of Breath</th>\n",
       "      <td>0.035329</td>\n",
       "      <td>-0.045972</td>\n",
       "      <td>0.269558</td>\n",
       "      <td>0.435785</td>\n",
       "      <td>0.518682</td>\n",
       "      <td>0.366482</td>\n",
       "      <td>0.458200</td>\n",
       "      <td>0.343623</td>\n",
       "      <td>0.406203</td>\n",
       "      <td>-0.023259</td>\n",
       "      <td>0.062948</td>\n",
       "      <td>0.237045</td>\n",
       "      <td>0.318777</td>\n",
       "      <td>0.398625</td>\n",
       "      <td>1.000000</td>\n",
       "      <td>0.207564</td>\n",
       "      <td>0.474275</td>\n",
       "      <td>-0.159291</td>\n",
       "      <td>0.497024</td>\n",
       "    </tr>\n",
       "    <tr>\n",
       "      <th>Wheezing</th>\n",
       "      <td>-0.095354</td>\n",
       "      <td>-0.076304</td>\n",
       "      <td>0.055368</td>\n",
       "      <td>0.180817</td>\n",
       "      <td>0.304850</td>\n",
       "      <td>0.178925</td>\n",
       "      <td>0.204973</td>\n",
       "      <td>0.063930</td>\n",
       "      <td>0.094287</td>\n",
       "      <td>-0.047060</td>\n",
       "      <td>0.200283</td>\n",
       "      <td>0.107211</td>\n",
       "      <td>-0.085698</td>\n",
       "      <td>0.174477</td>\n",
       "      <td>0.207564</td>\n",
       "      <td>1.000000</td>\n",
       "      <td>0.338271</td>\n",
       "      <td>0.116183</td>\n",
       "      <td>0.242794</td>\n",
       "    </tr>\n",
       "    <tr>\n",
       "      <th>Clubbing of Finger Nails</th>\n",
       "      <td>0.039258</td>\n",
       "      <td>-0.034219</td>\n",
       "      <td>0.241065</td>\n",
       "      <td>0.414992</td>\n",
       "      <td>0.345714</td>\n",
       "      <td>0.366447</td>\n",
       "      <td>0.357815</td>\n",
       "      <td>0.041967</td>\n",
       "      <td>0.149093</td>\n",
       "      <td>-0.041147</td>\n",
       "      <td>-0.035536</td>\n",
       "      <td>0.081386</td>\n",
       "      <td>-0.066443</td>\n",
       "      <td>0.040694</td>\n",
       "      <td>0.474275</td>\n",
       "      <td>0.338271</td>\n",
       "      <td>1.000000</td>\n",
       "      <td>-0.017537</td>\n",
       "      <td>0.280063</td>\n",
       "    </tr>\n",
       "    <tr>\n",
       "      <th>Snoring</th>\n",
       "      <td>-0.004700</td>\n",
       "      <td>-0.181618</td>\n",
       "      <td>-0.021343</td>\n",
       "      <td>0.122694</td>\n",
       "      <td>0.052844</td>\n",
       "      <td>0.022916</td>\n",
       "      <td>-0.056831</td>\n",
       "      <td>0.152677</td>\n",
       "      <td>0.039422</td>\n",
       "      <td>0.189055</td>\n",
       "      <td>0.247943</td>\n",
       "      <td>0.140036</td>\n",
       "      <td>0.087944</td>\n",
       "      <td>0.231748</td>\n",
       "      <td>-0.159291</td>\n",
       "      <td>0.116183</td>\n",
       "      <td>-0.017537</td>\n",
       "      <td>1.000000</td>\n",
       "      <td>0.289366</td>\n",
       "    </tr>\n",
       "    <tr>\n",
       "      <th>Level</th>\n",
       "      <td>0.060048</td>\n",
       "      <td>-0.164985</td>\n",
       "      <td>0.636038</td>\n",
       "      <td>0.718710</td>\n",
       "      <td>0.713839</td>\n",
       "      <td>0.673255</td>\n",
       "      <td>0.701303</td>\n",
       "      <td>0.706273</td>\n",
       "      <td>0.827435</td>\n",
       "      <td>0.519530</td>\n",
       "      <td>0.703594</td>\n",
       "      <td>0.645461</td>\n",
       "      <td>0.782092</td>\n",
       "      <td>0.625114</td>\n",
       "      <td>0.497024</td>\n",
       "      <td>0.242794</td>\n",
       "      <td>0.280063</td>\n",
       "      <td>0.289366</td>\n",
       "      <td>1.000000</td>\n",
       "    </tr>\n",
       "  </tbody>\n",
       "</table>\n",
       "</div>"
      ],
      "text/plain": [
       "                               Age    Gender  Air Pollution  Alcohol use  \\\n",
       "Age                       1.000000 -0.202086       0.099494     0.151742   \n",
       "Gender                   -0.202086  1.000000      -0.246912    -0.227636   \n",
       "Air Pollution             0.099494 -0.246912       1.000000     0.747293   \n",
       "Alcohol use               0.151742 -0.227636       0.747293     1.000000   \n",
       "Dust Allergy              0.035202 -0.204312       0.637503     0.818644   \n",
       "OccuPational Hazards      0.062177 -0.192343       0.608924     0.878786   \n",
       "Genetic Risk              0.073151 -0.222727       0.705276     0.877210   \n",
       "Balanced Diet             0.004863 -0.099741       0.524873     0.653352   \n",
       "Obesity                   0.034337 -0.123813       0.601468     0.669312   \n",
       "Smoking                   0.075333 -0.206924       0.481902     0.547035   \n",
       "Passive Smoker            0.004908 -0.184826       0.606764     0.592576   \n",
       "Chest Pain                0.012864 -0.218426       0.585734     0.717242   \n",
       "Coughing of Blood         0.053006 -0.146505       0.607829     0.667612   \n",
       "Fatigue                   0.095059 -0.116467       0.211724     0.237245   \n",
       "Shortness of Breath       0.035329 -0.045972       0.269558     0.435785   \n",
       "Wheezing                 -0.095354 -0.076304       0.055368     0.180817   \n",
       "Clubbing of Finger Nails  0.039258 -0.034219       0.241065     0.414992   \n",
       "Snoring                  -0.004700 -0.181618      -0.021343     0.122694   \n",
       "Level                     0.060048 -0.164985       0.636038     0.718710   \n",
       "\n",
       "                          Dust Allergy  OccuPational Hazards  Genetic Risk  \\\n",
       "Age                           0.035202              0.062177      0.073151   \n",
       "Gender                       -0.204312             -0.192343     -0.222727   \n",
       "Air Pollution                 0.637503              0.608924      0.705276   \n",
       "Alcohol use                   0.818644              0.878786      0.877210   \n",
       "Dust Allergy                  1.000000              0.835860      0.787904   \n",
       "OccuPational Hazards          0.835860              1.000000      0.893049   \n",
       "Genetic Risk                  0.787904              0.893049      1.000000   \n",
       "Balanced Diet                 0.647197              0.691509      0.679905   \n",
       "Obesity                       0.700676              0.722191      0.729826   \n",
       "Smoking                       0.358691              0.497693      0.543259   \n",
       "Passive Smoker                0.560002              0.555311      0.609071   \n",
       "Chest Pain                    0.639983              0.775619      0.831751   \n",
       "Coughing of Blood             0.625291              0.645947      0.632236   \n",
       "Fatigue                       0.332472              0.267844      0.230530   \n",
       "Shortness of Breath           0.518682              0.366482      0.458200   \n",
       "Wheezing                      0.304850              0.178925      0.204973   \n",
       "Clubbing of Finger Nails      0.345714              0.366447      0.357815   \n",
       "Snoring                       0.052844              0.022916     -0.056831   \n",
       "Level                         0.713839              0.673255      0.701303   \n",
       "\n",
       "                          Balanced Diet   Obesity   Smoking  Passive Smoker  \\\n",
       "Age                            0.004863  0.034337  0.075333        0.004908   \n",
       "Gender                        -0.099741 -0.123813 -0.206924       -0.184826   \n",
       "Air Pollution                  0.524873  0.601468  0.481902        0.606764   \n",
       "Alcohol use                    0.653352  0.669312  0.547035        0.592576   \n",
       "Dust Allergy                   0.647197  0.700676  0.358691        0.560002   \n",
       "OccuPational Hazards           0.691509  0.722191  0.497693        0.555311   \n",
       "Genetic Risk                   0.679905  0.729826  0.543259        0.609071   \n",
       "Balanced Diet                  1.000000  0.706922  0.645390        0.725123   \n",
       "Obesity                        0.706922  1.000000  0.486795        0.681889   \n",
       "Smoking                        0.645390  0.486795  1.000000        0.761622   \n",
       "Passive Smoker                 0.725123  0.681889  0.761622        1.000000   \n",
       "Chest Pain                     0.798207  0.673150  0.647926        0.696077   \n",
       "Coughing of Blood              0.745054  0.814805  0.555289        0.636223   \n",
       "Fatigue                        0.400678  0.552788  0.200029        0.377919   \n",
       "Shortness of Breath            0.343623  0.406203 -0.023259        0.062948   \n",
       "Wheezing                       0.063930  0.094287 -0.047060        0.200283   \n",
       "Clubbing of Finger Nails       0.041967  0.149093 -0.041147       -0.035536   \n",
       "Snoring                        0.152677  0.039422  0.189055        0.247943   \n",
       "Level                          0.706273  0.827435  0.519530        0.703594   \n",
       "\n",
       "                          Chest Pain  Coughing of Blood   Fatigue  \\\n",
       "Age                         0.012864           0.053006  0.095059   \n",
       "Gender                     -0.218426          -0.146505 -0.116467   \n",
       "Air Pollution               0.585734           0.607829  0.211724   \n",
       "Alcohol use                 0.717242           0.667612  0.237245   \n",
       "Dust Allergy                0.639983           0.625291  0.332472   \n",
       "OccuPational Hazards        0.775619           0.645947  0.267844   \n",
       "Genetic Risk                0.831751           0.632236  0.230530   \n",
       "Balanced Diet               0.798207           0.745054  0.400678   \n",
       "Obesity                     0.673150           0.814805  0.552788   \n",
       "Smoking                     0.647926           0.555289  0.200029   \n",
       "Passive Smoker              0.696077           0.636223  0.377919   \n",
       "Chest Pain                  1.000000           0.712158  0.251135   \n",
       "Coughing of Blood           0.712158           1.000000  0.481540   \n",
       "Fatigue                     0.251135           0.481540  1.000000   \n",
       "Shortness of Breath         0.237045           0.318777  0.398625   \n",
       "Wheezing                    0.107211          -0.085698  0.174477   \n",
       "Clubbing of Finger Nails    0.081386          -0.066443  0.040694   \n",
       "Snoring                     0.140036           0.087944  0.231748   \n",
       "Level                       0.645461           0.782092  0.625114   \n",
       "\n",
       "                          Shortness of Breath  Wheezing  \\\n",
       "Age                                  0.035329 -0.095354   \n",
       "Gender                              -0.045972 -0.076304   \n",
       "Air Pollution                        0.269558  0.055368   \n",
       "Alcohol use                          0.435785  0.180817   \n",
       "Dust Allergy                         0.518682  0.304850   \n",
       "OccuPational Hazards                 0.366482  0.178925   \n",
       "Genetic Risk                         0.458200  0.204973   \n",
       "Balanced Diet                        0.343623  0.063930   \n",
       "Obesity                              0.406203  0.094287   \n",
       "Smoking                             -0.023259 -0.047060   \n",
       "Passive Smoker                       0.062948  0.200283   \n",
       "Chest Pain                           0.237045  0.107211   \n",
       "Coughing of Blood                    0.318777 -0.085698   \n",
       "Fatigue                              0.398625  0.174477   \n",
       "Shortness of Breath                  1.000000  0.207564   \n",
       "Wheezing                             0.207564  1.000000   \n",
       "Clubbing of Finger Nails             0.474275  0.338271   \n",
       "Snoring                             -0.159291  0.116183   \n",
       "Level                                0.497024  0.242794   \n",
       "\n",
       "                          Clubbing of Finger Nails   Snoring     Level  \n",
       "Age                                       0.039258 -0.004700  0.060048  \n",
       "Gender                                   -0.034219 -0.181618 -0.164985  \n",
       "Air Pollution                             0.241065 -0.021343  0.636038  \n",
       "Alcohol use                               0.414992  0.122694  0.718710  \n",
       "Dust Allergy                              0.345714  0.052844  0.713839  \n",
       "OccuPational Hazards                      0.366447  0.022916  0.673255  \n",
       "Genetic Risk                              0.357815 -0.056831  0.701303  \n",
       "Balanced Diet                             0.041967  0.152677  0.706273  \n",
       "Obesity                                   0.149093  0.039422  0.827435  \n",
       "Smoking                                  -0.041147  0.189055  0.519530  \n",
       "Passive Smoker                           -0.035536  0.247943  0.703594  \n",
       "Chest Pain                                0.081386  0.140036  0.645461  \n",
       "Coughing of Blood                        -0.066443  0.087944  0.782092  \n",
       "Fatigue                                   0.040694  0.231748  0.625114  \n",
       "Shortness of Breath                       0.474275 -0.159291  0.497024  \n",
       "Wheezing                                  0.338271  0.116183  0.242794  \n",
       "Clubbing of Finger Nails                  1.000000 -0.017537  0.280063  \n",
       "Snoring                                  -0.017537  1.000000  0.289366  \n",
       "Level                                     0.280063  0.289366  1.000000  "
      ]
     },
     "execution_count": 19,
     "metadata": {},
     "output_type": "execute_result"
    }
   ],
   "source": [
    "dflevel.corr(method='pearson')"
   ]
  },
  {
   "cell_type": "markdown",
   "metadata": {
    "id": "SEgfzlQF3hxt"
   },
   "source": [
    "# Why does higher % of gender 1 have malignant tumours?\n",
    "\n"
   ]
  },
  {
   "cell_type": "markdown",
   "metadata": {
    "id": "OHzCj8md6HpU"
   },
   "source": [
    "## Gender & Cancer Level Crosstab"
   ]
  },
  {
   "cell_type": "code",
   "execution_count": 20,
   "metadata": {
    "colab": {
     "base_uri": "https://localhost:8080/",
     "height": 142
    },
    "id": "S-qkUs00QROu",
    "outputId": "fa55e1c6-a6c4-4d99-d065-303ec61243e9"
   },
   "outputs": [
    {
     "data": {
      "text/html": [
       "<div>\n",
       "<style scoped>\n",
       "    .dataframe tbody tr th:only-of-type {\n",
       "        vertical-align: middle;\n",
       "    }\n",
       "\n",
       "    .dataframe tbody tr th {\n",
       "        vertical-align: top;\n",
       "    }\n",
       "\n",
       "    .dataframe thead th {\n",
       "        text-align: right;\n",
       "    }\n",
       "</style>\n",
       "<table border=\"1\" class=\"dataframe\">\n",
       "  <thead>\n",
       "    <tr style=\"text-align: right;\">\n",
       "      <th>Level</th>\n",
       "      <th>High</th>\n",
       "      <th>Low</th>\n",
       "      <th>Medium</th>\n",
       "    </tr>\n",
       "    <tr>\n",
       "      <th>Gender</th>\n",
       "      <th></th>\n",
       "      <th></th>\n",
       "      <th></th>\n",
       "    </tr>\n",
       "  </thead>\n",
       "  <tbody>\n",
       "    <tr>\n",
       "      <th>1</th>\n",
       "      <td>0.421405</td>\n",
       "      <td>0.249164</td>\n",
       "      <td>0.329431</td>\n",
       "    </tr>\n",
       "    <tr>\n",
       "      <th>2</th>\n",
       "      <td>0.281095</td>\n",
       "      <td>0.383085</td>\n",
       "      <td>0.335821</td>\n",
       "    </tr>\n",
       "  </tbody>\n",
       "</table>\n",
       "</div>"
      ],
      "text/plain": [
       "Level       High       Low    Medium\n",
       "Gender                              \n",
       "1       0.421405  0.249164  0.329431\n",
       "2       0.281095  0.383085  0.335821"
      ]
     },
     "execution_count": 20,
     "metadata": {},
     "output_type": "execute_result"
    }
   ],
   "source": [
    "pd.crosstab(dfrelevant.Gender, [dfrelevant.Level], normalize='index')"
   ]
  },
  {
   "cell_type": "markdown",
   "metadata": {
    "id": "WxiFAZmn3gDt"
   },
   "source": [
    "42% of gender 1 have high-risk malignant cancer, compared to 28% of gender 2\n",
    "Can differences in lifestyle offer an explanation?\n"
   ]
  },
  {
   "cell_type": "markdown",
   "metadata": {
    "id": "AxuhKgXs6RNl"
   },
   "source": [
    "## Gender & Alcohol use"
   ]
  },
  {
   "cell_type": "code",
   "execution_count": 21,
   "metadata": {},
   "outputs": [],
   "source": [
    "dfrelevant.columns = dfrelevant.columns.str.replace(\" \", \"_\")"
   ]
  },
  {
   "cell_type": "code",
   "execution_count": 22,
   "metadata": {
    "colab": {
     "base_uri": "https://localhost:8080/",
     "height": 206
    },
    "id": "4WHqrSYd3ypu",
    "outputId": "54f08717-c04c-43e0-beb0-14532fe86a31"
   },
   "outputs": [
    {
     "data": {
      "text/html": [
       "<div>\n",
       "<style scoped>\n",
       "    .dataframe tbody tr th:only-of-type {\n",
       "        vertical-align: middle;\n",
       "    }\n",
       "\n",
       "    .dataframe tbody tr th {\n",
       "        vertical-align: top;\n",
       "    }\n",
       "\n",
       "    .dataframe thead th {\n",
       "        text-align: right;\n",
       "    }\n",
       "</style>\n",
       "<table border=\"1\" class=\"dataframe\">\n",
       "  <thead>\n",
       "    <tr style=\"text-align: right;\">\n",
       "      <th>Alcohol_use</th>\n",
       "      <th>1</th>\n",
       "      <th>2</th>\n",
       "      <th>3</th>\n",
       "      <th>4</th>\n",
       "      <th>5</th>\n",
       "      <th>6</th>\n",
       "      <th>7</th>\n",
       "      <th>8</th>\n",
       "    </tr>\n",
       "    <tr>\n",
       "      <th>Gender</th>\n",
       "      <th></th>\n",
       "      <th></th>\n",
       "      <th></th>\n",
       "      <th></th>\n",
       "      <th></th>\n",
       "      <th></th>\n",
       "      <th></th>\n",
       "      <th></th>\n",
       "    </tr>\n",
       "  </thead>\n",
       "  <tbody>\n",
       "    <tr>\n",
       "      <th>1</th>\n",
       "      <td>0.107023</td>\n",
       "      <td>0.137124</td>\n",
       "      <td>0.107023</td>\n",
       "      <td>0.066890</td>\n",
       "      <td>0.080268</td>\n",
       "      <td>0.050167</td>\n",
       "      <td>0.232441</td>\n",
       "      <td>0.219064</td>\n",
       "    </tr>\n",
       "    <tr>\n",
       "      <th>2</th>\n",
       "      <td>0.218905</td>\n",
       "      <td>0.298507</td>\n",
       "      <td>0.039801</td>\n",
       "      <td>0.002488</td>\n",
       "      <td>0.104478</td>\n",
       "      <td>0.124378</td>\n",
       "      <td>0.069652</td>\n",
       "      <td>0.141791</td>\n",
       "    </tr>\n",
       "  </tbody>\n",
       "</table>\n",
       "</div>"
      ],
      "text/plain": [
       "Alcohol_use         1         2         3         4         5         6  \\\n",
       "Gender                                                                    \n",
       "1            0.107023  0.137124  0.107023  0.066890  0.080268  0.050167   \n",
       "2            0.218905  0.298507  0.039801  0.002488  0.104478  0.124378   \n",
       "\n",
       "Alcohol_use         7         8  \n",
       "Gender                           \n",
       "1            0.232441  0.219064  \n",
       "2            0.069652  0.141791  "
      ]
     },
     "execution_count": 22,
     "metadata": {},
     "output_type": "execute_result"
    }
   ],
   "source": [
    "pd.crosstab(dfrelevant.Gender, [dfrelevant.Alcohol_use], normalize='index')"
   ]
  },
  {
   "cell_type": "markdown",
   "metadata": {
    "id": "iv4-OYc45V2m"
   },
   "source": [
    "45% of gender 1 in the two highest alcohol levels, compared to 21% of gender 2\n",
    "Possible link?\n"
   ]
  },
  {
   "cell_type": "markdown",
   "metadata": {
    "id": "hBXZC9Xb5jNm"
   },
   "source": [
    "## Gender & Air Pollution"
   ]
  },
  {
   "cell_type": "code",
   "execution_count": 23,
   "metadata": {
    "colab": {
     "base_uri": "https://localhost:8080/",
     "height": 206
    },
    "id": "oTd2ZH1C5l-4",
    "outputId": "a931972f-d5e3-4080-851e-f985b1c59412"
   },
   "outputs": [
    {
     "data": {
      "text/html": [
       "<div>\n",
       "<style scoped>\n",
       "    .dataframe tbody tr th:only-of-type {\n",
       "        vertical-align: middle;\n",
       "    }\n",
       "\n",
       "    .dataframe tbody tr th {\n",
       "        vertical-align: top;\n",
       "    }\n",
       "\n",
       "    .dataframe thead th {\n",
       "        text-align: right;\n",
       "    }\n",
       "</style>\n",
       "<table border=\"1\" class=\"dataframe\">\n",
       "  <thead>\n",
       "    <tr style=\"text-align: right;\">\n",
       "      <th>Air_Pollution</th>\n",
       "      <th>1</th>\n",
       "      <th>2</th>\n",
       "      <th>3</th>\n",
       "      <th>4</th>\n",
       "      <th>5</th>\n",
       "      <th>6</th>\n",
       "      <th>7</th>\n",
       "      <th>8</th>\n",
       "    </tr>\n",
       "    <tr>\n",
       "      <th>Gender</th>\n",
       "      <th></th>\n",
       "      <th></th>\n",
       "      <th></th>\n",
       "      <th></th>\n",
       "      <th></th>\n",
       "      <th></th>\n",
       "      <th></th>\n",
       "      <th></th>\n",
       "    </tr>\n",
       "  </thead>\n",
       "  <tbody>\n",
       "    <tr>\n",
       "      <th>1</th>\n",
       "      <td>0.070234</td>\n",
       "      <td>0.214047</td>\n",
       "      <td>0.150502</td>\n",
       "      <td>0.063545</td>\n",
       "      <td>0.016722</td>\n",
       "      <td>0.448161</td>\n",
       "      <td>0.020067</td>\n",
       "      <td>0.016722</td>\n",
       "    </tr>\n",
       "    <tr>\n",
       "      <th>2</th>\n",
       "      <td>0.246269</td>\n",
       "      <td>0.181592</td>\n",
       "      <td>0.206468</td>\n",
       "      <td>0.129353</td>\n",
       "      <td>0.024876</td>\n",
       "      <td>0.144279</td>\n",
       "      <td>0.044776</td>\n",
       "      <td>0.022388</td>\n",
       "    </tr>\n",
       "  </tbody>\n",
       "</table>\n",
       "</div>"
      ],
      "text/plain": [
       "Air_Pollution         1         2         3         4         5         6  \\\n",
       "Gender                                                                      \n",
       "1              0.070234  0.214047  0.150502  0.063545  0.016722  0.448161   \n",
       "2              0.246269  0.181592  0.206468  0.129353  0.024876  0.144279   \n",
       "\n",
       "Air_Pollution         7         8  \n",
       "Gender                             \n",
       "1              0.020067  0.016722  \n",
       "2              0.044776  0.022388  "
      ]
     },
     "execution_count": 23,
     "metadata": {},
     "output_type": "execute_result"
    }
   ],
   "source": [
    "pd.crosstab(dfrelevant.Gender, [dfrelevant.Air_Pollution], normalize='index')"
   ]
  },
  {
   "cell_type": "markdown",
   "metadata": {
    "id": "bM7dDf1b5xgs"
   },
   "source": [
    "48% of gender 1 exposed to three highest air pollution levels, compared to 21% of gender 2\n",
    "Another link?\n"
   ]
  },
  {
   "cell_type": "markdown",
   "metadata": {
    "id": "N0d6nw_650MX"
   },
   "source": [
    "## Gender & Genetic Risk"
   ]
  },
  {
   "cell_type": "code",
   "execution_count": 24,
   "metadata": {
    "colab": {
     "base_uri": "https://localhost:8080/",
     "height": 186
    },
    "id": "WCeC_V60523M",
    "outputId": "43329f57-a0f3-43b7-e82c-ef36ddbf7fc4"
   },
   "outputs": [
    {
     "data": {
      "text/html": [
       "<div>\n",
       "<style scoped>\n",
       "    .dataframe tbody tr th:only-of-type {\n",
       "        vertical-align: middle;\n",
       "    }\n",
       "\n",
       "    .dataframe tbody tr th {\n",
       "        vertical-align: top;\n",
       "    }\n",
       "\n",
       "    .dataframe thead th {\n",
       "        text-align: right;\n",
       "    }\n",
       "</style>\n",
       "<table border=\"1\" class=\"dataframe\">\n",
       "  <thead>\n",
       "    <tr style=\"text-align: right;\">\n",
       "      <th>Genetic_Risk</th>\n",
       "      <th>1</th>\n",
       "      <th>2</th>\n",
       "      <th>3</th>\n",
       "      <th>4</th>\n",
       "      <th>5</th>\n",
       "      <th>6</th>\n",
       "      <th>7</th>\n",
       "    </tr>\n",
       "    <tr>\n",
       "      <th>Gender</th>\n",
       "      <th></th>\n",
       "      <th></th>\n",
       "      <th></th>\n",
       "      <th></th>\n",
       "      <th></th>\n",
       "      <th></th>\n",
       "      <th></th>\n",
       "    </tr>\n",
       "  </thead>\n",
       "  <tbody>\n",
       "    <tr>\n",
       "      <th>1</th>\n",
       "      <td>0.048495</td>\n",
       "      <td>0.122074</td>\n",
       "      <td>0.163880</td>\n",
       "      <td>0.046823</td>\n",
       "      <td>0.102007</td>\n",
       "      <td>0.130435</td>\n",
       "      <td>0.386288</td>\n",
       "    </tr>\n",
       "    <tr>\n",
       "      <th>2</th>\n",
       "      <td>0.027363</td>\n",
       "      <td>0.345771</td>\n",
       "      <td>0.186567</td>\n",
       "      <td>0.029851</td>\n",
       "      <td>0.097015</td>\n",
       "      <td>0.074627</td>\n",
       "      <td>0.238806</td>\n",
       "    </tr>\n",
       "  </tbody>\n",
       "</table>\n",
       "</div>"
      ],
      "text/plain": [
       "Genetic_Risk         1         2         3         4         5         6  \\\n",
       "Gender                                                                     \n",
       "1             0.048495  0.122074  0.163880  0.046823  0.102007  0.130435   \n",
       "2             0.027363  0.345771  0.186567  0.029851  0.097015  0.074627   \n",
       "\n",
       "Genetic_Risk         7  \n",
       "Gender                  \n",
       "1             0.386288  \n",
       "2             0.238806  "
      ]
     },
     "execution_count": 24,
     "metadata": {},
     "output_type": "execute_result"
    }
   ],
   "source": [
    "pd.crosstab(dfrelevant.Gender, [dfrelevant.Genetic_Risk], normalize='index')"
   ]
  },
  {
   "cell_type": "markdown",
   "metadata": {
    "id": "jOK45FsO5-8S"
   },
   "source": [
    "52% of gender 1 fall into the two highest genetic risk levels, compared to 31% of gender 2\n",
    "Another explanation\n"
   ]
  },
  {
   "cell_type": "markdown",
   "metadata": {
    "id": "CQbOAMxA6aXz"
   },
   "source": [
    "# What other features may be linked to malignant tumours?\n"
   ]
  },
  {
   "cell_type": "markdown",
   "metadata": {
    "id": "yskoFG9N6c2c"
   },
   "source": [
    "## Cancer Level & Obesity"
   ]
  },
  {
   "cell_type": "code",
   "execution_count": 25,
   "metadata": {
    "colab": {
     "base_uri": "https://localhost:8080/",
     "height": 173
    },
    "id": "NWt1udQW6gIN",
    "outputId": "89085034-7825-4745-edf1-3ead6a605007"
   },
   "outputs": [
    {
     "data": {
      "text/html": [
       "<div>\n",
       "<style scoped>\n",
       "    .dataframe tbody tr th:only-of-type {\n",
       "        vertical-align: middle;\n",
       "    }\n",
       "\n",
       "    .dataframe tbody tr th {\n",
       "        vertical-align: top;\n",
       "    }\n",
       "\n",
       "    .dataframe thead th {\n",
       "        text-align: right;\n",
       "    }\n",
       "</style>\n",
       "<table border=\"1\" class=\"dataframe\">\n",
       "  <thead>\n",
       "    <tr style=\"text-align: right;\">\n",
       "      <th>Obesity</th>\n",
       "      <th>1</th>\n",
       "      <th>2</th>\n",
       "      <th>3</th>\n",
       "      <th>4</th>\n",
       "      <th>5</th>\n",
       "      <th>6</th>\n",
       "      <th>7</th>\n",
       "    </tr>\n",
       "    <tr>\n",
       "      <th>Level</th>\n",
       "      <th></th>\n",
       "      <th></th>\n",
       "      <th></th>\n",
       "      <th></th>\n",
       "      <th></th>\n",
       "      <th></th>\n",
       "      <th></th>\n",
       "    </tr>\n",
       "  </thead>\n",
       "  <tbody>\n",
       "    <tr>\n",
       "      <th>High</th>\n",
       "      <td>0.000000</td>\n",
       "      <td>0.000000</td>\n",
       "      <td>0.052055</td>\n",
       "      <td>0.027397</td>\n",
       "      <td>0.000000</td>\n",
       "      <td>0.027397</td>\n",
       "      <td>0.893151</td>\n",
       "    </tr>\n",
       "    <tr>\n",
       "      <th>Low</th>\n",
       "      <td>0.231023</td>\n",
       "      <td>0.330033</td>\n",
       "      <td>0.237624</td>\n",
       "      <td>0.201320</td>\n",
       "      <td>0.000000</td>\n",
       "      <td>0.000000</td>\n",
       "      <td>0.000000</td>\n",
       "    </tr>\n",
       "    <tr>\n",
       "      <th>Medium</th>\n",
       "      <td>0.000000</td>\n",
       "      <td>0.120482</td>\n",
       "      <td>0.307229</td>\n",
       "      <td>0.361446</td>\n",
       "      <td>0.060241</td>\n",
       "      <td>0.060241</td>\n",
       "      <td>0.090361</td>\n",
       "    </tr>\n",
       "  </tbody>\n",
       "</table>\n",
       "</div>"
      ],
      "text/plain": [
       "Obesity         1         2         3         4         5         6         7\n",
       "Level                                                                        \n",
       "High     0.000000  0.000000  0.052055  0.027397  0.000000  0.027397  0.893151\n",
       "Low      0.231023  0.330033  0.237624  0.201320  0.000000  0.000000  0.000000\n",
       "Medium   0.000000  0.120482  0.307229  0.361446  0.060241  0.060241  0.090361"
      ]
     },
     "execution_count": 25,
     "metadata": {},
     "output_type": "execute_result"
    }
   ],
   "source": [
    "pd.crosstab(dfrelevant.Level, [dfrelevant.Obesity], normalize='index')"
   ]
  },
  {
   "cell_type": "markdown",
   "metadata": {
    "id": "OF75uuYQ6s_x"
   },
   "source": [
    "89% of patients with high-risk malignant tumours also had highest obesity level.\n",
    "0% of low-risk healthy patients in the three highest obesity levels.\n"
   ]
  },
  {
   "cell_type": "markdown",
   "metadata": {
    "id": "nHPzWh8z68xr"
   },
   "source": [
    "## Age bins & Cancer Level\n",
    "\n",
    "\n"
   ]
  },
  {
   "cell_type": "code",
   "execution_count": 26,
   "metadata": {
    "id": "VPoLBpDV6_MO"
   },
   "outputs": [],
   "source": [
    "age_groups = pd.cut(dfrelevant.Age, bins=4)"
   ]
  },
  {
   "cell_type": "code",
   "execution_count": 27,
   "metadata": {
    "colab": {
     "base_uri": "https://localhost:8080/",
     "height": 204
    },
    "id": "6gQdsmX--euN",
    "outputId": "c46b6cf1-e652-4a82-c7cc-4a71f89a5318"
   },
   "outputs": [
    {
     "data": {
      "text/html": [
       "<div>\n",
       "<style scoped>\n",
       "    .dataframe tbody tr th:only-of-type {\n",
       "        vertical-align: middle;\n",
       "    }\n",
       "\n",
       "    .dataframe tbody tr th {\n",
       "        vertical-align: top;\n",
       "    }\n",
       "\n",
       "    .dataframe thead th {\n",
       "        text-align: right;\n",
       "    }\n",
       "</style>\n",
       "<table border=\"1\" class=\"dataframe\">\n",
       "  <thead>\n",
       "    <tr style=\"text-align: right;\">\n",
       "      <th>Gender</th>\n",
       "      <th>1</th>\n",
       "      <th>2</th>\n",
       "    </tr>\n",
       "    <tr>\n",
       "      <th>Age</th>\n",
       "      <th></th>\n",
       "      <th></th>\n",
       "    </tr>\n",
       "  </thead>\n",
       "  <tbody>\n",
       "    <tr>\n",
       "      <th>(13.941, 28.75]</th>\n",
       "      <td>137</td>\n",
       "      <td>145</td>\n",
       "    </tr>\n",
       "    <tr>\n",
       "      <th>(28.75, 43.5]</th>\n",
       "      <td>232</td>\n",
       "      <td>166</td>\n",
       "    </tr>\n",
       "    <tr>\n",
       "      <th>(43.5, 58.25]</th>\n",
       "      <td>161</td>\n",
       "      <td>88</td>\n",
       "    </tr>\n",
       "    <tr>\n",
       "      <th>(58.25, 73.0]</th>\n",
       "      <td>68</td>\n",
       "      <td>3</td>\n",
       "    </tr>\n",
       "  </tbody>\n",
       "</table>\n",
       "</div>"
      ],
      "text/plain": [
       "Gender             1    2\n",
       "Age                      \n",
       "(13.941, 28.75]  137  145\n",
       "(28.75, 43.5]    232  166\n",
       "(43.5, 58.25]    161   88\n",
       "(58.25, 73.0]     68    3"
      ]
     },
     "execution_count": 27,
     "metadata": {},
     "output_type": "execute_result"
    }
   ],
   "source": [
    "pd.crosstab(age_groups, dfrelevant['Gender'])"
   ]
  },
  {
   "cell_type": "code",
   "execution_count": 28,
   "metadata": {
    "colab": {
     "base_uri": "https://localhost:8080/",
     "height": 204
    },
    "id": "aUypj_8F_Bul",
    "outputId": "0d6af00d-31dc-426d-f331-2ffe25ac68bf"
   },
   "outputs": [
    {
     "data": {
      "text/html": [
       "<div>\n",
       "<style scoped>\n",
       "    .dataframe tbody tr th:only-of-type {\n",
       "        vertical-align: middle;\n",
       "    }\n",
       "\n",
       "    .dataframe tbody tr th {\n",
       "        vertical-align: top;\n",
       "    }\n",
       "\n",
       "    .dataframe thead th {\n",
       "        text-align: right;\n",
       "    }\n",
       "</style>\n",
       "<table border=\"1\" class=\"dataframe\">\n",
       "  <thead>\n",
       "    <tr style=\"text-align: right;\">\n",
       "      <th>Level</th>\n",
       "      <th>High</th>\n",
       "      <th>Low</th>\n",
       "      <th>Medium</th>\n",
       "    </tr>\n",
       "    <tr>\n",
       "      <th>Age</th>\n",
       "      <th></th>\n",
       "      <th></th>\n",
       "      <th></th>\n",
       "    </tr>\n",
       "  </thead>\n",
       "  <tbody>\n",
       "    <tr>\n",
       "      <th>(13.941, 28.75]</th>\n",
       "      <td>0.301418</td>\n",
       "      <td>0.453901</td>\n",
       "      <td>0.244681</td>\n",
       "    </tr>\n",
       "    <tr>\n",
       "      <th>(28.75, 43.5]</th>\n",
       "      <td>0.427136</td>\n",
       "      <td>0.226131</td>\n",
       "      <td>0.346734</td>\n",
       "    </tr>\n",
       "    <tr>\n",
       "      <th>(43.5, 58.25]</th>\n",
       "      <td>0.357430</td>\n",
       "      <td>0.261044</td>\n",
       "      <td>0.381526</td>\n",
       "    </tr>\n",
       "    <tr>\n",
       "      <th>(58.25, 73.0]</th>\n",
       "      <td>0.295775</td>\n",
       "      <td>0.281690</td>\n",
       "      <td>0.422535</td>\n",
       "    </tr>\n",
       "  </tbody>\n",
       "</table>\n",
       "</div>"
      ],
      "text/plain": [
       "Level                High       Low    Medium\n",
       "Age                                          \n",
       "(13.941, 28.75]  0.301418  0.453901  0.244681\n",
       "(28.75, 43.5]    0.427136  0.226131  0.346734\n",
       "(43.5, 58.25]    0.357430  0.261044  0.381526\n",
       "(58.25, 73.0]    0.295775  0.281690  0.422535"
      ]
     },
     "execution_count": 28,
     "metadata": {},
     "output_type": "execute_result"
    }
   ],
   "source": [
    "pd.crosstab(age_groups, [dfrelevant.Level], normalize='index')"
   ]
  },
  {
   "cell_type": "markdown",
   "metadata": {
    "id": "aDVzxRtd_Pl5"
   },
   "source": [
    "Majority of under 28.75 years old (45.4%) show no sign of cancer\n",
    "Majority of 28.75 to 43.5 years olds (42.7%) have high-risk malignant tumours.\n",
    "Risk of malignant tumours forming, or being detected, may increase as patients age from under 28.75 years old into 28.75 and to 43.5.\n"
   ]
  },
  {
   "cell_type": "markdown",
   "metadata": {
    "id": "cAk8pdhjAToa"
   },
   "source": [
    "There are many lifestyle differences between patient groups.\n",
    "These lifestyle differences may affect risk of cancer (gender 1 drinking more alcohol and exposed to higher levels of air pollution)\n",
    "Some patient groups are naturally at higher risk (higher % of gender 1 with higher genetic risk levels)\n",
    "Some features increase the risk of cancer, independent of patient group (obesity)\n",
    "Patient age also plays a role\n"
   ]
  },
  {
   "cell_type": "markdown",
   "metadata": {
    "id": "R9dk3p1DB0T9"
   },
   "source": [
    "# Normal Distribution"
   ]
  },
  {
   "cell_type": "code",
   "execution_count": 29,
   "metadata": {
    "colab": {
     "base_uri": "https://localhost:8080/",
     "height": 386
    },
    "id": "MEByE1qPB2wr",
    "outputId": "c1b94ad7-583f-4bd2-da04-51bbc1df5c5a"
   },
   "outputs": [
    {
     "data": {
      "text/plain": [
       "<seaborn.axisgrid.FacetGrid at 0x16c0f5580>"
      ]
     },
     "execution_count": 29,
     "metadata": {},
     "output_type": "execute_result"
    }
   ],
   "source": [
    "import seaborn as sns\n",
    "import numpy as np\n",
    "sns.displot(dfrelevant.Age, kde=True)"
   ]
  },
  {
   "cell_type": "markdown",
   "metadata": {
    "id": "9PMUHLgsE6Z9"
   },
   "source": [
    "Shapiro-Wilk Test\n",
    "https://towardsdatascience.com/normality-tests-in-python-31e04aa4f411\n",
    "\n",
    "https://docs.scipy.org/doc/scipy/reference/generated/scipy.stats.shapiro.html"
   ]
  },
  {
   "cell_type": "code",
   "execution_count": 30,
   "metadata": {
    "colab": {
     "base_uri": "https://localhost:8080/"
    },
    "id": "wgZWviJXEwXs",
    "outputId": "034fe817-8b3b-425f-bf00-c7b46b57cb57"
   },
   "outputs": [
    {
     "data": {
      "text/plain": [
       "ShapiroResult(statistic=0.9696499109268188, pvalue=1.335385523947713e-13)"
      ]
     },
     "execution_count": 30,
     "metadata": {},
     "output_type": "execute_result"
    }
   ],
   "source": [
    "from scipy import stats\n",
    "\n",
    "stats.shapiro(dfrelevant.Age)"
   ]
  },
  {
   "cell_type": "code",
   "execution_count": 31,
   "metadata": {
    "colab": {
     "base_uri": "https://localhost:8080/"
    },
    "id": "gQ8J12M5FrDZ",
    "outputId": "0816de32-fd97-484c-8204-7c524a1a84f6"
   },
   "outputs": [
    {
     "name": "stdout",
     "output_type": "stream",
     "text": [
      "stat=0.970, p=0.000\n",
      "\n",
      "Probably not Gaussian\n"
     ]
    }
   ],
   "source": [
    "from scipy.stats import shapiro\n",
    "data = dfrelevant.Age\n",
    "stat, p = shapiro(data)\n",
    "print ('stat=%.3f, p=%.3f\\n' % (stat, p))\n",
    "if p > 0.05:\n",
    "  print('Probably Gaussian')\n",
    "else:\n",
    "  print('Probably not Gaussian')"
   ]
  },
  {
   "cell_type": "code",
   "execution_count": 32,
   "metadata": {},
   "outputs": [
    {
     "data": {
      "text/html": [
       "<div>\n",
       "<style scoped>\n",
       "    .dataframe tbody tr th:only-of-type {\n",
       "        vertical-align: middle;\n",
       "    }\n",
       "\n",
       "    .dataframe tbody tr th {\n",
       "        vertical-align: top;\n",
       "    }\n",
       "\n",
       "    .dataframe thead th {\n",
       "        text-align: right;\n",
       "    }\n",
       "</style>\n",
       "<table border=\"1\" class=\"dataframe\">\n",
       "  <thead>\n",
       "    <tr style=\"text-align: right;\">\n",
       "      <th></th>\n",
       "      <th>Patient_Id</th>\n",
       "      <th>Age</th>\n",
       "      <th>Gender</th>\n",
       "      <th>Air_Pollution</th>\n",
       "      <th>Alcohol_use</th>\n",
       "      <th>Dust_Allergy</th>\n",
       "      <th>OccuPational_Hazards</th>\n",
       "      <th>Genetic_Risk</th>\n",
       "      <th>Balanced_Diet</th>\n",
       "      <th>Obesity</th>\n",
       "      <th>Smoking</th>\n",
       "      <th>Passive_Smoker</th>\n",
       "      <th>Chest_Pain</th>\n",
       "      <th>Coughing_of_Blood</th>\n",
       "      <th>Fatigue</th>\n",
       "      <th>Shortness_of_Breath</th>\n",
       "      <th>Wheezing</th>\n",
       "      <th>Clubbing_of_Finger_Nails</th>\n",
       "      <th>Snoring</th>\n",
       "      <th>Level</th>\n",
       "    </tr>\n",
       "  </thead>\n",
       "  <tbody>\n",
       "    <tr>\n",
       "      <th>0</th>\n",
       "      <td>P1</td>\n",
       "      <td>33</td>\n",
       "      <td>1</td>\n",
       "      <td>2</td>\n",
       "      <td>4</td>\n",
       "      <td>5</td>\n",
       "      <td>4</td>\n",
       "      <td>3</td>\n",
       "      <td>2</td>\n",
       "      <td>4</td>\n",
       "      <td>3</td>\n",
       "      <td>2</td>\n",
       "      <td>2</td>\n",
       "      <td>4</td>\n",
       "      <td>3</td>\n",
       "      <td>2</td>\n",
       "      <td>2</td>\n",
       "      <td>1</td>\n",
       "      <td>4</td>\n",
       "      <td>Low</td>\n",
       "    </tr>\n",
       "    <tr>\n",
       "      <th>1</th>\n",
       "      <td>P10</td>\n",
       "      <td>17</td>\n",
       "      <td>1</td>\n",
       "      <td>3</td>\n",
       "      <td>1</td>\n",
       "      <td>5</td>\n",
       "      <td>3</td>\n",
       "      <td>4</td>\n",
       "      <td>2</td>\n",
       "      <td>2</td>\n",
       "      <td>2</td>\n",
       "      <td>4</td>\n",
       "      <td>2</td>\n",
       "      <td>3</td>\n",
       "      <td>1</td>\n",
       "      <td>7</td>\n",
       "      <td>8</td>\n",
       "      <td>2</td>\n",
       "      <td>2</td>\n",
       "      <td>Medium</td>\n",
       "    </tr>\n",
       "    <tr>\n",
       "      <th>2</th>\n",
       "      <td>P100</td>\n",
       "      <td>35</td>\n",
       "      <td>1</td>\n",
       "      <td>4</td>\n",
       "      <td>5</td>\n",
       "      <td>6</td>\n",
       "      <td>5</td>\n",
       "      <td>5</td>\n",
       "      <td>6</td>\n",
       "      <td>7</td>\n",
       "      <td>2</td>\n",
       "      <td>3</td>\n",
       "      <td>4</td>\n",
       "      <td>8</td>\n",
       "      <td>8</td>\n",
       "      <td>9</td>\n",
       "      <td>2</td>\n",
       "      <td>4</td>\n",
       "      <td>2</td>\n",
       "      <td>High</td>\n",
       "    </tr>\n",
       "    <tr>\n",
       "      <th>3</th>\n",
       "      <td>P1000</td>\n",
       "      <td>37</td>\n",
       "      <td>1</td>\n",
       "      <td>7</td>\n",
       "      <td>7</td>\n",
       "      <td>7</td>\n",
       "      <td>7</td>\n",
       "      <td>6</td>\n",
       "      <td>7</td>\n",
       "      <td>7</td>\n",
       "      <td>7</td>\n",
       "      <td>7</td>\n",
       "      <td>7</td>\n",
       "      <td>8</td>\n",
       "      <td>4</td>\n",
       "      <td>3</td>\n",
       "      <td>1</td>\n",
       "      <td>5</td>\n",
       "      <td>5</td>\n",
       "      <td>High</td>\n",
       "    </tr>\n",
       "    <tr>\n",
       "      <th>4</th>\n",
       "      <td>P101</td>\n",
       "      <td>46</td>\n",
       "      <td>1</td>\n",
       "      <td>6</td>\n",
       "      <td>8</td>\n",
       "      <td>7</td>\n",
       "      <td>7</td>\n",
       "      <td>7</td>\n",
       "      <td>7</td>\n",
       "      <td>7</td>\n",
       "      <td>8</td>\n",
       "      <td>7</td>\n",
       "      <td>7</td>\n",
       "      <td>9</td>\n",
       "      <td>3</td>\n",
       "      <td>4</td>\n",
       "      <td>1</td>\n",
       "      <td>2</td>\n",
       "      <td>3</td>\n",
       "      <td>High</td>\n",
       "    </tr>\n",
       "  </tbody>\n",
       "</table>\n",
       "</div>"
      ],
      "text/plain": [
       "  Patient_Id  Age  Gender  Air_Pollution  Alcohol_use  Dust_Allergy  \\\n",
       "0         P1   33       1              2            4             5   \n",
       "1        P10   17       1              3            1             5   \n",
       "2       P100   35       1              4            5             6   \n",
       "3      P1000   37       1              7            7             7   \n",
       "4       P101   46       1              6            8             7   \n",
       "\n",
       "   OccuPational_Hazards  Genetic_Risk  Balanced_Diet  Obesity  Smoking  \\\n",
       "0                     4             3              2        4        3   \n",
       "1                     3             4              2        2        2   \n",
       "2                     5             5              6        7        2   \n",
       "3                     7             6              7        7        7   \n",
       "4                     7             7              7        7        8   \n",
       "\n",
       "   Passive_Smoker  Chest_Pain  Coughing_of_Blood  Fatigue  \\\n",
       "0               2           2                  4        3   \n",
       "1               4           2                  3        1   \n",
       "2               3           4                  8        8   \n",
       "3               7           7                  8        4   \n",
       "4               7           7                  9        3   \n",
       "\n",
       "   Shortness_of_Breath  Wheezing  Clubbing_of_Finger_Nails  Snoring   Level  \n",
       "0                    2         2                         1        4     Low  \n",
       "1                    7         8                         2        2  Medium  \n",
       "2                    9         2                         4        2    High  \n",
       "3                    3         1                         5        5    High  \n",
       "4                    4         1                         2        3    High  "
      ]
     },
     "execution_count": 32,
     "metadata": {},
     "output_type": "execute_result"
    }
   ],
   "source": [
    "dfrelevant.head()"
   ]
  },
  {
   "cell_type": "code",
   "execution_count": 33,
   "metadata": {
    "id": "gR4pRwcSJ0GO"
   },
   "outputs": [],
   "source": [
    "dfnormality = dfrelevant.drop(['Level', 'Patient_Id'], axis=1)\n",
    "dfrelevant.columns = dfrelevant.columns.str.replace(\" \", \"_\")\n",
    "from scipy import stats"
   ]
  },
  {
   "cell_type": "markdown",
   "metadata": {
    "id": "zuvvoPQJLJWb"
   },
   "source": [
    "H0= The sample comes from a normal distribution.\n",
    "\n",
    "HA=The sample is not coming from a normal distribution.\n",
    "\n",
    "Below we can see again all variables are not normally distributed as the null hypothesis is rejected\n",
    "As alpha is set to 0.05, the p-values from are less than alpha"
   ]
  },
  {
   "cell_type": "code",
   "execution_count": 34,
   "metadata": {
    "colab": {
     "base_uri": "https://localhost:8080/"
    },
    "id": "Tk0ITDytIuOT",
    "outputId": "129d6210-5359-414a-c5b4-651d7f23fdbe"
   },
   "outputs": [
    {
     "name": "stdout",
     "output_type": "stream",
     "text": [
      "0      33\n",
      "1      17\n",
      "2      35\n",
      "3      37\n",
      "4      46\n",
      "       ..\n",
      "995    44\n",
      "996    37\n",
      "997    25\n",
      "998    18\n",
      "999    47\n",
      "Name: Age, Length: 1000, dtype: int64\n",
      "Statistics 0.9696499109268188 p-value 1.335385523947713e-13\n",
      "The null hypothesis can be rejected\n",
      "0      1\n",
      "1      1\n",
      "2      1\n",
      "3      1\n",
      "4      1\n",
      "      ..\n",
      "995    1\n",
      "996    2\n",
      "997    2\n",
      "998    2\n",
      "999    1\n",
      "Name: Gender, Length: 1000, dtype: int64\n",
      "Statistics 0.6224683523178101 p-value 3.817137016820802e-42\n",
      "The null hypothesis can be rejected\n",
      "0      2\n",
      "1      3\n",
      "2      4\n",
      "3      7\n",
      "4      6\n",
      "      ..\n",
      "995    6\n",
      "996    6\n",
      "997    4\n",
      "998    6\n",
      "999    6\n",
      "Name: Air_Pollution, Length: 1000, dtype: int64\n",
      "Statistics 0.8779666423797607 p-value 2.777727351295906e-27\n",
      "The null hypothesis can be rejected\n",
      "0      4\n",
      "1      1\n",
      "2      5\n",
      "3      7\n",
      "4      8\n",
      "      ..\n",
      "995    7\n",
      "996    8\n",
      "997    5\n",
      "998    8\n",
      "999    5\n",
      "Name: Alcohol_use, Length: 1000, dtype: int64\n",
      "Statistics 0.8637402057647705 p-value 1.3841612769474885e-28\n",
      "The null hypothesis can be rejected\n",
      "0      5\n",
      "1      5\n",
      "2      6\n",
      "3      7\n",
      "4      7\n",
      "      ..\n",
      "995    7\n",
      "996    7\n",
      "997    6\n",
      "998    7\n",
      "999    6\n",
      "Name: Dust_Allergy, Length: 1000, dtype: int64\n",
      "Statistics 0.8498451709747314 p-value 9.281172258725307e-30\n",
      "The null hypothesis can be rejected\n",
      "0      4\n",
      "1      3\n",
      "2      5\n",
      "3      7\n",
      "4      7\n",
      "      ..\n",
      "995    7\n",
      "996    7\n",
      "997    5\n",
      "998    7\n",
      "999    5\n",
      "Name: OccuPational_Hazards, Length: 1000, dtype: int64\n",
      "Statistics 0.875111997127533 p-value 1.4901086572664233e-27\n",
      "The null hypothesis can be rejected\n",
      "0      3\n",
      "1      4\n",
      "2      5\n",
      "3      6\n",
      "4      7\n",
      "      ..\n",
      "995    7\n",
      "996    7\n",
      "997    5\n",
      "998    7\n",
      "999    5\n",
      "Name: Genetic_Risk, Length: 1000, dtype: int64\n",
      "Statistics 0.8404302000999451 p-value 1.6592371714964056e-30\n",
      "The null hypothesis can be rejected\n",
      "0      2\n",
      "1      2\n",
      "2      6\n",
      "3      7\n",
      "4      7\n",
      "      ..\n",
      "995    7\n",
      "996    7\n",
      "997    6\n",
      "998    7\n",
      "999    6\n",
      "Name: Balanced_Diet, Length: 1000, dtype: int64\n",
      "Statistics 0.8373929262161255 p-value 9.685167849927776e-31\n",
      "The null hypothesis can be rejected\n",
      "0      4\n",
      "1      2\n",
      "2      7\n",
      "3      7\n",
      "4      7\n",
      "      ..\n",
      "995    7\n",
      "996    7\n",
      "997    7\n",
      "998    7\n",
      "999    7\n",
      "Name: Obesity, Length: 1000, dtype: int64\n",
      "Statistics 0.8451278805732727 p-value 3.877209941667469e-30\n",
      "The null hypothesis can be rejected\n",
      "0      3\n",
      "1      2\n",
      "2      2\n",
      "3      7\n",
      "4      8\n",
      "      ..\n",
      "995    7\n",
      "996    7\n",
      "997    2\n",
      "998    8\n",
      "999    2\n",
      "Name: Smoking, Length: 1000, dtype: int64\n",
      "Statistics 0.8483027815818787 p-value 6.960441722066378e-30\n",
      "The null hypothesis can be rejected\n",
      "0      2\n",
      "1      4\n",
      "2      3\n",
      "3      7\n",
      "4      7\n",
      "      ..\n",
      "995    8\n",
      "996    8\n",
      "997    3\n",
      "998    7\n",
      "999    3\n",
      "Name: Passive_Smoker, Length: 1000, dtype: int64\n",
      "Statistics 0.8645702004432678 p-value 1.6375838057147107e-28\n",
      "The null hypothesis can be rejected\n",
      "0      2\n",
      "1      2\n",
      "2      4\n",
      "3      7\n",
      "4      7\n",
      "      ..\n",
      "995    7\n",
      "996    7\n",
      "997    4\n",
      "998    7\n",
      "999    4\n",
      "Name: Chest_Pain, Length: 1000, dtype: int64\n",
      "Statistics 0.8872560858726501 p-value 2.2860611254321606e-26\n",
      "The null hypothesis can be rejected\n",
      "0      4\n",
      "1      3\n",
      "2      8\n",
      "3      8\n",
      "4      9\n",
      "      ..\n",
      "995    7\n",
      "996    7\n",
      "997    8\n",
      "998    9\n",
      "999    8\n",
      "Name: Coughing_of_Blood, Length: 1000, dtype: int64\n",
      "Statistics 0.9202444553375244 p-value 1.4685902879427695e-22\n",
      "The null hypothesis can be rejected\n",
      "0      3\n",
      "1      1\n",
      "2      8\n",
      "3      4\n",
      "4      3\n",
      "      ..\n",
      "995    5\n",
      "996    9\n",
      "997    8\n",
      "998    3\n",
      "999    8\n",
      "Name: Fatigue, Length: 1000, dtype: int64\n",
      "Statistics 0.8836809396743774 p-value 1.0003117582659997e-26\n",
      "The null hypothesis can be rejected\n",
      "0      2\n",
      "1      7\n",
      "2      9\n",
      "3      3\n",
      "4      4\n",
      "      ..\n",
      "995    2\n",
      "996    5\n",
      "997    9\n",
      "998    4\n",
      "999    9\n",
      "Name: Shortness_of_Breath, Length: 1000, dtype: int64\n",
      "Statistics 0.9153258204460144 p-value 3.3977517142535436e-23\n",
      "The null hypothesis can be rejected\n",
      "0      2\n",
      "1      8\n",
      "2      2\n",
      "3      1\n",
      "4      1\n",
      "      ..\n",
      "995    7\n",
      "996    7\n",
      "997    2\n",
      "998    1\n",
      "999    2\n",
      "Name: Wheezing, Length: 1000, dtype: int64\n",
      "Statistics 0.909870445728302 p-value 7.208855498790224e-24\n",
      "The null hypothesis can be rejected\n",
      "0      1\n",
      "1      2\n",
      "2      4\n",
      "3      5\n",
      "4      2\n",
      "      ..\n",
      "995    2\n",
      "996    4\n",
      "997    4\n",
      "998    2\n",
      "999    4\n",
      "Name: Clubbing_of_Finger_Nails, Length: 1000, dtype: int64\n",
      "Statistics 0.8828590512275696 p-value 8.295008774239002e-27\n",
      "The null hypothesis can be rejected\n",
      "0      4\n",
      "1      2\n",
      "2      2\n",
      "3      5\n",
      "4      3\n",
      "      ..\n",
      "995    3\n",
      "996    4\n",
      "997    2\n",
      "998    3\n",
      "999    2\n",
      "Name: Snoring, Length: 1000, dtype: int64\n",
      "Statistics 0.9094998836517334 p-value 6.505268090840888e-24\n",
      "The null hypothesis can be rejected\n"
     ]
    }
   ],
   "source": [
    "alpha=0.05\n",
    "for i in dfnormality:\n",
    "  print (dfnormality[i])\n",
    "  a,b= stats.shapiro(dfrelevant[[i]])\n",
    "  print(\"Statistics\", a, \"p-value\", b)\n",
    "  if b < alpha:\n",
    "    print (\"The null hypothesis can be rejected\")\n",
    "  else:\n",
    "    print (\"The null hypothesis cannot be rejected\")"
   ]
  },
  {
   "cell_type": "code",
   "execution_count": 35,
   "metadata": {},
   "outputs": [],
   "source": [
    "from scipy.stats import kstest"
   ]
  },
  {
   "cell_type": "code",
   "execution_count": 36,
   "metadata": {},
   "outputs": [
    {
     "data": {
      "text/plain": [
       "KstestResult(statistic=1.0, pvalue=0.0)"
      ]
     },
     "execution_count": 36,
     "metadata": {},
     "output_type": "execute_result"
    }
   ],
   "source": [
    "kstest(dfrelevant.Age, 'norm')"
   ]
  },
  {
   "cell_type": "markdown",
   "metadata": {
    "jp-MarkdownHeadingCollapsed": true,
    "tags": []
   },
   "source": [
    "## Kolmogorov-Smirnov\n",
    "https://www.statology.org/kolmogorov-smirnov-test-python/"
   ]
  },
  {
   "cell_type": "code",
   "execution_count": 37,
   "metadata": {
    "tags": []
   },
   "outputs": [
    {
     "data": {
      "text/plain": [
       "KstestResult(statistic=1.0, pvalue=0.0)"
      ]
     },
     "execution_count": 37,
     "metadata": {},
     "output_type": "execute_result"
    }
   ],
   "source": [
    "stats.kstest(dfnormality.Age, \"norm\")"
   ]
  },
  {
   "cell_type": "code",
   "execution_count": 38,
   "metadata": {},
   "outputs": [
    {
     "data": {
      "text/plain": [
       "KstestResult(statistic=1.0, pvalue=0.0)"
      ]
     },
     "execution_count": 38,
     "metadata": {},
     "output_type": "execute_result"
    }
   ],
   "source": [
    "stats.kstest(dfnormality.Age, \"norm\")"
   ]
  },
  {
   "cell_type": "code",
   "execution_count": 39,
   "metadata": {},
   "outputs": [
    {
     "data": {
      "text/plain": [
       "KstestResult(statistic=0.8413447460685429, pvalue=0.0)"
      ]
     },
     "execution_count": 39,
     "metadata": {},
     "output_type": "execute_result"
    }
   ],
   "source": [
    "stats.kstest(dfnormality.Air_Pollution, \"norm\")"
   ]
  },
  {
   "cell_type": "code",
   "execution_count": 40,
   "metadata": {},
   "outputs": [
    {
     "data": {
      "text/plain": [
       "KstestResult(statistic=0.8413447460685429, pvalue=0.0)"
      ]
     },
     "execution_count": 40,
     "metadata": {},
     "output_type": "execute_result"
    }
   ],
   "source": [
    "stats.kstest(dfnormality.Alcohol_use, \"norm\")"
   ]
  },
  {
   "cell_type": "code",
   "execution_count": 41,
   "metadata": {},
   "outputs": [
    {
     "data": {
      "text/plain": [
       "KstestResult(statistic=0.9172498680518208, pvalue=0.0)"
      ]
     },
     "execution_count": 41,
     "metadata": {},
     "output_type": "execute_result"
    }
   ],
   "source": [
    "stats.kstest(dfnormality.Dust_Allergy, \"norm\")"
   ]
  },
  {
   "cell_type": "code",
   "execution_count": 42,
   "metadata": {},
   "outputs": [
    {
     "data": {
      "text/plain": [
       "KstestResult(statistic=0.9272498680518207, pvalue=0.0)"
      ]
     },
     "execution_count": 42,
     "metadata": {},
     "output_type": "execute_result"
    }
   ],
   "source": [
    "stats.kstest(dfnormality.OccuPational_Hazards, \"norm\")"
   ]
  },
  {
   "cell_type": "code",
   "execution_count": 43,
   "metadata": {},
   "outputs": [
    {
     "data": {
      "text/plain": [
       "KstestResult(statistic=0.9372498680518208, pvalue=0.0)"
      ]
     },
     "execution_count": 43,
     "metadata": {},
     "output_type": "execute_result"
    }
   ],
   "source": [
    "stats.kstest(dfnormality.Genetic_Risk, \"norm\")"
   ]
  },
  {
   "cell_type": "code",
   "execution_count": 44,
   "metadata": {},
   "outputs": [
    {
     "data": {
      "text/plain": [
       "KstestResult(statistic=0.9372498680518208, pvalue=0.0)"
      ]
     },
     "execution_count": 44,
     "metadata": {},
     "output_type": "execute_result"
    }
   ],
   "source": [
    "stats.kstest(dfnormality.Balanced_Diet, \"norm\")"
   ]
  },
  {
   "cell_type": "code",
   "execution_count": 45,
   "metadata": {},
   "outputs": [
    {
     "data": {
      "text/plain": [
       "KstestResult(statistic=0.9072498680518208, pvalue=0.0)"
      ]
     },
     "execution_count": 45,
     "metadata": {},
     "output_type": "execute_result"
    }
   ],
   "source": [
    "stats.kstest(dfnormality.Obesity, \"norm\")"
   ]
  },
  {
   "cell_type": "code",
   "execution_count": 46,
   "metadata": {},
   "outputs": [
    {
     "data": {
      "text/plain": [
       "KstestResult(statistic=0.8413447460685429, pvalue=0.0)"
      ]
     },
     "execution_count": 46,
     "metadata": {},
     "output_type": "execute_result"
    }
   ],
   "source": [
    "stats.kstest(dfnormality.Smoking, \"norm\")"
   ]
  },
  {
   "cell_type": "code",
   "execution_count": 47,
   "metadata": {},
   "outputs": [
    {
     "data": {
      "text/plain": [
       "KstestResult(statistic=0.9172498680518208, pvalue=0.0)"
      ]
     },
     "execution_count": 47,
     "metadata": {},
     "output_type": "execute_result"
    }
   ],
   "source": [
    "stats.kstest(dfnormality.Passive_Smoker, \"norm\")"
   ]
  },
  {
   "cell_type": "code",
   "execution_count": 48,
   "metadata": {},
   "outputs": [
    {
     "data": {
      "text/plain": [
       "KstestResult(statistic=0.8972498680518208, pvalue=0.0)"
      ]
     },
     "execution_count": 48,
     "metadata": {},
     "output_type": "execute_result"
    }
   ],
   "source": [
    "stats.kstest(dfnormality.Chest_Pain, \"norm\")"
   ]
  },
  {
   "cell_type": "code",
   "execution_count": 49,
   "metadata": {},
   "outputs": [
    {
     "data": {
      "text/plain": [
       "KstestResult(statistic=0.9062498680518208, pvalue=0.0)"
      ]
     },
     "execution_count": 49,
     "metadata": {},
     "output_type": "execute_result"
    }
   ],
   "source": [
    "stats.kstest(dfnormality.Coughing_of_Blood, \"norm\")"
   ]
  },
  {
   "cell_type": "code",
   "execution_count": 50,
   "metadata": {},
   "outputs": [
    {
     "data": {
      "text/plain": [
       "KstestResult(statistic=0.8672498680518208, pvalue=0.0)"
      ]
     },
     "execution_count": 50,
     "metadata": {},
     "output_type": "execute_result"
    }
   ],
   "source": [
    "stats.kstest(dfnormality.Fatigue, \"norm\")"
   ]
  },
  {
   "cell_type": "code",
   "execution_count": 51,
   "metadata": {},
   "outputs": [
    {
     "data": {
      "text/plain": [
       "KstestResult(statistic=0.8972498680518208, pvalue=0.0)"
      ]
     },
     "execution_count": 51,
     "metadata": {},
     "output_type": "execute_result"
    }
   ],
   "source": [
    "stats.kstest(dfnormality.Shortness_of_Breath, \"norm\")"
   ]
  },
  {
   "cell_type": "code",
   "execution_count": 52,
   "metadata": {},
   "outputs": [
    {
     "data": {
      "text/plain": [
       "KstestResult(statistic=0.8413447460685429, pvalue=0.0)"
      ]
     },
     "execution_count": 52,
     "metadata": {},
     "output_type": "execute_result"
    }
   ],
   "source": [
    "stats.kstest(dfnormality.Wheezing, \"norm\")"
   ]
  },
  {
   "cell_type": "code",
   "execution_count": 53,
   "metadata": {
    "tags": []
   },
   "outputs": [
    {
     "data": {
      "text/plain": [
       "KstestResult(statistic=0.8462498680518208, pvalue=0.0)"
      ]
     },
     "execution_count": 53,
     "metadata": {},
     "output_type": "execute_result"
    }
   ],
   "source": [
    "stats.kstest(dfnormality.Clubbing_of_Finger_Nails, \"norm\")"
   ]
  },
  {
   "cell_type": "markdown",
   "metadata": {
    "jp-MarkdownHeadingCollapsed": true,
    "tags": []
   },
   "source": [
    "# Anderson"
   ]
  },
  {
   "cell_type": "code",
   "execution_count": 54,
   "metadata": {},
   "outputs": [
    {
     "data": {
      "text/plain": [
       "AndersonResult(statistic=7.9967309706181595, critical_values=array([0.574, 0.653, 0.784, 0.914, 1.088]), significance_level=array([15. , 10. ,  5. ,  2.5,  1. ]))"
      ]
     },
     "execution_count": 54,
     "metadata": {},
     "output_type": "execute_result"
    }
   ],
   "source": [
    "stats.anderson(dfnormality.Age, dist='norm')"
   ]
  },
  {
   "cell_type": "code",
   "execution_count": 55,
   "metadata": {},
   "outputs": [
    {
     "data": {
      "text/plain": [
       "AndersonResult(statistic=7.9967309706181595, critical_values=array([0.574, 0.653, 0.784, 0.914, 1.088]), significance_level=array([15. , 10. ,  5. ,  2.5,  1. ]))"
      ]
     },
     "execution_count": 55,
     "metadata": {},
     "output_type": "execute_result"
    }
   ],
   "source": [
    "stats.anderson(dfnormality.Age, \"norm\")"
   ]
  },
  {
   "cell_type": "code",
   "execution_count": 56,
   "metadata": {},
   "outputs": [
    {
     "data": {
      "text/plain": [
       "AndersonResult(statistic=51.60194374925095, critical_values=array([0.574, 0.653, 0.784, 0.914, 1.088]), significance_level=array([15. , 10. ,  5. ,  2.5,  1. ]))"
      ]
     },
     "execution_count": 56,
     "metadata": {},
     "output_type": "execute_result"
    }
   ],
   "source": [
    "stats.anderson(dfnormality.Air_Pollution, \"norm\")"
   ]
  },
  {
   "cell_type": "code",
   "execution_count": 57,
   "metadata": {},
   "outputs": [
    {
     "data": {
      "text/plain": [
       "AndersonResult(statistic=48.55169695902987, critical_values=array([0.574, 0.653, 0.784, 0.914, 1.088]), significance_level=array([15. , 10. ,  5. ,  2.5,  1. ]))"
      ]
     },
     "execution_count": 57,
     "metadata": {},
     "output_type": "execute_result"
    }
   ],
   "source": [
    "stats.anderson(dfnormality.Alcohol_use, \"norm\")"
   ]
  },
  {
   "cell_type": "code",
   "execution_count": 58,
   "metadata": {},
   "outputs": [
    {
     "data": {
      "text/plain": [
       "AndersonResult(statistic=57.89352338935805, critical_values=array([0.574, 0.653, 0.784, 0.914, 1.088]), significance_level=array([15. , 10. ,  5. ,  2.5,  1. ]))"
      ]
     },
     "execution_count": 58,
     "metadata": {},
     "output_type": "execute_result"
    }
   ],
   "source": [
    "stats.anderson(dfnormality.Dust_Allergy, \"norm\")"
   ]
  },
  {
   "cell_type": "code",
   "execution_count": 59,
   "metadata": {},
   "outputs": [
    {
     "data": {
      "text/plain": [
       "AndersonResult(statistic=50.7472237518341, critical_values=array([0.574, 0.653, 0.784, 0.914, 1.088]), significance_level=array([15. , 10. ,  5. ,  2.5,  1. ]))"
      ]
     },
     "execution_count": 59,
     "metadata": {},
     "output_type": "execute_result"
    }
   ],
   "source": [
    "stats.anderson(dfnormality.OccuPational_Hazards, \"norm\")"
   ]
  },
  {
   "cell_type": "code",
   "execution_count": 60,
   "metadata": {},
   "outputs": [
    {
     "data": {
      "text/plain": [
       "AndersonResult(statistic=61.92567018146292, critical_values=array([0.574, 0.653, 0.784, 0.914, 1.088]), significance_level=array([15. , 10. ,  5. ,  2.5,  1. ]))"
      ]
     },
     "execution_count": 60,
     "metadata": {},
     "output_type": "execute_result"
    }
   ],
   "source": [
    "stats.anderson(dfnormality.Genetic_Risk, \"norm\")"
   ]
  },
  {
   "cell_type": "code",
   "execution_count": 61,
   "metadata": {},
   "outputs": [
    {
     "data": {
      "text/plain": [
       "AndersonResult(statistic=64.56986815124583, critical_values=array([0.574, 0.653, 0.784, 0.914, 1.088]), significance_level=array([15. , 10. ,  5. ,  2.5,  1. ]))"
      ]
     },
     "execution_count": 61,
     "metadata": {},
     "output_type": "execute_result"
    }
   ],
   "source": [
    "stats.anderson(dfnormality.Balanced_Diet, \"norm\")"
   ]
  },
  {
   "cell_type": "code",
   "execution_count": 62,
   "metadata": {},
   "outputs": [
    {
     "data": {
      "text/plain": [
       "AndersonResult(statistic=61.610190397172346, critical_values=array([0.574, 0.653, 0.784, 0.914, 1.088]), significance_level=array([15. , 10. ,  5. ,  2.5,  1. ]))"
      ]
     },
     "execution_count": 62,
     "metadata": {},
     "output_type": "execute_result"
    }
   ],
   "source": [
    "stats.anderson(dfnormality.Obesity, \"norm\")"
   ]
  },
  {
   "cell_type": "code",
   "execution_count": 63,
   "metadata": {},
   "outputs": [
    {
     "data": {
      "text/plain": [
       "AndersonResult(statistic=60.33869372098616, critical_values=array([0.574, 0.653, 0.784, 0.914, 1.088]), significance_level=array([15. , 10. ,  5. ,  2.5,  1. ]))"
      ]
     },
     "execution_count": 63,
     "metadata": {},
     "output_type": "execute_result"
    }
   ],
   "source": [
    "stats.anderson(dfnormality.Smoking, \"norm\")"
   ]
  },
  {
   "cell_type": "code",
   "execution_count": 64,
   "metadata": {},
   "outputs": [
    {
     "data": {
      "text/plain": [
       "AndersonResult(statistic=53.899459923052746, critical_values=array([0.574, 0.653, 0.784, 0.914, 1.088]), significance_level=array([15. , 10. ,  5. ,  2.5,  1. ]))"
      ]
     },
     "execution_count": 64,
     "metadata": {},
     "output_type": "execute_result"
    }
   ],
   "source": [
    "stats.anderson(dfnormality.Passive_Smoker, \"norm\")"
   ]
  },
  {
   "cell_type": "code",
   "execution_count": 65,
   "metadata": {},
   "outputs": [
    {
     "data": {
      "text/plain": [
       "AndersonResult(statistic=48.448310702642175, critical_values=array([0.574, 0.653, 0.784, 0.914, 1.088]), significance_level=array([15. , 10. ,  5. ,  2.5,  1. ]))"
      ]
     },
     "execution_count": 65,
     "metadata": {},
     "output_type": "execute_result"
    }
   ],
   "source": [
    "stats.anderson(dfnormality.Chest_Pain, \"norm\")"
   ]
  },
  {
   "cell_type": "code",
   "execution_count": 66,
   "metadata": {},
   "outputs": [
    {
     "data": {
      "text/plain": [
       "AndersonResult(statistic=30.314104905329486, critical_values=array([0.574, 0.653, 0.784, 0.914, 1.088]), significance_level=array([15. , 10. ,  5. ,  2.5,  1. ]))"
      ]
     },
     "execution_count": 66,
     "metadata": {},
     "output_type": "execute_result"
    }
   ],
   "source": [
    "stats.anderson(dfnormality.Coughing_of_Blood, \"norm\")"
   ]
  },
  {
   "cell_type": "code",
   "execution_count": 67,
   "metadata": {},
   "outputs": [
    {
     "data": {
      "text/plain": [
       "AndersonResult(statistic=40.5227957322636, critical_values=array([0.574, 0.653, 0.784, 0.914, 1.088]), significance_level=array([15. , 10. ,  5. ,  2.5,  1. ]))"
      ]
     },
     "execution_count": 67,
     "metadata": {},
     "output_type": "execute_result"
    }
   ],
   "source": [
    "stats.anderson(dfnormality.Fatigue, \"norm\")"
   ]
  },
  {
   "cell_type": "code",
   "execution_count": 68,
   "metadata": {},
   "outputs": [
    {
     "data": {
      "text/plain": [
       "AndersonResult(statistic=30.02228780772498, critical_values=array([0.574, 0.653, 0.784, 0.914, 1.088]), significance_level=array([15. , 10. ,  5. ,  2.5,  1. ]))"
      ]
     },
     "execution_count": 68,
     "metadata": {},
     "output_type": "execute_result"
    }
   ],
   "source": [
    "stats.anderson(dfnormality.Shortness_of_Breath, \"norm\")"
   ]
  },
  {
   "cell_type": "code",
   "execution_count": 69,
   "metadata": {},
   "outputs": [
    {
     "data": {
      "text/plain": [
       "AndersonResult(statistic=30.56347644122934, critical_values=array([0.574, 0.653, 0.784, 0.914, 1.088]), significance_level=array([15. , 10. ,  5. ,  2.5,  1. ]))"
      ]
     },
     "execution_count": 69,
     "metadata": {},
     "output_type": "execute_result"
    }
   ],
   "source": [
    "stats.anderson(dfnormality.Wheezing, \"norm\")"
   ]
  },
  {
   "cell_type": "code",
   "execution_count": 70,
   "metadata": {},
   "outputs": [
    {
     "data": {
      "text/plain": [
       "AndersonResult(statistic=38.76638021023314, critical_values=array([0.574, 0.653, 0.784, 0.914, 1.088]), significance_level=array([15. , 10. ,  5. ,  2.5,  1. ]))"
      ]
     },
     "execution_count": 70,
     "metadata": {},
     "output_type": "execute_result"
    }
   ],
   "source": [
    "stats.anderson(dfnormality.Clubbing_of_Finger_Nails, \"norm\")"
   ]
  },
  {
   "cell_type": "markdown",
   "metadata": {},
   "source": [
    "# Next\n",
    "- histograms, q-q plots, skewness & kurtosis values, z-values and p-values\n",
    "- scatterplots to see if there's any correlation between any of the variables\n"
   ]
  },
  {
   "cell_type": "markdown",
   "metadata": {},
   "source": [
    "# Histograms"
   ]
  },
  {
   "cell_type": "code",
   "execution_count": 71,
   "metadata": {},
   "outputs": [
    {
     "data": {
      "image/png": "[encoded data removed]",
      "text/plain": [
       "<Figure size 500x500 with 1 Axes>"
      ]
     },
     "metadata": {},
     "output_type": "display_data"
    },
    {
     "data": {
      "image/png": "[encoded data removed]",
      "text/plain": [
       "<Figure size 500x500 with 1 Axes>"
      ]
     },
     "metadata": {},
     "output_type": "display_data"
    }
   ],
   "source": [
    "import seaborn as sns\n",
    "sns.set_theme()\n",
    "sns.set_style(\"dark\")\n",
    "\n",
    "sns.displot(dfrelevant, x=\"Age\", binwidth=1)\n",
    "plt.show()"
   ]
  },
  {
   "cell_type": "code",
   "execution_count": 72,
   "metadata": {},
   "outputs": [
    {
     "data": {
      "image/png": "[encoded data removed]",
      "text/plain": [
       "<Figure size 640x480 with 1 Axes>"
      ]
     },
     "metadata": {},
     "output_type": "display_data"
    }
   ],
   "source": [
    "stats.probplot(dfrelevant.Age, dist=\"norm\", plot=plt)\n",
    "plt.show()"
   ]
  },
  {
   "cell_type": "markdown",
   "metadata": {},
   "source": [
    "# Skewness & Kurtosis"
   ]
  },
  {
   "cell_type": "code",
   "execution_count": 73,
   "metadata": {},
   "outputs": [],
   "source": [
    "import scipy"
   ]
  },
  {
   "cell_type": "code",
   "execution_count": 74,
   "metadata": {},
   "outputs": [
    {
     "name": "stdout",
     "output_type": "stream",
     "text": [
      "Skewness is 0.5502689405577516\n",
      "Kurtosis is 0.05324893367768002\n"
     ]
    }
   ],
   "source": [
    "from scipy.stats import skew\n",
    "from scipy.stats import kurtosis\n",
    "\n",
    "print(\"Skewness is\", skew(dfrelevant.Age, axis=0, bias=True))\n",
    "print(\"Kurtosis is\", scipy.stats.kurtosis(dfrelevant.Age, axis=0, fisher=True, bias=True))"
   ]
  },
  {
   "cell_type": "markdown",
   "metadata": {},
   "source": [
    "# Todo\n",
    "- P-P plots\n",
    "- box plots?\n",
    "- z-values\n",
    "- How to deal with not normal data\n"
   ]
  },
  {
   "cell_type": "code",
   "execution_count": null,
   "metadata": {},
   "outputs": [],
   "source": []
  }
 ],
 "metadata": {
  "colab": {
   "provenance": []
  },
  "kernelspec": {
   "display_name": "Python 3.9.13 ('base')",
   "language": "python",
   "name": "python3"
  },
  "language_info": {
   "codemirror_mode": {
    "name": "ipython",
    "version": 3
   },
   "file_extension": ".py",
   "mimetype": "text/x-python",
   "name": "python",
   "nbconvert_exporter": "python",
   "pygments_lexer": "ipython3",
   "version": "3.9.13"
  },
  "vscode": {
   "interpreter": {
    "hash": "c6e4e9f98eb68ad3b7c296f83d20e6de614cb42e90992a65aa266555a3137d0d"
   }
  }
 },
 "nbformat": 4,
 "nbformat_minor": 4
}
