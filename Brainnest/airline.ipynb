{
 "cells": [
  {
   "cell_type": "markdown",
   "metadata": {},
   "source": [
    "# Import Airline Dataset from Cleaned SPSS .sav File"
   ]
  },
  {
   "cell_type": "code",
   "execution_count": 2,
   "metadata": {},
   "outputs": [],
   "source": [
    "import pandas as pd\n",
    "import pyreadstat"
   ]
  },
  {
   "cell_type": "code",
   "execution_count": 3,
   "metadata": {},
   "outputs": [],
   "source": [
    "df = pd.read_spss('Airline_Dataset_Cleaned.sav')"
   ]
  },
  {
   "cell_type": "code",
   "execution_count": 4,
   "metadata": {},
   "outputs": [
    {
     "data": {
      "text/html": [
       "<div>\n",
       "<style scoped>\n",
       "    .dataframe tbody tr th:only-of-type {\n",
       "        vertical-align: middle;\n",
       "    }\n",
       "\n",
       "    .dataframe tbody tr th {\n",
       "        vertical-align: top;\n",
       "    }\n",
       "\n",
       "    .dataframe thead th {\n",
       "        text-align: right;\n",
       "    }\n",
       "</style>\n",
       "<table border=\"1\" class=\"dataframe\">\n",
       "  <thead>\n",
       "    <tr style=\"text-align: right;\">\n",
       "      <th></th>\n",
       "      <th>year</th>\n",
       "      <th>month</th>\n",
       "      <th>carrier</th>\n",
       "      <th>carrier_name</th>\n",
       "      <th>airport</th>\n",
       "      <th>airport_name</th>\n",
       "      <th>arr_flights</th>\n",
       "      <th>arr_del15</th>\n",
       "      <th>carrier_ct</th>\n",
       "      <th>weather_ct</th>\n",
       "      <th>...</th>\n",
       "      <th>arr_delay</th>\n",
       "      <th>carrier_delay</th>\n",
       "      <th>weather_delay</th>\n",
       "      <th>nas_delay</th>\n",
       "      <th>security_delay</th>\n",
       "      <th>late_aircraft_delay</th>\n",
       "      <th>PrimaryFirst</th>\n",
       "      <th>abs_late_aircraft_ct</th>\n",
       "      <th>abs_late_aircraft_delay</th>\n",
       "      <th>abs_arr_delay</th>\n",
       "    </tr>\n",
       "  </thead>\n",
       "  <tbody>\n",
       "    <tr>\n",
       "      <th>0</th>\n",
       "      <td>2022.0</td>\n",
       "      <td>5.0</td>\n",
       "      <td>9E</td>\n",
       "      <td>Endeavor Air Inc.</td>\n",
       "      <td>ABE</td>\n",
       "      <td>Allentown/Bethlehem/Easton, PA: Lehigh Valley ...</td>\n",
       "      <td>136.0</td>\n",
       "      <td>7.0</td>\n",
       "      <td>343.64</td>\n",
       "      <td>0.00</td>\n",
       "      <td>...</td>\n",
       "      <td>7.44</td>\n",
       "      <td>501.26</td>\n",
       "      <td>0.0</td>\n",
       "      <td>4.0</td>\n",
       "      <td>0.0</td>\n",
       "      <td>458.33</td>\n",
       "      <td>Primary Case</td>\n",
       "      <td>8.68</td>\n",
       "      <td>458.33</td>\n",
       "      <td>7.44</td>\n",
       "    </tr>\n",
       "    <tr>\n",
       "      <th>1</th>\n",
       "      <td>2022.0</td>\n",
       "      <td>5.0</td>\n",
       "      <td>9E</td>\n",
       "      <td>Endeavor Air Inc.</td>\n",
       "      <td>ABY</td>\n",
       "      <td>Albany, GA: Southwest Georgia Regional</td>\n",
       "      <td>91.0</td>\n",
       "      <td>16.0</td>\n",
       "      <td>227.12</td>\n",
       "      <td>0.00</td>\n",
       "      <td>...</td>\n",
       "      <td>9.78</td>\n",
       "      <td>328.48</td>\n",
       "      <td>0.0</td>\n",
       "      <td>81.0</td>\n",
       "      <td>0.0</td>\n",
       "      <td>553.13</td>\n",
       "      <td>Primary Case</td>\n",
       "      <td>15.38</td>\n",
       "      <td>553.13</td>\n",
       "      <td>9.78</td>\n",
       "    </tr>\n",
       "    <tr>\n",
       "      <th>2</th>\n",
       "      <td>2022.0</td>\n",
       "      <td>5.0</td>\n",
       "      <td>9E</td>\n",
       "      <td>Endeavor Air Inc.</td>\n",
       "      <td>ACK</td>\n",
       "      <td>Nantucket, MA: Nantucket Memorial</td>\n",
       "      <td>19.0</td>\n",
       "      <td>2.0</td>\n",
       "      <td>191.68</td>\n",
       "      <td>0.00</td>\n",
       "      <td>...</td>\n",
       "      <td>4.10</td>\n",
       "      <td>583.57</td>\n",
       "      <td>0.0</td>\n",
       "      <td>106.0</td>\n",
       "      <td>0.0</td>\n",
       "      <td>1051.53</td>\n",
       "      <td>Primary Case</td>\n",
       "      <td>5.73</td>\n",
       "      <td>1051.53</td>\n",
       "      <td>4.10</td>\n",
       "    </tr>\n",
       "    <tr>\n",
       "      <th>3</th>\n",
       "      <td>2022.0</td>\n",
       "      <td>5.0</td>\n",
       "      <td>9E</td>\n",
       "      <td>Endeavor Air Inc.</td>\n",
       "      <td>AEX</td>\n",
       "      <td>Alexandria, LA: Alexandria International</td>\n",
       "      <td>88.0</td>\n",
       "      <td>14.0</td>\n",
       "      <td>355.24</td>\n",
       "      <td>0.76</td>\n",
       "      <td>...</td>\n",
       "      <td>5.77</td>\n",
       "      <td>441.53</td>\n",
       "      <td>35.0</td>\n",
       "      <td>125.0</td>\n",
       "      <td>0.0</td>\n",
       "      <td>653.58</td>\n",
       "      <td>Primary Case</td>\n",
       "      <td>20.32</td>\n",
       "      <td>653.58</td>\n",
       "      <td>5.77</td>\n",
       "    </tr>\n",
       "    <tr>\n",
       "      <th>4</th>\n",
       "      <td>2022.0</td>\n",
       "      <td>5.0</td>\n",
       "      <td>9E</td>\n",
       "      <td>Endeavor Air Inc.</td>\n",
       "      <td>AGS</td>\n",
       "      <td>Augusta, GA: Augusta Regional at Bush Field</td>\n",
       "      <td>181.0</td>\n",
       "      <td>19.0</td>\n",
       "      <td>380.49</td>\n",
       "      <td>0.00</td>\n",
       "      <td>...</td>\n",
       "      <td>10.74</td>\n",
       "      <td>252.14</td>\n",
       "      <td>0.0</td>\n",
       "      <td>87.0</td>\n",
       "      <td>0.0</td>\n",
       "      <td>1095.64</td>\n",
       "      <td>Primary Case</td>\n",
       "      <td>22.45</td>\n",
       "      <td>1095.64</td>\n",
       "      <td>10.74</td>\n",
       "    </tr>\n",
       "  </tbody>\n",
       "</table>\n",
       "<p>5 rows × 25 columns</p>\n",
       "</div>"
      ],
      "text/plain": [
       "     year  month carrier       carrier_name airport  \\\n",
       "0  2022.0    5.0      9E  Endeavor Air Inc.     ABE   \n",
       "1  2022.0    5.0      9E  Endeavor Air Inc.     ABY   \n",
       "2  2022.0    5.0      9E  Endeavor Air Inc.     ACK   \n",
       "3  2022.0    5.0      9E  Endeavor Air Inc.     AEX   \n",
       "4  2022.0    5.0      9E  Endeavor Air Inc.     AGS   \n",
       "\n",
       "                                        airport_name  arr_flights  arr_del15  \\\n",
       "0  Allentown/Bethlehem/Easton, PA: Lehigh Valley ...        136.0        7.0   \n",
       "1             Albany, GA: Southwest Georgia Regional         91.0       16.0   \n",
       "2                  Nantucket, MA: Nantucket Memorial         19.0        2.0   \n",
       "3           Alexandria, LA: Alexandria International         88.0       14.0   \n",
       "4        Augusta, GA: Augusta Regional at Bush Field        181.0       19.0   \n",
       "\n",
       "   carrier_ct  weather_ct  ...  arr_delay  carrier_delay  weather_delay  \\\n",
       "0      343.64        0.00  ...       7.44         501.26            0.0   \n",
       "1      227.12        0.00  ...       9.78         328.48            0.0   \n",
       "2      191.68        0.00  ...       4.10         583.57            0.0   \n",
       "3      355.24        0.76  ...       5.77         441.53           35.0   \n",
       "4      380.49        0.00  ...      10.74         252.14            0.0   \n",
       "\n",
       "   nas_delay  security_delay  late_aircraft_delay  PrimaryFirst  \\\n",
       "0        4.0             0.0               458.33  Primary Case   \n",
       "1       81.0             0.0               553.13  Primary Case   \n",
       "2      106.0             0.0              1051.53  Primary Case   \n",
       "3      125.0             0.0               653.58  Primary Case   \n",
       "4       87.0             0.0              1095.64  Primary Case   \n",
       "\n",
       "   abs_late_aircraft_ct  abs_late_aircraft_delay  abs_arr_delay  \n",
       "0                  8.68                   458.33           7.44  \n",
       "1                 15.38                   553.13           9.78  \n",
       "2                  5.73                  1051.53           4.10  \n",
       "3                 20.32                   653.58           5.77  \n",
       "4                 22.45                  1095.64          10.74  \n",
       "\n",
       "[5 rows x 25 columns]"
      ]
     },
     "execution_count": 4,
     "metadata": {},
     "output_type": "execute_result"
    }
   ],
   "source": [
    "df.head()"
   ]
  },
  {
   "cell_type": "markdown",
   "metadata": {},
   "source": [
    "# Importing original un-cleaned Dataset"
   ]
  },
  {
   "cell_type": "code",
   "execution_count": 13,
   "metadata": {},
   "outputs": [
    {
     "ename": "UnicodeDecodeError",
     "evalue": "'utf-8' codec can't decode byte 0x81 in position 16: invalid start byte",
     "output_type": "error",
     "traceback": [
      "\u001b[0;31m---------------------------------------------------------------------------\u001b[0m",
      "\u001b[0;31mUnicodeDecodeError\u001b[0m                        Traceback (most recent call last)",
      "Cell \u001b[0;32mIn [13], line 1\u001b[0m\n\u001b[0;32m----> 1\u001b[0m dfog \u001b[38;5;241m=\u001b[39m \u001b[43mpd\u001b[49m\u001b[38;5;241;43m.\u001b[39;49m\u001b[43mread_csv\u001b[49m\u001b[43m(\u001b[49m\u001b[38;5;124;43m'\u001b[39;49m\u001b[38;5;124;43mUS Airline Data.xlsx\u001b[39;49m\u001b[38;5;124;43m'\u001b[39;49m\u001b[43m)\u001b[49m\n",
      "File \u001b[0;32m/opt/homebrew/Caskroom/miniforge/base/lib/python3.9/site-packages/pandas/util/_decorators.py:311\u001b[0m, in \u001b[0;36mdeprecate_nonkeyword_arguments.<locals>.decorate.<locals>.wrapper\u001b[0;34m(*args, **kwargs)\u001b[0m\n\u001b[1;32m    305\u001b[0m \u001b[39mif\u001b[39;00m \u001b[39mlen\u001b[39m(args) \u001b[39m>\u001b[39m num_allow_args:\n\u001b[1;32m    306\u001b[0m     warnings\u001b[39m.\u001b[39mwarn(\n\u001b[1;32m    307\u001b[0m         msg\u001b[39m.\u001b[39mformat(arguments\u001b[39m=\u001b[39marguments),\n\u001b[1;32m    308\u001b[0m         \u001b[39mFutureWarning\u001b[39;00m,\n\u001b[1;32m    309\u001b[0m         stacklevel\u001b[39m=\u001b[39mstacklevel,\n\u001b[1;32m    310\u001b[0m     )\n\u001b[0;32m--> 311\u001b[0m \u001b[39mreturn\u001b[39;00m func(\u001b[39m*\u001b[39;49margs, \u001b[39m*\u001b[39;49m\u001b[39m*\u001b[39;49mkwargs)\n",
      "File \u001b[0;32m/opt/homebrew/Caskroom/miniforge/base/lib/python3.9/site-packages/pandas/io/parsers/readers.py:678\u001b[0m, in \u001b[0;36mread_csv\u001b[0;34m(filepath_or_buffer, sep, delimiter, header, names, index_col, usecols, squeeze, prefix, mangle_dupe_cols, dtype, engine, converters, true_values, false_values, skipinitialspace, skiprows, skipfooter, nrows, na_values, keep_default_na, na_filter, verbose, skip_blank_lines, parse_dates, infer_datetime_format, keep_date_col, date_parser, dayfirst, cache_dates, iterator, chunksize, compression, thousands, decimal, lineterminator, quotechar, quoting, doublequote, escapechar, comment, encoding, encoding_errors, dialect, error_bad_lines, warn_bad_lines, on_bad_lines, delim_whitespace, low_memory, memory_map, float_precision, storage_options)\u001b[0m\n\u001b[1;32m    663\u001b[0m kwds_defaults \u001b[39m=\u001b[39m _refine_defaults_read(\n\u001b[1;32m    664\u001b[0m     dialect,\n\u001b[1;32m    665\u001b[0m     delimiter,\n\u001b[0;32m   (...)\u001b[0m\n\u001b[1;32m    674\u001b[0m     defaults\u001b[39m=\u001b[39m{\u001b[39m\"\u001b[39m\u001b[39mdelimiter\u001b[39m\u001b[39m\"\u001b[39m: \u001b[39m\"\u001b[39m\u001b[39m,\u001b[39m\u001b[39m\"\u001b[39m},\n\u001b[1;32m    675\u001b[0m )\n\u001b[1;32m    676\u001b[0m kwds\u001b[39m.\u001b[39mupdate(kwds_defaults)\n\u001b[0;32m--> 678\u001b[0m \u001b[39mreturn\u001b[39;00m _read(filepath_or_buffer, kwds)\n",
      "File \u001b[0;32m/opt/homebrew/Caskroom/miniforge/base/lib/python3.9/site-packages/pandas/io/parsers/readers.py:575\u001b[0m, in \u001b[0;36m_read\u001b[0;34m(filepath_or_buffer, kwds)\u001b[0m\n\u001b[1;32m    572\u001b[0m _validate_names(kwds\u001b[39m.\u001b[39mget(\u001b[39m\"\u001b[39m\u001b[39mnames\u001b[39m\u001b[39m\"\u001b[39m, \u001b[39mNone\u001b[39;00m))\n\u001b[1;32m    574\u001b[0m \u001b[39m# Create the parser.\u001b[39;00m\n\u001b[0;32m--> 575\u001b[0m parser \u001b[39m=\u001b[39m TextFileReader(filepath_or_buffer, \u001b[39m*\u001b[39;49m\u001b[39m*\u001b[39;49mkwds)\n\u001b[1;32m    577\u001b[0m \u001b[39mif\u001b[39;00m chunksize \u001b[39mor\u001b[39;00m iterator:\n\u001b[1;32m    578\u001b[0m     \u001b[39mreturn\u001b[39;00m parser\n",
      "File \u001b[0;32m/opt/homebrew/Caskroom/miniforge/base/lib/python3.9/site-packages/pandas/io/parsers/readers.py:932\u001b[0m, in \u001b[0;36mTextFileReader.__init__\u001b[0;34m(self, f, engine, **kwds)\u001b[0m\n\u001b[1;32m    929\u001b[0m     \u001b[39mself\u001b[39m\u001b[39m.\u001b[39moptions[\u001b[39m\"\u001b[39m\u001b[39mhas_index_names\u001b[39m\u001b[39m\"\u001b[39m] \u001b[39m=\u001b[39m kwds[\u001b[39m\"\u001b[39m\u001b[39mhas_index_names\u001b[39m\u001b[39m\"\u001b[39m]\n\u001b[1;32m    931\u001b[0m \u001b[39mself\u001b[39m\u001b[39m.\u001b[39mhandles: IOHandles \u001b[39m|\u001b[39m \u001b[39mNone\u001b[39;00m \u001b[39m=\u001b[39m \u001b[39mNone\u001b[39;00m\n\u001b[0;32m--> 932\u001b[0m \u001b[39mself\u001b[39m\u001b[39m.\u001b[39m_engine \u001b[39m=\u001b[39m \u001b[39mself\u001b[39;49m\u001b[39m.\u001b[39;49m_make_engine(f, \u001b[39mself\u001b[39;49m\u001b[39m.\u001b[39;49mengine)\n",
      "File \u001b[0;32m/opt/homebrew/Caskroom/miniforge/base/lib/python3.9/site-packages/pandas/io/parsers/readers.py:1234\u001b[0m, in \u001b[0;36mTextFileReader._make_engine\u001b[0;34m(self, f, engine)\u001b[0m\n\u001b[1;32m   1231\u001b[0m     \u001b[39mraise\u001b[39;00m \u001b[39mValueError\u001b[39;00m(msg)\n\u001b[1;32m   1233\u001b[0m \u001b[39mtry\u001b[39;00m:\n\u001b[0;32m-> 1234\u001b[0m     \u001b[39mreturn\u001b[39;00m mapping[engine](f, \u001b[39m*\u001b[39;49m\u001b[39m*\u001b[39;49m\u001b[39mself\u001b[39;49m\u001b[39m.\u001b[39;49moptions)\n\u001b[1;32m   1235\u001b[0m \u001b[39mexcept\u001b[39;00m \u001b[39mException\u001b[39;00m:\n\u001b[1;32m   1236\u001b[0m     \u001b[39mif\u001b[39;00m \u001b[39mself\u001b[39m\u001b[39m.\u001b[39mhandles \u001b[39mis\u001b[39;00m \u001b[39mnot\u001b[39;00m \u001b[39mNone\u001b[39;00m:\n",
      "File \u001b[0;32m/opt/homebrew/Caskroom/miniforge/base/lib/python3.9/site-packages/pandas/io/parsers/c_parser_wrapper.py:75\u001b[0m, in \u001b[0;36mCParserWrapper.__init__\u001b[0;34m(self, src, **kwds)\u001b[0m\n\u001b[1;32m     72\u001b[0m     kwds\u001b[39m.\u001b[39mpop(key, \u001b[39mNone\u001b[39;00m)\n\u001b[1;32m     74\u001b[0m kwds[\u001b[39m\"\u001b[39m\u001b[39mdtype\u001b[39m\u001b[39m\"\u001b[39m] \u001b[39m=\u001b[39m ensure_dtype_objs(kwds\u001b[39m.\u001b[39mget(\u001b[39m\"\u001b[39m\u001b[39mdtype\u001b[39m\u001b[39m\"\u001b[39m, \u001b[39mNone\u001b[39;00m))\n\u001b[0;32m---> 75\u001b[0m \u001b[39mself\u001b[39m\u001b[39m.\u001b[39m_reader \u001b[39m=\u001b[39m parsers\u001b[39m.\u001b[39;49mTextReader(src, \u001b[39m*\u001b[39;49m\u001b[39m*\u001b[39;49mkwds)\n\u001b[1;32m     77\u001b[0m \u001b[39mself\u001b[39m\u001b[39m.\u001b[39munnamed_cols \u001b[39m=\u001b[39m \u001b[39mself\u001b[39m\u001b[39m.\u001b[39m_reader\u001b[39m.\u001b[39munnamed_cols\n\u001b[1;32m     79\u001b[0m \u001b[39m# error: Cannot determine type of 'names'\u001b[39;00m\n",
      "File \u001b[0;32m/opt/homebrew/Caskroom/miniforge/base/lib/python3.9/site-packages/pandas/_libs/parsers.pyx:544\u001b[0m, in \u001b[0;36mpandas._libs.parsers.TextReader.__cinit__\u001b[0;34m()\u001b[0m\n",
      "File \u001b[0;32m/opt/homebrew/Caskroom/miniforge/base/lib/python3.9/site-packages/pandas/_libs/parsers.pyx:633\u001b[0m, in \u001b[0;36mpandas._libs.parsers.TextReader._get_header\u001b[0;34m()\u001b[0m\n",
      "File \u001b[0;32m/opt/homebrew/Caskroom/miniforge/base/lib/python3.9/site-packages/pandas/_libs/parsers.pyx:847\u001b[0m, in \u001b[0;36mpandas._libs.parsers.TextReader._tokenize_rows\u001b[0;34m()\u001b[0m\n",
      "File \u001b[0;32m/opt/homebrew/Caskroom/miniforge/base/lib/python3.9/site-packages/pandas/_libs/parsers.pyx:1952\u001b[0m, in \u001b[0;36mpandas._libs.parsers.raise_parser_error\u001b[0;34m()\u001b[0m\n",
      "\u001b[0;31mUnicodeDecodeError\u001b[0m: 'utf-8' codec can't decode byte 0x81 in position 16: invalid start byte"
     ]
    }
   ],
   "source": [
    "dfog = pd.read_csv('US Airline Data.xlsx')"
   ]
  },
  {
   "cell_type": "markdown",
   "metadata": {},
   "source": [
    "# Exploring Dataset"
   ]
  },
  {
   "cell_type": "code",
   "execution_count": 5,
   "metadata": {},
   "outputs": [
    {
     "data": {
      "text/plain": [
       "['year',\n",
       " 'month',\n",
       " 'carrier',\n",
       " 'carrier_name',\n",
       " 'airport',\n",
       " 'airport_name',\n",
       " 'arr_flights',\n",
       " 'arr_del15',\n",
       " 'carrier_ct',\n",
       " 'weather_ct',\n",
       " 'nas_ct',\n",
       " 'security_ct',\n",
       " 'late_aircraft_ct',\n",
       " 'arr_cancelled',\n",
       " 'arr_diverted',\n",
       " 'arr_delay',\n",
       " 'carrier_delay',\n",
       " 'weather_delay',\n",
       " 'nas_delay',\n",
       " 'security_delay',\n",
       " 'late_aircraft_delay',\n",
       " 'PrimaryFirst',\n",
       " 'abs_late_aircraft_ct',\n",
       " 'abs_late_aircraft_delay',\n",
       " 'abs_arr_delay']"
      ]
     },
     "execution_count": 5,
     "metadata": {},
     "output_type": "execute_result"
    }
   ],
   "source": [
    "list(df.columns)"
   ]
  },
  {
   "cell_type": "markdown",
   "metadata": {},
   "source": [
    "# Data Cleaning"
   ]
  },
  {
   "cell_type": "markdown",
   "metadata": {},
   "source": [
    "## Remove Duplicates"
   ]
  },
  {
   "cell_type": "code",
   "execution_count": 6,
   "metadata": {},
   "outputs": [
    {
     "data": {
      "text/html": [
       "<div>\n",
       "<style scoped>\n",
       "    .dataframe tbody tr th:only-of-type {\n",
       "        vertical-align: middle;\n",
       "    }\n",
       "\n",
       "    .dataframe tbody tr th {\n",
       "        vertical-align: top;\n",
       "    }\n",
       "\n",
       "    .dataframe thead th {\n",
       "        text-align: right;\n",
       "    }\n",
       "</style>\n",
       "<table border=\"1\" class=\"dataframe\">\n",
       "  <thead>\n",
       "    <tr style=\"text-align: right;\">\n",
       "      <th></th>\n",
       "      <th>year</th>\n",
       "      <th>month</th>\n",
       "      <th>carrier</th>\n",
       "      <th>carrier_name</th>\n",
       "      <th>airport</th>\n",
       "      <th>airport_name</th>\n",
       "      <th>arr_flights</th>\n",
       "      <th>arr_del15</th>\n",
       "      <th>carrier_ct</th>\n",
       "      <th>weather_ct</th>\n",
       "      <th>...</th>\n",
       "      <th>arr_delay</th>\n",
       "      <th>carrier_delay</th>\n",
       "      <th>weather_delay</th>\n",
       "      <th>nas_delay</th>\n",
       "      <th>security_delay</th>\n",
       "      <th>late_aircraft_delay</th>\n",
       "      <th>PrimaryFirst</th>\n",
       "      <th>abs_late_aircraft_ct</th>\n",
       "      <th>abs_late_aircraft_delay</th>\n",
       "      <th>abs_arr_delay</th>\n",
       "    </tr>\n",
       "  </thead>\n",
       "  <tbody>\n",
       "    <tr>\n",
       "      <th>0</th>\n",
       "      <td>2022.0</td>\n",
       "      <td>5.0</td>\n",
       "      <td>9E</td>\n",
       "      <td>Endeavor Air Inc.</td>\n",
       "      <td>ABE</td>\n",
       "      <td>Allentown/Bethlehem/Easton, PA: Lehigh Valley ...</td>\n",
       "      <td>136.0</td>\n",
       "      <td>7.0</td>\n",
       "      <td>343.64</td>\n",
       "      <td>0.00</td>\n",
       "      <td>...</td>\n",
       "      <td>7.44</td>\n",
       "      <td>501.26</td>\n",
       "      <td>0.0</td>\n",
       "      <td>4.0</td>\n",
       "      <td>0.0</td>\n",
       "      <td>458.33</td>\n",
       "      <td>Primary Case</td>\n",
       "      <td>8.68</td>\n",
       "      <td>458.33</td>\n",
       "      <td>7.44</td>\n",
       "    </tr>\n",
       "    <tr>\n",
       "      <th>1</th>\n",
       "      <td>2022.0</td>\n",
       "      <td>5.0</td>\n",
       "      <td>9E</td>\n",
       "      <td>Endeavor Air Inc.</td>\n",
       "      <td>ABY</td>\n",
       "      <td>Albany, GA: Southwest Georgia Regional</td>\n",
       "      <td>91.0</td>\n",
       "      <td>16.0</td>\n",
       "      <td>227.12</td>\n",
       "      <td>0.00</td>\n",
       "      <td>...</td>\n",
       "      <td>9.78</td>\n",
       "      <td>328.48</td>\n",
       "      <td>0.0</td>\n",
       "      <td>81.0</td>\n",
       "      <td>0.0</td>\n",
       "      <td>553.13</td>\n",
       "      <td>Primary Case</td>\n",
       "      <td>15.38</td>\n",
       "      <td>553.13</td>\n",
       "      <td>9.78</td>\n",
       "    </tr>\n",
       "    <tr>\n",
       "      <th>2</th>\n",
       "      <td>2022.0</td>\n",
       "      <td>5.0</td>\n",
       "      <td>9E</td>\n",
       "      <td>Endeavor Air Inc.</td>\n",
       "      <td>ACK</td>\n",
       "      <td>Nantucket, MA: Nantucket Memorial</td>\n",
       "      <td>19.0</td>\n",
       "      <td>2.0</td>\n",
       "      <td>191.68</td>\n",
       "      <td>0.00</td>\n",
       "      <td>...</td>\n",
       "      <td>4.10</td>\n",
       "      <td>583.57</td>\n",
       "      <td>0.0</td>\n",
       "      <td>106.0</td>\n",
       "      <td>0.0</td>\n",
       "      <td>1051.53</td>\n",
       "      <td>Primary Case</td>\n",
       "      <td>5.73</td>\n",
       "      <td>1051.53</td>\n",
       "      <td>4.10</td>\n",
       "    </tr>\n",
       "    <tr>\n",
       "      <th>3</th>\n",
       "      <td>2022.0</td>\n",
       "      <td>5.0</td>\n",
       "      <td>9E</td>\n",
       "      <td>Endeavor Air Inc.</td>\n",
       "      <td>AEX</td>\n",
       "      <td>Alexandria, LA: Alexandria International</td>\n",
       "      <td>88.0</td>\n",
       "      <td>14.0</td>\n",
       "      <td>355.24</td>\n",
       "      <td>0.76</td>\n",
       "      <td>...</td>\n",
       "      <td>5.77</td>\n",
       "      <td>441.53</td>\n",
       "      <td>35.0</td>\n",
       "      <td>125.0</td>\n",
       "      <td>0.0</td>\n",
       "      <td>653.58</td>\n",
       "      <td>Primary Case</td>\n",
       "      <td>20.32</td>\n",
       "      <td>653.58</td>\n",
       "      <td>5.77</td>\n",
       "    </tr>\n",
       "    <tr>\n",
       "      <th>4</th>\n",
       "      <td>2022.0</td>\n",
       "      <td>5.0</td>\n",
       "      <td>9E</td>\n",
       "      <td>Endeavor Air Inc.</td>\n",
       "      <td>AGS</td>\n",
       "      <td>Augusta, GA: Augusta Regional at Bush Field</td>\n",
       "      <td>181.0</td>\n",
       "      <td>19.0</td>\n",
       "      <td>380.49</td>\n",
       "      <td>0.00</td>\n",
       "      <td>...</td>\n",
       "      <td>10.74</td>\n",
       "      <td>252.14</td>\n",
       "      <td>0.0</td>\n",
       "      <td>87.0</td>\n",
       "      <td>0.0</td>\n",
       "      <td>1095.64</td>\n",
       "      <td>Primary Case</td>\n",
       "      <td>22.45</td>\n",
       "      <td>1095.64</td>\n",
       "      <td>10.74</td>\n",
       "    </tr>\n",
       "    <tr>\n",
       "      <th>...</th>\n",
       "      <td>...</td>\n",
       "      <td>...</td>\n",
       "      <td>...</td>\n",
       "      <td>...</td>\n",
       "      <td>...</td>\n",
       "      <td>...</td>\n",
       "      <td>...</td>\n",
       "      <td>...</td>\n",
       "      <td>...</td>\n",
       "      <td>...</td>\n",
       "      <td>...</td>\n",
       "      <td>...</td>\n",
       "      <td>...</td>\n",
       "      <td>...</td>\n",
       "      <td>...</td>\n",
       "      <td>...</td>\n",
       "      <td>...</td>\n",
       "      <td>...</td>\n",
       "      <td>...</td>\n",
       "      <td>...</td>\n",
       "      <td>...</td>\n",
       "    </tr>\n",
       "    <tr>\n",
       "      <th>994</th>\n",
       "      <td>2022.0</td>\n",
       "      <td>5.0</td>\n",
       "      <td>OH</td>\n",
       "      <td>PSA Airlines Inc.</td>\n",
       "      <td>ORF</td>\n",
       "      <td>Norfolk, VA: Norfolk International</td>\n",
       "      <td>310.0</td>\n",
       "      <td>100.0</td>\n",
       "      <td>302.20</td>\n",
       "      <td>9.35</td>\n",
       "      <td>...</td>\n",
       "      <td>13.65</td>\n",
       "      <td>239.08</td>\n",
       "      <td>1075.0</td>\n",
       "      <td>1375.0</td>\n",
       "      <td>20.0</td>\n",
       "      <td>896.95</td>\n",
       "      <td>Primary Case</td>\n",
       "      <td>14.47</td>\n",
       "      <td>896.95</td>\n",
       "      <td>13.65</td>\n",
       "    </tr>\n",
       "    <tr>\n",
       "      <th>995</th>\n",
       "      <td>2022.0</td>\n",
       "      <td>5.0</td>\n",
       "      <td>OH</td>\n",
       "      <td>PSA Airlines Inc.</td>\n",
       "      <td>PHF</td>\n",
       "      <td>Newport News/Williamsburg, VA: Newport News/Wi...</td>\n",
       "      <td>79.0</td>\n",
       "      <td>12.0</td>\n",
       "      <td>374.63</td>\n",
       "      <td>2.12</td>\n",
       "      <td>...</td>\n",
       "      <td>10.59</td>\n",
       "      <td>446.13</td>\n",
       "      <td>76.0</td>\n",
       "      <td>158.0</td>\n",
       "      <td>0.0</td>\n",
       "      <td>459.13</td>\n",
       "      <td>Primary Case</td>\n",
       "      <td>9.38</td>\n",
       "      <td>459.13</td>\n",
       "      <td>10.59</td>\n",
       "    </tr>\n",
       "    <tr>\n",
       "      <th>996</th>\n",
       "      <td>2022.0</td>\n",
       "      <td>5.0</td>\n",
       "      <td>OH</td>\n",
       "      <td>PSA Airlines Inc.</td>\n",
       "      <td>PHL</td>\n",
       "      <td>Philadelphia, PA: Philadelphia International</td>\n",
       "      <td>1643.0</td>\n",
       "      <td>295.0</td>\n",
       "      <td>404.07</td>\n",
       "      <td>8.96</td>\n",
       "      <td>...</td>\n",
       "      <td>12.55</td>\n",
       "      <td>293.09</td>\n",
       "      <td>876.0</td>\n",
       "      <td>3160.0</td>\n",
       "      <td>16.0</td>\n",
       "      <td>773.82</td>\n",
       "      <td>Primary Case</td>\n",
       "      <td>18.50</td>\n",
       "      <td>773.82</td>\n",
       "      <td>12.55</td>\n",
       "    </tr>\n",
       "    <tr>\n",
       "      <th>997</th>\n",
       "      <td>2022.0</td>\n",
       "      <td>5.0</td>\n",
       "      <td>OH</td>\n",
       "      <td>PSA Airlines Inc.</td>\n",
       "      <td>PIA</td>\n",
       "      <td>Peoria, IL: General Downing - Peoria Internati...</td>\n",
       "      <td>59.0</td>\n",
       "      <td>14.0</td>\n",
       "      <td>267.94</td>\n",
       "      <td>2.10</td>\n",
       "      <td>...</td>\n",
       "      <td>17.01</td>\n",
       "      <td>397.08</td>\n",
       "      <td>98.0</td>\n",
       "      <td>119.0</td>\n",
       "      <td>0.0</td>\n",
       "      <td>660.03</td>\n",
       "      <td>Primary Case</td>\n",
       "      <td>9.34</td>\n",
       "      <td>660.03</td>\n",
       "      <td>17.01</td>\n",
       "    </tr>\n",
       "    <tr>\n",
       "      <th>998</th>\n",
       "      <td>2022.0</td>\n",
       "      <td>5.0</td>\n",
       "      <td>OH</td>\n",
       "      <td>PSA Airlines Inc.</td>\n",
       "      <td>PIT</td>\n",
       "      <td>Pittsburgh, PA: Pittsburgh International</td>\n",
       "      <td>110.0</td>\n",
       "      <td>12.0</td>\n",
       "      <td>467.53</td>\n",
       "      <td>0.00</td>\n",
       "      <td>...</td>\n",
       "      <td>6.25</td>\n",
       "      <td>313.24</td>\n",
       "      <td>0.0</td>\n",
       "      <td>136.0</td>\n",
       "      <td>0.0</td>\n",
       "      <td>815.66</td>\n",
       "      <td>Primary Case</td>\n",
       "      <td>4.95</td>\n",
       "      <td>815.66</td>\n",
       "      <td>6.25</td>\n",
       "    </tr>\n",
       "  </tbody>\n",
       "</table>\n",
       "<p>999 rows × 25 columns</p>\n",
       "</div>"
      ],
      "text/plain": [
       "       year  month carrier       carrier_name airport  \\\n",
       "0    2022.0    5.0      9E  Endeavor Air Inc.     ABE   \n",
       "1    2022.0    5.0      9E  Endeavor Air Inc.     ABY   \n",
       "2    2022.0    5.0      9E  Endeavor Air Inc.     ACK   \n",
       "3    2022.0    5.0      9E  Endeavor Air Inc.     AEX   \n",
       "4    2022.0    5.0      9E  Endeavor Air Inc.     AGS   \n",
       "..      ...    ...     ...                ...     ...   \n",
       "994  2022.0    5.0      OH  PSA Airlines Inc.     ORF   \n",
       "995  2022.0    5.0      OH  PSA Airlines Inc.     PHF   \n",
       "996  2022.0    5.0      OH  PSA Airlines Inc.     PHL   \n",
       "997  2022.0    5.0      OH  PSA Airlines Inc.     PIA   \n",
       "998  2022.0    5.0      OH  PSA Airlines Inc.     PIT   \n",
       "\n",
       "                                          airport_name  arr_flights  \\\n",
       "0    Allentown/Bethlehem/Easton, PA: Lehigh Valley ...        136.0   \n",
       "1               Albany, GA: Southwest Georgia Regional         91.0   \n",
       "2                    Nantucket, MA: Nantucket Memorial         19.0   \n",
       "3             Alexandria, LA: Alexandria International         88.0   \n",
       "4          Augusta, GA: Augusta Regional at Bush Field        181.0   \n",
       "..                                                 ...          ...   \n",
       "994                 Norfolk, VA: Norfolk International        310.0   \n",
       "995  Newport News/Williamsburg, VA: Newport News/Wi...         79.0   \n",
       "996       Philadelphia, PA: Philadelphia International       1643.0   \n",
       "997  Peoria, IL: General Downing - Peoria Internati...         59.0   \n",
       "998           Pittsburgh, PA: Pittsburgh International        110.0   \n",
       "\n",
       "     arr_del15  carrier_ct  weather_ct  ...  arr_delay  carrier_delay  \\\n",
       "0          7.0      343.64        0.00  ...       7.44         501.26   \n",
       "1         16.0      227.12        0.00  ...       9.78         328.48   \n",
       "2          2.0      191.68        0.00  ...       4.10         583.57   \n",
       "3         14.0      355.24        0.76  ...       5.77         441.53   \n",
       "4         19.0      380.49        0.00  ...      10.74         252.14   \n",
       "..         ...         ...         ...  ...        ...            ...   \n",
       "994      100.0      302.20        9.35  ...      13.65         239.08   \n",
       "995       12.0      374.63        2.12  ...      10.59         446.13   \n",
       "996      295.0      404.07        8.96  ...      12.55         293.09   \n",
       "997       14.0      267.94        2.10  ...      17.01         397.08   \n",
       "998       12.0      467.53        0.00  ...       6.25         313.24   \n",
       "\n",
       "     weather_delay  nas_delay  security_delay  late_aircraft_delay  \\\n",
       "0              0.0        4.0             0.0               458.33   \n",
       "1              0.0       81.0             0.0               553.13   \n",
       "2              0.0      106.0             0.0              1051.53   \n",
       "3             35.0      125.0             0.0               653.58   \n",
       "4              0.0       87.0             0.0              1095.64   \n",
       "..             ...        ...             ...                  ...   \n",
       "994         1075.0     1375.0            20.0               896.95   \n",
       "995           76.0      158.0             0.0               459.13   \n",
       "996          876.0     3160.0            16.0               773.82   \n",
       "997           98.0      119.0             0.0               660.03   \n",
       "998            0.0      136.0             0.0               815.66   \n",
       "\n",
       "     PrimaryFirst  abs_late_aircraft_ct  abs_late_aircraft_delay  \\\n",
       "0    Primary Case                  8.68                   458.33   \n",
       "1    Primary Case                 15.38                   553.13   \n",
       "2    Primary Case                  5.73                  1051.53   \n",
       "3    Primary Case                 20.32                   653.58   \n",
       "4    Primary Case                 22.45                  1095.64   \n",
       "..            ...                   ...                      ...   \n",
       "994  Primary Case                 14.47                   896.95   \n",
       "995  Primary Case                  9.38                   459.13   \n",
       "996  Primary Case                 18.50                   773.82   \n",
       "997  Primary Case                  9.34                   660.03   \n",
       "998  Primary Case                  4.95                   815.66   \n",
       "\n",
       "     abs_arr_delay  \n",
       "0             7.44  \n",
       "1             9.78  \n",
       "2             4.10  \n",
       "3             5.77  \n",
       "4            10.74  \n",
       "..             ...  \n",
       "994          13.65  \n",
       "995          10.59  \n",
       "996          12.55  \n",
       "997          17.01  \n",
       "998           6.25  \n",
       "\n",
       "[999 rows x 25 columns]"
      ]
     },
     "execution_count": 6,
     "metadata": {},
     "output_type": "execute_result"
    }
   ],
   "source": [
    "df.drop_duplicates()"
   ]
  },
  {
   "cell_type": "markdown",
   "metadata": {},
   "source": [
    "## Checking for Missing Data"
   ]
  },
  {
   "cell_type": "code",
   "execution_count": 7,
   "metadata": {},
   "outputs": [
    {
     "name": "stdout",
     "output_type": "stream",
     "text": [
      "<class 'pandas.core.frame.DataFrame'>\n",
      "RangeIndex: 999 entries, 0 to 998\n",
      "Data columns (total 25 columns):\n",
      " #   Column                   Non-Null Count  Dtype   \n",
      "---  ------                   --------------  -----   \n",
      " 0   year                     999 non-null    float64 \n",
      " 1   month                    999 non-null    float64 \n",
      " 2   carrier                  999 non-null    object  \n",
      " 3   carrier_name             999 non-null    object  \n",
      " 4   airport                  999 non-null    object  \n",
      " 5   airport_name             999 non-null    object  \n",
      " 6   arr_flights              999 non-null    float64 \n",
      " 7   arr_del15                999 non-null    float64 \n",
      " 8   carrier_ct               999 non-null    float64 \n",
      " 9   weather_ct               999 non-null    float64 \n",
      " 10  nas_ct                   999 non-null    float64 \n",
      " 11  security_ct              999 non-null    float64 \n",
      " 12  late_aircraft_ct         999 non-null    float64 \n",
      " 13  arr_cancelled            999 non-null    float64 \n",
      " 14  arr_diverted             999 non-null    float64 \n",
      " 15  arr_delay                999 non-null    float64 \n",
      " 16  carrier_delay            999 non-null    float64 \n",
      " 17  weather_delay            999 non-null    float64 \n",
      " 18  nas_delay                999 non-null    float64 \n",
      " 19  security_delay           999 non-null    float64 \n",
      " 20  late_aircraft_delay      999 non-null    float64 \n",
      " 21  PrimaryFirst             999 non-null    category\n",
      " 22  abs_late_aircraft_ct     999 non-null    float64 \n",
      " 23  abs_late_aircraft_delay  999 non-null    float64 \n",
      " 24  abs_arr_delay            999 non-null    float64 \n",
      "dtypes: category(1), float64(20), object(4)\n",
      "memory usage: 188.5+ KB\n"
     ]
    }
   ],
   "source": [
    "df.info()"
   ]
  },
  {
   "cell_type": "markdown",
   "metadata": {},
   "source": []
  },
  {
   "cell_type": "markdown",
   "metadata": {},
   "source": [
    "## Outliers"
   ]
  },
  {
   "cell_type": "code",
   "execution_count": 16,
   "metadata": {},
   "outputs": [],
   "source": [
    "import matplotlib.pyplot as plt\n",
    "import numpy as np"
   ]
  },
  {
   "cell_type": "code",
   "execution_count": 29,
   "metadata": {},
   "outputs": [
    {
     "data": {
      "image/png": "[encoded data removed]",
      "text/plain": [
       "<Figure size 640x480 with 1 Axes>"
      ]
     },
     "metadata": {},
     "output_type": "display_data"
    }
   ],
   "source": [
    "df.boxplot(column=[\n",
    " 'carrier_ct',\n",
    " 'carrier_delay',\n",
    " 'late_aircraft_delay'\n",
    " ])\n",
    "plt.show()"
   ]
  },
  {
   "cell_type": "code",
   "execution_count": 28,
   "metadata": {},
   "outputs": [
    {
     "data": {
      "image/png": "[encoded data removed]",
      "text/plain": [
       "<Figure size 640x480 with 1 Axes>"
      ]
     },
     "metadata": {},
     "output_type": "display_data"
    }
   ],
   "source": [
    "df.boxplot(column=[\n",
    " 'late_aircraft_ct',\n",
    " 'arr_delay',\n",
    " ])\n",
    "plt.show()"
   ]
  },
  {
   "cell_type": "markdown",
   "metadata": {},
   "source": [
    "## Descriptive Statistics"
   ]
  },
  {
   "cell_type": "code",
   "execution_count": 30,
   "metadata": {},
   "outputs": [
    {
     "data": {
      "text/html": [
       "<div>\n",
       "<style scoped>\n",
       "    .dataframe tbody tr th:only-of-type {\n",
       "        vertical-align: middle;\n",
       "    }\n",
       "\n",
       "    .dataframe tbody tr th {\n",
       "        vertical-align: top;\n",
       "    }\n",
       "\n",
       "    .dataframe thead th {\n",
       "        text-align: right;\n",
       "    }\n",
       "</style>\n",
       "<table border=\"1\" class=\"dataframe\">\n",
       "  <thead>\n",
       "    <tr style=\"text-align: right;\">\n",
       "      <th></th>\n",
       "      <th>year</th>\n",
       "      <th>month</th>\n",
       "      <th>arr_flights</th>\n",
       "      <th>arr_del15</th>\n",
       "      <th>carrier_ct</th>\n",
       "      <th>weather_ct</th>\n",
       "      <th>nas_ct</th>\n",
       "      <th>security_ct</th>\n",
       "      <th>late_aircraft_ct</th>\n",
       "      <th>arr_cancelled</th>\n",
       "      <th>arr_diverted</th>\n",
       "      <th>arr_delay</th>\n",
       "      <th>carrier_delay</th>\n",
       "      <th>weather_delay</th>\n",
       "      <th>nas_delay</th>\n",
       "      <th>security_delay</th>\n",
       "      <th>late_aircraft_delay</th>\n",
       "      <th>abs_late_aircraft_ct</th>\n",
       "      <th>abs_late_aircraft_delay</th>\n",
       "      <th>abs_arr_delay</th>\n",
       "    </tr>\n",
       "  </thead>\n",
       "  <tbody>\n",
       "    <tr>\n",
       "      <th>count</th>\n",
       "      <td>999.0</td>\n",
       "      <td>999.0</td>\n",
       "      <td>999.000000</td>\n",
       "      <td>999.000000</td>\n",
       "      <td>999.000000</td>\n",
       "      <td>999.000000</td>\n",
       "      <td>999.000000</td>\n",
       "      <td>999.000000</td>\n",
       "      <td>999.000000</td>\n",
       "      <td>999.000000</td>\n",
       "      <td>999.000000</td>\n",
       "      <td>999.000000</td>\n",
       "      <td>999.000000</td>\n",
       "      <td>999.000000</td>\n",
       "      <td>999.000000</td>\n",
       "      <td>999.000000</td>\n",
       "      <td>999.000000</td>\n",
       "      <td>999.000000</td>\n",
       "      <td>999.000000</td>\n",
       "      <td>999.000000</td>\n",
       "    </tr>\n",
       "    <tr>\n",
       "      <th>mean</th>\n",
       "      <td>2022.0</td>\n",
       "      <td>5.0</td>\n",
       "      <td>298.324324</td>\n",
       "      <td>62.332332</td>\n",
       "      <td>332.727137</td>\n",
       "      <td>2.473844</td>\n",
       "      <td>18.070601</td>\n",
       "      <td>0.195616</td>\n",
       "      <td>14.934254</td>\n",
       "      <td>6.713714</td>\n",
       "      <td>0.795796</td>\n",
       "      <td>10.104124</td>\n",
       "      <td>413.687107</td>\n",
       "      <td>228.786787</td>\n",
       "      <td>854.587588</td>\n",
       "      <td>6.931932</td>\n",
       "      <td>710.021892</td>\n",
       "      <td>14.961822</td>\n",
       "      <td>710.143053</td>\n",
       "      <td>10.125005</td>\n",
       "    </tr>\n",
       "    <tr>\n",
       "      <th>std</th>\n",
       "      <td>0.0</td>\n",
       "      <td>0.0</td>\n",
       "      <td>941.000355</td>\n",
       "      <td>169.232956</td>\n",
       "      <td>92.402432</td>\n",
       "      <td>10.051320</td>\n",
       "      <td>48.374457</td>\n",
       "      <td>0.803448</td>\n",
       "      <td>6.258313</td>\n",
       "      <td>23.319213</td>\n",
       "      <td>2.935912</td>\n",
       "      <td>4.103645</td>\n",
       "      <td>102.749955</td>\n",
       "      <td>956.703617</td>\n",
       "      <td>2432.747704</td>\n",
       "      <td>27.154781</td>\n",
       "      <td>235.097804</td>\n",
       "      <td>6.192051</td>\n",
       "      <td>234.731200</td>\n",
       "      <td>4.051799</td>\n",
       "    </tr>\n",
       "    <tr>\n",
       "      <th>min</th>\n",
       "      <td>2022.0</td>\n",
       "      <td>5.0</td>\n",
       "      <td>1.000000</td>\n",
       "      <td>0.000000</td>\n",
       "      <td>26.540000</td>\n",
       "      <td>0.000000</td>\n",
       "      <td>0.000000</td>\n",
       "      <td>0.000000</td>\n",
       "      <td>-4.270000</td>\n",
       "      <td>0.000000</td>\n",
       "      <td>0.000000</td>\n",
       "      <td>-2.500000</td>\n",
       "      <td>77.260000</td>\n",
       "      <td>0.000000</td>\n",
       "      <td>0.000000</td>\n",
       "      <td>0.000000</td>\n",
       "      <td>-60.520000</td>\n",
       "      <td>0.060000</td>\n",
       "      <td>8.350000</td>\n",
       "      <td>0.040000</td>\n",
       "    </tr>\n",
       "    <tr>\n",
       "      <th>25%</th>\n",
       "      <td>2022.0</td>\n",
       "      <td>5.0</td>\n",
       "      <td>40.000000</td>\n",
       "      <td>7.000000</td>\n",
       "      <td>269.280000</td>\n",
       "      <td>0.000000</td>\n",
       "      <td>1.480000</td>\n",
       "      <td>0.000000</td>\n",
       "      <td>10.655000</td>\n",
       "      <td>0.000000</td>\n",
       "      <td>0.000000</td>\n",
       "      <td>7.325000</td>\n",
       "      <td>346.105000</td>\n",
       "      <td>0.000000</td>\n",
       "      <td>50.000000</td>\n",
       "      <td>0.000000</td>\n",
       "      <td>555.025000</td>\n",
       "      <td>10.655000</td>\n",
       "      <td>555.025000</td>\n",
       "      <td>7.325000</td>\n",
       "    </tr>\n",
       "    <tr>\n",
       "      <th>50%</th>\n",
       "      <td>2022.0</td>\n",
       "      <td>5.0</td>\n",
       "      <td>89.000000</td>\n",
       "      <td>16.000000</td>\n",
       "      <td>330.960000</td>\n",
       "      <td>0.430000</td>\n",
       "      <td>3.850000</td>\n",
       "      <td>0.000000</td>\n",
       "      <td>14.790000</td>\n",
       "      <td>1.000000</td>\n",
       "      <td>0.000000</td>\n",
       "      <td>10.130000</td>\n",
       "      <td>417.290000</td>\n",
       "      <td>19.000000</td>\n",
       "      <td>158.000000</td>\n",
       "      <td>0.000000</td>\n",
       "      <td>714.520000</td>\n",
       "      <td>14.790000</td>\n",
       "      <td>714.520000</td>\n",
       "      <td>10.130000</td>\n",
       "    </tr>\n",
       "    <tr>\n",
       "      <th>75%</th>\n",
       "      <td>2022.0</td>\n",
       "      <td>5.0</td>\n",
       "      <td>204.000000</td>\n",
       "      <td>44.000000</td>\n",
       "      <td>394.170000</td>\n",
       "      <td>1.835000</td>\n",
       "      <td>11.355000</td>\n",
       "      <td>0.000000</td>\n",
       "      <td>18.990000</td>\n",
       "      <td>4.000000</td>\n",
       "      <td>0.000000</td>\n",
       "      <td>12.850000</td>\n",
       "      <td>483.215000</td>\n",
       "      <td>138.000000</td>\n",
       "      <td>500.000000</td>\n",
       "      <td>0.000000</td>\n",
       "      <td>877.245000</td>\n",
       "      <td>18.990000</td>\n",
       "      <td>877.245000</td>\n",
       "      <td>12.850000</td>\n",
       "    </tr>\n",
       "    <tr>\n",
       "      <th>max</th>\n",
       "      <td>2022.0</td>\n",
       "      <td>5.0</td>\n",
       "      <td>18297.000000</td>\n",
       "      <td>2573.000000</td>\n",
       "      <td>611.720000</td>\n",
       "      <td>208.820000</td>\n",
       "      <td>501.030000</td>\n",
       "      <td>13.180000</td>\n",
       "      <td>36.220000</td>\n",
       "      <td>444.000000</td>\n",
       "      <td>35.000000</td>\n",
       "      <td>22.390000</td>\n",
       "      <td>795.970000</td>\n",
       "      <td>19842.000000</td>\n",
       "      <td>26402.000000</td>\n",
       "      <td>368.000000</td>\n",
       "      <td>1389.760000</td>\n",
       "      <td>36.220000</td>\n",
       "      <td>1389.760000</td>\n",
       "      <td>22.390000</td>\n",
       "    </tr>\n",
       "  </tbody>\n",
       "</table>\n",
       "</div>"
      ],
      "text/plain": [
       "         year  month   arr_flights    arr_del15  carrier_ct  weather_ct  \\\n",
       "count   999.0  999.0    999.000000   999.000000  999.000000  999.000000   \n",
       "mean   2022.0    5.0    298.324324    62.332332  332.727137    2.473844   \n",
       "std       0.0    0.0    941.000355   169.232956   92.402432   10.051320   \n",
       "min    2022.0    5.0      1.000000     0.000000   26.540000    0.000000   \n",
       "25%    2022.0    5.0     40.000000     7.000000  269.280000    0.000000   \n",
       "50%    2022.0    5.0     89.000000    16.000000  330.960000    0.430000   \n",
       "75%    2022.0    5.0    204.000000    44.000000  394.170000    1.835000   \n",
       "max    2022.0    5.0  18297.000000  2573.000000  611.720000  208.820000   \n",
       "\n",
       "           nas_ct  security_ct  late_aircraft_ct  arr_cancelled  arr_diverted  \\\n",
       "count  999.000000   999.000000        999.000000     999.000000    999.000000   \n",
       "mean    18.070601     0.195616         14.934254       6.713714      0.795796   \n",
       "std     48.374457     0.803448          6.258313      23.319213      2.935912   \n",
       "min      0.000000     0.000000         -4.270000       0.000000      0.000000   \n",
       "25%      1.480000     0.000000         10.655000       0.000000      0.000000   \n",
       "50%      3.850000     0.000000         14.790000       1.000000      0.000000   \n",
       "75%     11.355000     0.000000         18.990000       4.000000      0.000000   \n",
       "max    501.030000    13.180000         36.220000     444.000000     35.000000   \n",
       "\n",
       "        arr_delay  carrier_delay  weather_delay     nas_delay  security_delay  \\\n",
       "count  999.000000     999.000000     999.000000    999.000000      999.000000   \n",
       "mean    10.104124     413.687107     228.786787    854.587588        6.931932   \n",
       "std      4.103645     102.749955     956.703617   2432.747704       27.154781   \n",
       "min     -2.500000      77.260000       0.000000      0.000000        0.000000   \n",
       "25%      7.325000     346.105000       0.000000     50.000000        0.000000   \n",
       "50%     10.130000     417.290000      19.000000    158.000000        0.000000   \n",
       "75%     12.850000     483.215000     138.000000    500.000000        0.000000   \n",
       "max     22.390000     795.970000   19842.000000  26402.000000      368.000000   \n",
       "\n",
       "       late_aircraft_delay  abs_late_aircraft_ct  abs_late_aircraft_delay  \\\n",
       "count           999.000000            999.000000               999.000000   \n",
       "mean            710.021892             14.961822               710.143053   \n",
       "std             235.097804              6.192051               234.731200   \n",
       "min             -60.520000              0.060000                 8.350000   \n",
       "25%             555.025000             10.655000               555.025000   \n",
       "50%             714.520000             14.790000               714.520000   \n",
       "75%             877.245000             18.990000               877.245000   \n",
       "max            1389.760000             36.220000              1389.760000   \n",
       "\n",
       "       abs_arr_delay  \n",
       "count     999.000000  \n",
       "mean       10.125005  \n",
       "std         4.051799  \n",
       "min         0.040000  \n",
       "25%         7.325000  \n",
       "50%        10.130000  \n",
       "75%        12.850000  \n",
       "max        22.390000  "
      ]
     },
     "execution_count": 30,
     "metadata": {},
     "output_type": "execute_result"
    }
   ],
   "source": [
    "df.describe()"
   ]
  },
  {
   "cell_type": "markdown",
   "metadata": {},
   "source": [
    "## Correlations"
   ]
  },
  {
   "cell_type": "code",
   "execution_count": 31,
   "metadata": {},
   "outputs": [
    {
     "data": {
      "text/html": [
       "<div>\n",
       "<style scoped>\n",
       "    .dataframe tbody tr th:only-of-type {\n",
       "        vertical-align: middle;\n",
       "    }\n",
       "\n",
       "    .dataframe tbody tr th {\n",
       "        vertical-align: top;\n",
       "    }\n",
       "\n",
       "    .dataframe thead th {\n",
       "        text-align: right;\n",
       "    }\n",
       "</style>\n",
       "<table border=\"1\" class=\"dataframe\">\n",
       "  <thead>\n",
       "    <tr style=\"text-align: right;\">\n",
       "      <th></th>\n",
       "      <th>year</th>\n",
       "      <th>month</th>\n",
       "      <th>arr_flights</th>\n",
       "      <th>arr_del15</th>\n",
       "      <th>carrier_ct</th>\n",
       "      <th>weather_ct</th>\n",
       "      <th>nas_ct</th>\n",
       "      <th>security_ct</th>\n",
       "      <th>late_aircraft_ct</th>\n",
       "      <th>arr_cancelled</th>\n",
       "      <th>arr_diverted</th>\n",
       "      <th>arr_delay</th>\n",
       "      <th>carrier_delay</th>\n",
       "      <th>weather_delay</th>\n",
       "      <th>nas_delay</th>\n",
       "      <th>security_delay</th>\n",
       "      <th>late_aircraft_delay</th>\n",
       "      <th>abs_late_aircraft_ct</th>\n",
       "      <th>abs_late_aircraft_delay</th>\n",
       "      <th>abs_arr_delay</th>\n",
       "    </tr>\n",
       "  </thead>\n",
       "  <tbody>\n",
       "    <tr>\n",
       "      <th>year</th>\n",
       "      <td>NaN</td>\n",
       "      <td>NaN</td>\n",
       "      <td>NaN</td>\n",
       "      <td>NaN</td>\n",
       "      <td>NaN</td>\n",
       "      <td>NaN</td>\n",
       "      <td>NaN</td>\n",
       "      <td>NaN</td>\n",
       "      <td>NaN</td>\n",
       "      <td>NaN</td>\n",
       "      <td>NaN</td>\n",
       "      <td>NaN</td>\n",
       "      <td>NaN</td>\n",
       "      <td>NaN</td>\n",
       "      <td>NaN</td>\n",
       "      <td>NaN</td>\n",
       "      <td>NaN</td>\n",
       "      <td>NaN</td>\n",
       "      <td>NaN</td>\n",
       "      <td>NaN</td>\n",
       "    </tr>\n",
       "    <tr>\n",
       "      <th>month</th>\n",
       "      <td>NaN</td>\n",
       "      <td>NaN</td>\n",
       "      <td>NaN</td>\n",
       "      <td>NaN</td>\n",
       "      <td>NaN</td>\n",
       "      <td>NaN</td>\n",
       "      <td>NaN</td>\n",
       "      <td>NaN</td>\n",
       "      <td>NaN</td>\n",
       "      <td>NaN</td>\n",
       "      <td>NaN</td>\n",
       "      <td>NaN</td>\n",
       "      <td>NaN</td>\n",
       "      <td>NaN</td>\n",
       "      <td>NaN</td>\n",
       "      <td>NaN</td>\n",
       "      <td>NaN</td>\n",
       "      <td>NaN</td>\n",
       "      <td>NaN</td>\n",
       "      <td>NaN</td>\n",
       "    </tr>\n",
       "    <tr>\n",
       "      <th>arr_flights</th>\n",
       "      <td>NaN</td>\n",
       "      <td>NaN</td>\n",
       "      <td>1.000000</td>\n",
       "      <td>0.961924</td>\n",
       "      <td>0.034899</td>\n",
       "      <td>0.829637</td>\n",
       "      <td>0.853047</td>\n",
       "      <td>0.393041</td>\n",
       "      <td>0.004584</td>\n",
       "      <td>0.896926</td>\n",
       "      <td>0.730814</td>\n",
       "      <td>0.033402</td>\n",
       "      <td>-0.019155</td>\n",
       "      <td>0.794738</td>\n",
       "      <td>0.783336</td>\n",
       "      <td>0.409307</td>\n",
       "      <td>0.089443</td>\n",
       "      <td>0.003572</td>\n",
       "      <td>0.089527</td>\n",
       "      <td>0.039641</td>\n",
       "    </tr>\n",
       "    <tr>\n",
       "      <th>arr_del15</th>\n",
       "      <td>NaN</td>\n",
       "      <td>NaN</td>\n",
       "      <td>0.961924</td>\n",
       "      <td>1.000000</td>\n",
       "      <td>0.032375</td>\n",
       "      <td>0.840954</td>\n",
       "      <td>0.943575</td>\n",
       "      <td>0.485793</td>\n",
       "      <td>0.009459</td>\n",
       "      <td>0.870114</td>\n",
       "      <td>0.762663</td>\n",
       "      <td>0.025866</td>\n",
       "      <td>-0.022042</td>\n",
       "      <td>0.817449</td>\n",
       "      <td>0.890976</td>\n",
       "      <td>0.505889</td>\n",
       "      <td>0.085117</td>\n",
       "      <td>0.008248</td>\n",
       "      <td>0.085203</td>\n",
       "      <td>0.031879</td>\n",
       "    </tr>\n",
       "    <tr>\n",
       "      <th>carrier_ct</th>\n",
       "      <td>NaN</td>\n",
       "      <td>NaN</td>\n",
       "      <td>0.034899</td>\n",
       "      <td>0.032375</td>\n",
       "      <td>1.000000</td>\n",
       "      <td>0.063921</td>\n",
       "      <td>0.038124</td>\n",
       "      <td>0.010187</td>\n",
       "      <td>0.032220</td>\n",
       "      <td>0.028894</td>\n",
       "      <td>0.047738</td>\n",
       "      <td>-0.035710</td>\n",
       "      <td>-0.010839</td>\n",
       "      <td>0.073487</td>\n",
       "      <td>0.045236</td>\n",
       "      <td>0.008280</td>\n",
       "      <td>0.053061</td>\n",
       "      <td>0.029340</td>\n",
       "      <td>0.053370</td>\n",
       "      <td>-0.035131</td>\n",
       "    </tr>\n",
       "    <tr>\n",
       "      <th>weather_ct</th>\n",
       "      <td>NaN</td>\n",
       "      <td>NaN</td>\n",
       "      <td>0.829637</td>\n",
       "      <td>0.840954</td>\n",
       "      <td>0.063921</td>\n",
       "      <td>1.000000</td>\n",
       "      <td>0.753722</td>\n",
       "      <td>0.438382</td>\n",
       "      <td>0.034674</td>\n",
       "      <td>0.642207</td>\n",
       "      <td>0.631022</td>\n",
       "      <td>-0.025452</td>\n",
       "      <td>-0.024162</td>\n",
       "      <td>0.980639</td>\n",
       "      <td>0.741839</td>\n",
       "      <td>0.443773</td>\n",
       "      <td>0.070445</td>\n",
       "      <td>0.034151</td>\n",
       "      <td>0.070477</td>\n",
       "      <td>-0.015270</td>\n",
       "    </tr>\n",
       "    <tr>\n",
       "      <th>nas_ct</th>\n",
       "      <td>NaN</td>\n",
       "      <td>NaN</td>\n",
       "      <td>0.853047</td>\n",
       "      <td>0.943575</td>\n",
       "      <td>0.038124</td>\n",
       "      <td>0.753722</td>\n",
       "      <td>1.000000</td>\n",
       "      <td>0.541079</td>\n",
       "      <td>0.003473</td>\n",
       "      <td>0.836326</td>\n",
       "      <td>0.747925</td>\n",
       "      <td>0.020271</td>\n",
       "      <td>-0.016258</td>\n",
       "      <td>0.746719</td>\n",
       "      <td>0.969446</td>\n",
       "      <td>0.556036</td>\n",
       "      <td>0.083238</td>\n",
       "      <td>0.002195</td>\n",
       "      <td>0.083279</td>\n",
       "      <td>0.024719</td>\n",
       "    </tr>\n",
       "    <tr>\n",
       "      <th>security_ct</th>\n",
       "      <td>NaN</td>\n",
       "      <td>NaN</td>\n",
       "      <td>0.393041</td>\n",
       "      <td>0.485793</td>\n",
       "      <td>0.010187</td>\n",
       "      <td>0.438382</td>\n",
       "      <td>0.541079</td>\n",
       "      <td>1.000000</td>\n",
       "      <td>0.015270</td>\n",
       "      <td>0.321414</td>\n",
       "      <td>0.384590</td>\n",
       "      <td>0.021765</td>\n",
       "      <td>-0.011566</td>\n",
       "      <td>0.420482</td>\n",
       "      <td>0.514836</td>\n",
       "      <td>0.950047</td>\n",
       "      <td>0.023760</td>\n",
       "      <td>0.014629</td>\n",
       "      <td>0.023671</td>\n",
       "      <td>0.024643</td>\n",
       "    </tr>\n",
       "    <tr>\n",
       "      <th>late_aircraft_ct</th>\n",
       "      <td>NaN</td>\n",
       "      <td>NaN</td>\n",
       "      <td>0.004584</td>\n",
       "      <td>0.009459</td>\n",
       "      <td>0.032220</td>\n",
       "      <td>0.034674</td>\n",
       "      <td>0.003473</td>\n",
       "      <td>0.015270</td>\n",
       "      <td>1.000000</td>\n",
       "      <td>-0.014227</td>\n",
       "      <td>-0.020184</td>\n",
       "      <td>-0.011663</td>\n",
       "      <td>-0.007027</td>\n",
       "      <td>0.031328</td>\n",
       "      <td>0.006274</td>\n",
       "      <td>0.013727</td>\n",
       "      <td>-0.015939</td>\n",
       "      <td>0.997608</td>\n",
       "      <td>-0.016959</td>\n",
       "      <td>-0.009281</td>\n",
       "    </tr>\n",
       "    <tr>\n",
       "      <th>arr_cancelled</th>\n",
       "      <td>NaN</td>\n",
       "      <td>NaN</td>\n",
       "      <td>0.896926</td>\n",
       "      <td>0.870114</td>\n",
       "      <td>0.028894</td>\n",
       "      <td>0.642207</td>\n",
       "      <td>0.836326</td>\n",
       "      <td>0.321414</td>\n",
       "      <td>-0.014227</td>\n",
       "      <td>1.000000</td>\n",
       "      <td>0.728382</td>\n",
       "      <td>0.061778</td>\n",
       "      <td>-0.007130</td>\n",
       "      <td>0.630015</td>\n",
       "      <td>0.788962</td>\n",
       "      <td>0.341666</td>\n",
       "      <td>0.073520</td>\n",
       "      <td>-0.015400</td>\n",
       "      <td>0.073619</td>\n",
       "      <td>0.065336</td>\n",
       "    </tr>\n",
       "    <tr>\n",
       "      <th>arr_diverted</th>\n",
       "      <td>NaN</td>\n",
       "      <td>NaN</td>\n",
       "      <td>0.730814</td>\n",
       "      <td>0.762663</td>\n",
       "      <td>0.047738</td>\n",
       "      <td>0.631022</td>\n",
       "      <td>0.747925</td>\n",
       "      <td>0.384590</td>\n",
       "      <td>-0.020184</td>\n",
       "      <td>0.728382</td>\n",
       "      <td>1.000000</td>\n",
       "      <td>0.029567</td>\n",
       "      <td>-0.007115</td>\n",
       "      <td>0.632878</td>\n",
       "      <td>0.714634</td>\n",
       "      <td>0.388943</td>\n",
       "      <td>0.038155</td>\n",
       "      <td>-0.021579</td>\n",
       "      <td>0.038074</td>\n",
       "      <td>0.034598</td>\n",
       "    </tr>\n",
       "    <tr>\n",
       "      <th>arr_delay</th>\n",
       "      <td>NaN</td>\n",
       "      <td>NaN</td>\n",
       "      <td>0.033402</td>\n",
       "      <td>0.025866</td>\n",
       "      <td>-0.035710</td>\n",
       "      <td>-0.025452</td>\n",
       "      <td>0.020271</td>\n",
       "      <td>0.021765</td>\n",
       "      <td>-0.011663</td>\n",
       "      <td>0.061778</td>\n",
       "      <td>0.029567</td>\n",
       "      <td>1.000000</td>\n",
       "      <td>0.022819</td>\n",
       "      <td>-0.029309</td>\n",
       "      <td>0.013201</td>\n",
       "      <td>0.030807</td>\n",
       "      <td>0.022728</td>\n",
       "      <td>-0.008566</td>\n",
       "      <td>0.023168</td>\n",
       "      <td>0.997958</td>\n",
       "    </tr>\n",
       "    <tr>\n",
       "      <th>carrier_delay</th>\n",
       "      <td>NaN</td>\n",
       "      <td>NaN</td>\n",
       "      <td>-0.019155</td>\n",
       "      <td>-0.022042</td>\n",
       "      <td>-0.010839</td>\n",
       "      <td>-0.024162</td>\n",
       "      <td>-0.016258</td>\n",
       "      <td>-0.011566</td>\n",
       "      <td>-0.007027</td>\n",
       "      <td>-0.007130</td>\n",
       "      <td>-0.007115</td>\n",
       "      <td>0.022819</td>\n",
       "      <td>1.000000</td>\n",
       "      <td>-0.030961</td>\n",
       "      <td>-0.024972</td>\n",
       "      <td>-0.003065</td>\n",
       "      <td>-0.015039</td>\n",
       "      <td>-0.009822</td>\n",
       "      <td>-0.015428</td>\n",
       "      <td>0.021504</td>\n",
       "    </tr>\n",
       "    <tr>\n",
       "      <th>weather_delay</th>\n",
       "      <td>NaN</td>\n",
       "      <td>NaN</td>\n",
       "      <td>0.794738</td>\n",
       "      <td>0.817449</td>\n",
       "      <td>0.073487</td>\n",
       "      <td>0.980639</td>\n",
       "      <td>0.746719</td>\n",
       "      <td>0.420482</td>\n",
       "      <td>0.031328</td>\n",
       "      <td>0.630015</td>\n",
       "      <td>0.632878</td>\n",
       "      <td>-0.029309</td>\n",
       "      <td>-0.030961</td>\n",
       "      <td>1.000000</td>\n",
       "      <td>0.755705</td>\n",
       "      <td>0.429274</td>\n",
       "      <td>0.068857</td>\n",
       "      <td>0.030711</td>\n",
       "      <td>0.068964</td>\n",
       "      <td>-0.019287</td>\n",
       "    </tr>\n",
       "    <tr>\n",
       "      <th>nas_delay</th>\n",
       "      <td>NaN</td>\n",
       "      <td>NaN</td>\n",
       "      <td>0.783336</td>\n",
       "      <td>0.890976</td>\n",
       "      <td>0.045236</td>\n",
       "      <td>0.741839</td>\n",
       "      <td>0.969446</td>\n",
       "      <td>0.514836</td>\n",
       "      <td>0.006274</td>\n",
       "      <td>0.788962</td>\n",
       "      <td>0.714634</td>\n",
       "      <td>0.013201</td>\n",
       "      <td>-0.024972</td>\n",
       "      <td>0.755705</td>\n",
       "      <td>1.000000</td>\n",
       "      <td>0.534758</td>\n",
       "      <td>0.072909</td>\n",
       "      <td>0.005182</td>\n",
       "      <td>0.072913</td>\n",
       "      <td>0.017895</td>\n",
       "    </tr>\n",
       "    <tr>\n",
       "      <th>security_delay</th>\n",
       "      <td>NaN</td>\n",
       "      <td>NaN</td>\n",
       "      <td>0.409307</td>\n",
       "      <td>0.505889</td>\n",
       "      <td>0.008280</td>\n",
       "      <td>0.443773</td>\n",
       "      <td>0.556036</td>\n",
       "      <td>0.950047</td>\n",
       "      <td>0.013727</td>\n",
       "      <td>0.341666</td>\n",
       "      <td>0.388943</td>\n",
       "      <td>0.030807</td>\n",
       "      <td>-0.003065</td>\n",
       "      <td>0.429274</td>\n",
       "      <td>0.534758</td>\n",
       "      <td>1.000000</td>\n",
       "      <td>0.033704</td>\n",
       "      <td>0.013328</td>\n",
       "      <td>0.033625</td>\n",
       "      <td>0.033256</td>\n",
       "    </tr>\n",
       "    <tr>\n",
       "      <th>late_aircraft_delay</th>\n",
       "      <td>NaN</td>\n",
       "      <td>NaN</td>\n",
       "      <td>0.089443</td>\n",
       "      <td>0.085117</td>\n",
       "      <td>0.053061</td>\n",
       "      <td>0.070445</td>\n",
       "      <td>0.083238</td>\n",
       "      <td>0.023760</td>\n",
       "      <td>-0.015939</td>\n",
       "      <td>0.073520</td>\n",
       "      <td>0.038155</td>\n",
       "      <td>0.022728</td>\n",
       "      <td>-0.015039</td>\n",
       "      <td>0.068857</td>\n",
       "      <td>0.072909</td>\n",
       "      <td>0.033704</td>\n",
       "      <td>1.000000</td>\n",
       "      <td>-0.012489</td>\n",
       "      <td>0.999868</td>\n",
       "      <td>0.022608</td>\n",
       "    </tr>\n",
       "    <tr>\n",
       "      <th>abs_late_aircraft_ct</th>\n",
       "      <td>NaN</td>\n",
       "      <td>NaN</td>\n",
       "      <td>0.003572</td>\n",
       "      <td>0.008248</td>\n",
       "      <td>0.029340</td>\n",
       "      <td>0.034151</td>\n",
       "      <td>0.002195</td>\n",
       "      <td>0.014629</td>\n",
       "      <td>0.997608</td>\n",
       "      <td>-0.015400</td>\n",
       "      <td>-0.021579</td>\n",
       "      <td>-0.008566</td>\n",
       "      <td>-0.009822</td>\n",
       "      <td>0.030711</td>\n",
       "      <td>0.005182</td>\n",
       "      <td>0.013328</td>\n",
       "      <td>-0.012489</td>\n",
       "      <td>1.000000</td>\n",
       "      <td>-0.013518</td>\n",
       "      <td>-0.006140</td>\n",
       "    </tr>\n",
       "    <tr>\n",
       "      <th>abs_late_aircraft_delay</th>\n",
       "      <td>NaN</td>\n",
       "      <td>NaN</td>\n",
       "      <td>0.089527</td>\n",
       "      <td>0.085203</td>\n",
       "      <td>0.053370</td>\n",
       "      <td>0.070477</td>\n",
       "      <td>0.083279</td>\n",
       "      <td>0.023671</td>\n",
       "      <td>-0.016959</td>\n",
       "      <td>0.073619</td>\n",
       "      <td>0.038074</td>\n",
       "      <td>0.023168</td>\n",
       "      <td>-0.015428</td>\n",
       "      <td>0.068964</td>\n",
       "      <td>0.072913</td>\n",
       "      <td>0.033625</td>\n",
       "      <td>0.999868</td>\n",
       "      <td>-0.013518</td>\n",
       "      <td>1.000000</td>\n",
       "      <td>0.023049</td>\n",
       "    </tr>\n",
       "    <tr>\n",
       "      <th>abs_arr_delay</th>\n",
       "      <td>NaN</td>\n",
       "      <td>NaN</td>\n",
       "      <td>0.039641</td>\n",
       "      <td>0.031879</td>\n",
       "      <td>-0.035131</td>\n",
       "      <td>-0.015270</td>\n",
       "      <td>0.024719</td>\n",
       "      <td>0.024643</td>\n",
       "      <td>-0.009281</td>\n",
       "      <td>0.065336</td>\n",
       "      <td>0.034598</td>\n",
       "      <td>0.997958</td>\n",
       "      <td>0.021504</td>\n",
       "      <td>-0.019287</td>\n",
       "      <td>0.017895</td>\n",
       "      <td>0.033256</td>\n",
       "      <td>0.022608</td>\n",
       "      <td>-0.006140</td>\n",
       "      <td>0.023049</td>\n",
       "      <td>1.000000</td>\n",
       "    </tr>\n",
       "  </tbody>\n",
       "</table>\n",
       "</div>"
      ],
      "text/plain": [
       "                         year  month  arr_flights  arr_del15  carrier_ct  \\\n",
       "year                      NaN    NaN          NaN        NaN         NaN   \n",
       "month                     NaN    NaN          NaN        NaN         NaN   \n",
       "arr_flights               NaN    NaN     1.000000   0.961924    0.034899   \n",
       "arr_del15                 NaN    NaN     0.961924   1.000000    0.032375   \n",
       "carrier_ct                NaN    NaN     0.034899   0.032375    1.000000   \n",
       "weather_ct                NaN    NaN     0.829637   0.840954    0.063921   \n",
       "nas_ct                    NaN    NaN     0.853047   0.943575    0.038124   \n",
       "security_ct               NaN    NaN     0.393041   0.485793    0.010187   \n",
       "late_aircraft_ct          NaN    NaN     0.004584   0.009459    0.032220   \n",
       "arr_cancelled             NaN    NaN     0.896926   0.870114    0.028894   \n",
       "arr_diverted              NaN    NaN     0.730814   0.762663    0.047738   \n",
       "arr_delay                 NaN    NaN     0.033402   0.025866   -0.035710   \n",
       "carrier_delay             NaN    NaN    -0.019155  -0.022042   -0.010839   \n",
       "weather_delay             NaN    NaN     0.794738   0.817449    0.073487   \n",
       "nas_delay                 NaN    NaN     0.783336   0.890976    0.045236   \n",
       "security_delay            NaN    NaN     0.409307   0.505889    0.008280   \n",
       "late_aircraft_delay       NaN    NaN     0.089443   0.085117    0.053061   \n",
       "abs_late_aircraft_ct      NaN    NaN     0.003572   0.008248    0.029340   \n",
       "abs_late_aircraft_delay   NaN    NaN     0.089527   0.085203    0.053370   \n",
       "abs_arr_delay             NaN    NaN     0.039641   0.031879   -0.035131   \n",
       "\n",
       "                         weather_ct    nas_ct  security_ct  late_aircraft_ct  \\\n",
       "year                            NaN       NaN          NaN               NaN   \n",
       "month                           NaN       NaN          NaN               NaN   \n",
       "arr_flights                0.829637  0.853047     0.393041          0.004584   \n",
       "arr_del15                  0.840954  0.943575     0.485793          0.009459   \n",
       "carrier_ct                 0.063921  0.038124     0.010187          0.032220   \n",
       "weather_ct                 1.000000  0.753722     0.438382          0.034674   \n",
       "nas_ct                     0.753722  1.000000     0.541079          0.003473   \n",
       "security_ct                0.438382  0.541079     1.000000          0.015270   \n",
       "late_aircraft_ct           0.034674  0.003473     0.015270          1.000000   \n",
       "arr_cancelled              0.642207  0.836326     0.321414         -0.014227   \n",
       "arr_diverted               0.631022  0.747925     0.384590         -0.020184   \n",
       "arr_delay                 -0.025452  0.020271     0.021765         -0.011663   \n",
       "carrier_delay             -0.024162 -0.016258    -0.011566         -0.007027   \n",
       "weather_delay              0.980639  0.746719     0.420482          0.031328   \n",
       "nas_delay                  0.741839  0.969446     0.514836          0.006274   \n",
       "security_delay             0.443773  0.556036     0.950047          0.013727   \n",
       "late_aircraft_delay        0.070445  0.083238     0.023760         -0.015939   \n",
       "abs_late_aircraft_ct       0.034151  0.002195     0.014629          0.997608   \n",
       "abs_late_aircraft_delay    0.070477  0.083279     0.023671         -0.016959   \n",
       "abs_arr_delay             -0.015270  0.024719     0.024643         -0.009281   \n",
       "\n",
       "                         arr_cancelled  arr_diverted  arr_delay  \\\n",
       "year                               NaN           NaN        NaN   \n",
       "month                              NaN           NaN        NaN   \n",
       "arr_flights                   0.896926      0.730814   0.033402   \n",
       "arr_del15                     0.870114      0.762663   0.025866   \n",
       "carrier_ct                    0.028894      0.047738  -0.035710   \n",
       "weather_ct                    0.642207      0.631022  -0.025452   \n",
       "nas_ct                        0.836326      0.747925   0.020271   \n",
       "security_ct                   0.321414      0.384590   0.021765   \n",
       "late_aircraft_ct             -0.014227     -0.020184  -0.011663   \n",
       "arr_cancelled                 1.000000      0.728382   0.061778   \n",
       "arr_diverted                  0.728382      1.000000   0.029567   \n",
       "arr_delay                     0.061778      0.029567   1.000000   \n",
       "carrier_delay                -0.007130     -0.007115   0.022819   \n",
       "weather_delay                 0.630015      0.632878  -0.029309   \n",
       "nas_delay                     0.788962      0.714634   0.013201   \n",
       "security_delay                0.341666      0.388943   0.030807   \n",
       "late_aircraft_delay           0.073520      0.038155   0.022728   \n",
       "abs_late_aircraft_ct         -0.015400     -0.021579  -0.008566   \n",
       "abs_late_aircraft_delay       0.073619      0.038074   0.023168   \n",
       "abs_arr_delay                 0.065336      0.034598   0.997958   \n",
       "\n",
       "                         carrier_delay  weather_delay  nas_delay  \\\n",
       "year                               NaN            NaN        NaN   \n",
       "month                              NaN            NaN        NaN   \n",
       "arr_flights                  -0.019155       0.794738   0.783336   \n",
       "arr_del15                    -0.022042       0.817449   0.890976   \n",
       "carrier_ct                   -0.010839       0.073487   0.045236   \n",
       "weather_ct                   -0.024162       0.980639   0.741839   \n",
       "nas_ct                       -0.016258       0.746719   0.969446   \n",
       "security_ct                  -0.011566       0.420482   0.514836   \n",
       "late_aircraft_ct             -0.007027       0.031328   0.006274   \n",
       "arr_cancelled                -0.007130       0.630015   0.788962   \n",
       "arr_diverted                 -0.007115       0.632878   0.714634   \n",
       "arr_delay                     0.022819      -0.029309   0.013201   \n",
       "carrier_delay                 1.000000      -0.030961  -0.024972   \n",
       "weather_delay                -0.030961       1.000000   0.755705   \n",
       "nas_delay                    -0.024972       0.755705   1.000000   \n",
       "security_delay               -0.003065       0.429274   0.534758   \n",
       "late_aircraft_delay          -0.015039       0.068857   0.072909   \n",
       "abs_late_aircraft_ct         -0.009822       0.030711   0.005182   \n",
       "abs_late_aircraft_delay      -0.015428       0.068964   0.072913   \n",
       "abs_arr_delay                 0.021504      -0.019287   0.017895   \n",
       "\n",
       "                         security_delay  late_aircraft_delay  \\\n",
       "year                                NaN                  NaN   \n",
       "month                               NaN                  NaN   \n",
       "arr_flights                    0.409307             0.089443   \n",
       "arr_del15                      0.505889             0.085117   \n",
       "carrier_ct                     0.008280             0.053061   \n",
       "weather_ct                     0.443773             0.070445   \n",
       "nas_ct                         0.556036             0.083238   \n",
       "security_ct                    0.950047             0.023760   \n",
       "late_aircraft_ct               0.013727            -0.015939   \n",
       "arr_cancelled                  0.341666             0.073520   \n",
       "arr_diverted                   0.388943             0.038155   \n",
       "arr_delay                      0.030807             0.022728   \n",
       "carrier_delay                 -0.003065            -0.015039   \n",
       "weather_delay                  0.429274             0.068857   \n",
       "nas_delay                      0.534758             0.072909   \n",
       "security_delay                 1.000000             0.033704   \n",
       "late_aircraft_delay            0.033704             1.000000   \n",
       "abs_late_aircraft_ct           0.013328            -0.012489   \n",
       "abs_late_aircraft_delay        0.033625             0.999868   \n",
       "abs_arr_delay                  0.033256             0.022608   \n",
       "\n",
       "                         abs_late_aircraft_ct  abs_late_aircraft_delay  \\\n",
       "year                                      NaN                      NaN   \n",
       "month                                     NaN                      NaN   \n",
       "arr_flights                          0.003572                 0.089527   \n",
       "arr_del15                            0.008248                 0.085203   \n",
       "carrier_ct                           0.029340                 0.053370   \n",
       "weather_ct                           0.034151                 0.070477   \n",
       "nas_ct                               0.002195                 0.083279   \n",
       "security_ct                          0.014629                 0.023671   \n",
       "late_aircraft_ct                     0.997608                -0.016959   \n",
       "arr_cancelled                       -0.015400                 0.073619   \n",
       "arr_diverted                        -0.021579                 0.038074   \n",
       "arr_delay                           -0.008566                 0.023168   \n",
       "carrier_delay                       -0.009822                -0.015428   \n",
       "weather_delay                        0.030711                 0.068964   \n",
       "nas_delay                            0.005182                 0.072913   \n",
       "security_delay                       0.013328                 0.033625   \n",
       "late_aircraft_delay                 -0.012489                 0.999868   \n",
       "abs_late_aircraft_ct                 1.000000                -0.013518   \n",
       "abs_late_aircraft_delay             -0.013518                 1.000000   \n",
       "abs_arr_delay                       -0.006140                 0.023049   \n",
       "\n",
       "                         abs_arr_delay  \n",
       "year                               NaN  \n",
       "month                              NaN  \n",
       "arr_flights                   0.039641  \n",
       "arr_del15                     0.031879  \n",
       "carrier_ct                   -0.035131  \n",
       "weather_ct                   -0.015270  \n",
       "nas_ct                        0.024719  \n",
       "security_ct                   0.024643  \n",
       "late_aircraft_ct             -0.009281  \n",
       "arr_cancelled                 0.065336  \n",
       "arr_diverted                  0.034598  \n",
       "arr_delay                     0.997958  \n",
       "carrier_delay                 0.021504  \n",
       "weather_delay                -0.019287  \n",
       "nas_delay                     0.017895  \n",
       "security_delay                0.033256  \n",
       "late_aircraft_delay           0.022608  \n",
       "abs_late_aircraft_ct         -0.006140  \n",
       "abs_late_aircraft_delay       0.023049  \n",
       "abs_arr_delay                 1.000000  "
      ]
     },
     "execution_count": 31,
     "metadata": {},
     "output_type": "execute_result"
    }
   ],
   "source": [
    "df.corr(method='pearson')"
   ]
  },
  {
   "cell_type": "markdown",
   "metadata": {},
   "source": [
    "## Normality"
   ]
  },
  {
   "cell_type": "markdown",
   "metadata": {},
   "source": [
    "## Histograms"
   ]
  },
  {
   "cell_type": "code",
   "execution_count": 41,
   "metadata": {},
   "outputs": [
    {
     "data": {
      "image/png": "[encoded data removed]",
      "text/plain": [
       "<Figure size 500x500 with 1 Axes>"
      ]
     },
     "metadata": {},
     "output_type": "display_data"
    }
   ],
   "source": [
    "import seaborn as sns\n",
    "import numpy as np\n",
    "sns.displot(df.carrier_ct, kde=True)\n",
    "plt.show()"
   ]
  },
  {
   "cell_type": "code",
   "execution_count": 37,
   "metadata": {},
   "outputs": [
    {
     "data": {
      "image/png": "[encoded data removed]",
      "text/plain": [
       "<Figure size 500x500 with 1 Axes>"
      ]
     },
     "metadata": {},
     "output_type": "display_data"
    }
   ],
   "source": [
    "sns.displot(df.carrier_delay, kde=True)\n",
    "plt.show()"
   ]
  },
  {
   "cell_type": "code",
   "execution_count": 38,
   "metadata": {},
   "outputs": [
    {
     "data": {
      "image/png": "[encoded data removed]",
      "text/plain": [
       "<Figure size 500x500 with 1 Axes>"
      ]
     },
     "metadata": {},
     "output_type": "display_data"
    }
   ],
   "source": [
    "sns.displot(df.late_aircraft_delay, kde=True)\n",
    "plt.show()"
   ]
  },
  {
   "cell_type": "code",
   "execution_count": 39,
   "metadata": {},
   "outputs": [
    {
     "data": {
      "image/png": "[encoded data removed]",
      "text/plain": [
       "<Figure size 500x500 with 1 Axes>"
      ]
     },
     "metadata": {},
     "output_type": "display_data"
    }
   ],
   "source": [
    "sns.displot(df.late_aircraft_ct, kde=True)\n",
    "plt.show()"
   ]
  },
  {
   "cell_type": "code",
   "execution_count": 40,
   "metadata": {},
   "outputs": [
    {
     "data": {
      "image/png": "[encoded data removed]",
      "text/plain": [
       "<Figure size 500x500 with 1 Axes>"
      ]
     },
     "metadata": {},
     "output_type": "display_data"
    }
   ],
   "source": [
    "sns.displot(df.arr_delay, kde=True)\n",
    "plt.show()"
   ]
  },
  {
   "cell_type": "markdown",
   "metadata": {},
   "source": [
    "## Statistical Tests"
   ]
  },
  {
   "cell_type": "markdown",
   "metadata": {},
   "source": [
    "## Shapiro-Wilk"
   ]
  },
  {
   "cell_type": "code",
   "execution_count": 43,
   "metadata": {},
   "outputs": [],
   "source": [
    "from scipy import stats\n",
    "from scipy.stats import shapiro"
   ]
  },
  {
   "cell_type": "code",
   "execution_count": 52,
   "metadata": {},
   "outputs": [
    {
     "data": {
      "text/plain": [
       "ShapiroResult(statistic=0.9976338148117065, pvalue=0.16131097078323364)"
      ]
     },
     "execution_count": 52,
     "metadata": {},
     "output_type": "execute_result"
    }
   ],
   "source": [
    "stats.shapiro(df.carrier_ct)"
   ]
  },
  {
   "cell_type": "code",
   "execution_count": 53,
   "metadata": {},
   "outputs": [
    {
     "data": {
      "text/plain": [
       "ShapiroResult(statistic=0.9981660842895508, pvalue=0.36014702916145325)"
      ]
     },
     "execution_count": 53,
     "metadata": {},
     "output_type": "execute_result"
    }
   ],
   "source": [
    "stats.shapiro(df.carrier_delay)"
   ]
  },
  {
   "cell_type": "code",
   "execution_count": 54,
   "metadata": {},
   "outputs": [
    {
     "data": {
      "text/plain": [
       "ShapiroResult(statistic=0.9983152151107788, pvalue=0.44113633036613464)"
      ]
     },
     "execution_count": 54,
     "metadata": {},
     "output_type": "execute_result"
    }
   ],
   "source": [
    "stats.shapiro(df.late_aircraft_delay)"
   ]
  },
  {
   "cell_type": "code",
   "execution_count": 55,
   "metadata": {},
   "outputs": [
    {
     "data": {
      "text/plain": [
       "ShapiroResult(statistic=0.9988429546356201, pvalue=0.7830135226249695)"
      ]
     },
     "execution_count": 55,
     "metadata": {},
     "output_type": "execute_result"
    }
   ],
   "source": [
    "stats.shapiro(df.late_aircraft_ct)"
   ]
  },
  {
   "cell_type": "code",
   "execution_count": 56,
   "metadata": {},
   "outputs": [
    {
     "data": {
      "text/plain": [
       "ShapiroResult(statistic=0.9988400340080261, pvalue=0.7811894416809082)"
      ]
     },
     "execution_count": 56,
     "metadata": {},
     "output_type": "execute_result"
    }
   ],
   "source": [
    "stats.shapiro(df.arr_delay)"
   ]
  },
  {
   "cell_type": "code",
   "execution_count": 47,
   "metadata": {},
   "outputs": [
    {
     "name": "stdout",
     "output_type": "stream",
     "text": [
      "0      2022.0\n",
      "1      2022.0\n",
      "2      2022.0\n",
      "3      2022.0\n",
      "4      2022.0\n",
      "        ...  \n",
      "994    2022.0\n",
      "995    2022.0\n",
      "996    2022.0\n",
      "997    2022.0\n",
      "998    2022.0\n",
      "Name: year, Length: 999, dtype: float64\n",
      "Statistics 1.0 p-value 1.0\n",
      "The null hypothesis cannot be rejected\n",
      "0      5.0\n",
      "1      5.0\n",
      "2      5.0\n",
      "3      5.0\n",
      "4      5.0\n",
      "      ... \n",
      "994    5.0\n",
      "995    5.0\n",
      "996    5.0\n",
      "997    5.0\n",
      "998    5.0\n",
      "Name: month, Length: 999, dtype: float64\n",
      "Statistics 1.0 p-value 1.0\n",
      "The null hypothesis cannot be rejected\n",
      "0      9E\n",
      "1      9E\n",
      "2      9E\n",
      "3      9E\n",
      "4      9E\n",
      "       ..\n",
      "994    OH\n",
      "995    OH\n",
      "996    OH\n",
      "997    OH\n",
      "998    OH\n",
      "Name: carrier, Length: 999, dtype: object\n"
     ]
    },
    {
     "name": "stderr",
     "output_type": "stream",
     "text": [
      "/opt/homebrew/Caskroom/miniforge/base/lib/python3.9/site-packages/scipy/stats/_morestats.py:1797: UserWarning: Input data for shapiro has range zero. The results may not be accurate.\n",
      "  warnings.warn(\"Input data for shapiro has range zero. The results \"\n",
      "/opt/homebrew/Caskroom/miniforge/base/lib/python3.9/site-packages/scipy/stats/_morestats.py:1797: UserWarning: Input data for shapiro has range zero. The results may not be accurate.\n",
      "  warnings.warn(\"Input data for shapiro has range zero. The results \"\n"
     ]
    },
    {
     "ename": "TypeError",
     "evalue": "ufunc 'divide' not supported for the input types, and the inputs could not be safely coerced to any supported types according to the casting rule ''safe''",
     "output_type": "error",
     "traceback": [
      "\u001b[0;31m---------------------------------------------------------------------------\u001b[0m",
      "\u001b[0;31mTypeError\u001b[0m                                 Traceback (most recent call last)",
      "Cell \u001b[0;32mIn [47], line 4\u001b[0m\n\u001b[1;32m      2\u001b[0m \u001b[38;5;28;01mfor\u001b[39;00m i \u001b[38;5;129;01min\u001b[39;00m df:\n\u001b[1;32m      3\u001b[0m   \u001b[38;5;28mprint\u001b[39m (df[i])\n\u001b[0;32m----> 4\u001b[0m   a,b\u001b[38;5;241m=\u001b[39m \u001b[43mstats\u001b[49m\u001b[38;5;241;43m.\u001b[39;49m\u001b[43mshapiro\u001b[49m\u001b[43m(\u001b[49m\u001b[43mdf\u001b[49m\u001b[43m[\u001b[49m\u001b[43m[\u001b[49m\u001b[43mi\u001b[49m\u001b[43m]\u001b[49m\u001b[43m]\u001b[49m\u001b[43m)\u001b[49m\n\u001b[1;32m      5\u001b[0m   \u001b[38;5;28mprint\u001b[39m(\u001b[38;5;124m\"\u001b[39m\u001b[38;5;124mStatistics\u001b[39m\u001b[38;5;124m\"\u001b[39m, a, \u001b[38;5;124m\"\u001b[39m\u001b[38;5;124mp-value\u001b[39m\u001b[38;5;124m\"\u001b[39m, b)\n\u001b[1;32m      6\u001b[0m   \u001b[38;5;28;01mif\u001b[39;00m b \u001b[38;5;241m<\u001b[39m alpha:\n",
      "File \u001b[0;32m/opt/homebrew/Caskroom/miniforge/base/lib/python3.9/site-packages/scipy/stats/_morestats.py:1789\u001b[0m, in \u001b[0;36mshapiro\u001b[0;34m(x)\u001b[0m\n\u001b[1;32m   1786\u001b[0m \u001b[39mif\u001b[39;00m N \u001b[39m<\u001b[39m \u001b[39m3\u001b[39m:\n\u001b[1;32m   1787\u001b[0m     \u001b[39mraise\u001b[39;00m \u001b[39mValueError\u001b[39;00m(\u001b[39m\"\u001b[39m\u001b[39mData must be at least length 3.\u001b[39m\u001b[39m\"\u001b[39m)\n\u001b[0;32m-> 1789\u001b[0m x \u001b[39m=\u001b[39m x \u001b[39m-\u001b[39m np\u001b[39m.\u001b[39;49mmedian(x)\n\u001b[1;32m   1791\u001b[0m a \u001b[39m=\u001b[39m zeros(N, \u001b[39m'\u001b[39m\u001b[39mf\u001b[39m\u001b[39m'\u001b[39m)\n\u001b[1;32m   1792\u001b[0m init \u001b[39m=\u001b[39m \u001b[39m0\u001b[39m\n",
      "File \u001b[0;32m<__array_function__ internals>:180\u001b[0m, in \u001b[0;36mmedian\u001b[0;34m(*args, **kwargs)\u001b[0m\n",
      "File \u001b[0;32m/opt/homebrew/Caskroom/miniforge/base/lib/python3.9/site-packages/numpy/lib/function_base.py:3816\u001b[0m, in \u001b[0;36mmedian\u001b[0;34m(a, axis, out, overwrite_input, keepdims)\u001b[0m\n\u001b[1;32m   3734\u001b[0m \u001b[39m@array_function_dispatch\u001b[39m(_median_dispatcher)\n\u001b[1;32m   3735\u001b[0m \u001b[39mdef\u001b[39;00m \u001b[39mmedian\u001b[39m(a, axis\u001b[39m=\u001b[39m\u001b[39mNone\u001b[39;00m, out\u001b[39m=\u001b[39m\u001b[39mNone\u001b[39;00m, overwrite_input\u001b[39m=\u001b[39m\u001b[39mFalse\u001b[39;00m, keepdims\u001b[39m=\u001b[39m\u001b[39mFalse\u001b[39;00m):\n\u001b[1;32m   3736\u001b[0m     \u001b[39m\"\"\"\u001b[39;00m\n\u001b[1;32m   3737\u001b[0m \u001b[39m    Compute the median along the specified axis.\u001b[39;00m\n\u001b[1;32m   3738\u001b[0m \n\u001b[0;32m   (...)\u001b[0m\n\u001b[1;32m   3814\u001b[0m \n\u001b[1;32m   3815\u001b[0m \u001b[39m    \"\"\"\u001b[39;00m\n\u001b[0;32m-> 3816\u001b[0m     r, k \u001b[39m=\u001b[39m _ureduce(a, func\u001b[39m=\u001b[39;49m_median, axis\u001b[39m=\u001b[39;49maxis, out\u001b[39m=\u001b[39;49mout,\n\u001b[1;32m   3817\u001b[0m                     overwrite_input\u001b[39m=\u001b[39;49moverwrite_input)\n\u001b[1;32m   3818\u001b[0m     \u001b[39mif\u001b[39;00m keepdims:\n\u001b[1;32m   3819\u001b[0m         \u001b[39mreturn\u001b[39;00m r\u001b[39m.\u001b[39mreshape(k)\n",
      "File \u001b[0;32m/opt/homebrew/Caskroom/miniforge/base/lib/python3.9/site-packages/numpy/lib/function_base.py:3725\u001b[0m, in \u001b[0;36m_ureduce\u001b[0;34m(a, func, **kwargs)\u001b[0m\n\u001b[1;32m   3722\u001b[0m \u001b[39melse\u001b[39;00m:\n\u001b[1;32m   3723\u001b[0m     keepdim \u001b[39m=\u001b[39m (\u001b[39m1\u001b[39m,) \u001b[39m*\u001b[39m a\u001b[39m.\u001b[39mndim\n\u001b[0;32m-> 3725\u001b[0m r \u001b[39m=\u001b[39m func(a, \u001b[39m*\u001b[39;49m\u001b[39m*\u001b[39;49mkwargs)\n\u001b[1;32m   3726\u001b[0m \u001b[39mreturn\u001b[39;00m r, keepdim\n",
      "File \u001b[0;32m/opt/homebrew/Caskroom/miniforge/base/lib/python3.9/site-packages/numpy/lib/function_base.py:3870\u001b[0m, in \u001b[0;36m_median\u001b[0;34m(a, axis, out, overwrite_input)\u001b[0m\n\u001b[1;32m   3866\u001b[0m indexer \u001b[39m=\u001b[39m \u001b[39mtuple\u001b[39m(indexer)\n\u001b[1;32m   3868\u001b[0m \u001b[39m# Use mean in both odd and even case to coerce data type,\u001b[39;00m\n\u001b[1;32m   3869\u001b[0m \u001b[39m# using out array if needed.\u001b[39;00m\n\u001b[0;32m-> 3870\u001b[0m rout \u001b[39m=\u001b[39m mean(part[indexer], axis\u001b[39m=\u001b[39;49maxis, out\u001b[39m=\u001b[39;49mout)\n\u001b[1;32m   3871\u001b[0m \u001b[39m# Check if the array contains any nan's\u001b[39;00m\n\u001b[1;32m   3872\u001b[0m \u001b[39mif\u001b[39;00m np\u001b[39m.\u001b[39missubdtype(a\u001b[39m.\u001b[39mdtype, np\u001b[39m.\u001b[39minexact) \u001b[39mand\u001b[39;00m sz \u001b[39m>\u001b[39m \u001b[39m0\u001b[39m:\n\u001b[1;32m   3873\u001b[0m     \u001b[39m# If nans are possible, warn and replace by nans like mean would.\u001b[39;00m\n",
      "File \u001b[0;32m<__array_function__ internals>:180\u001b[0m, in \u001b[0;36mmean\u001b[0;34m(*args, **kwargs)\u001b[0m\n",
      "File \u001b[0;32m/opt/homebrew/Caskroom/miniforge/base/lib/python3.9/site-packages/numpy/core/fromnumeric.py:3432\u001b[0m, in \u001b[0;36mmean\u001b[0;34m(a, axis, dtype, out, keepdims, where)\u001b[0m\n\u001b[1;32m   3429\u001b[0m     \u001b[39melse\u001b[39;00m:\n\u001b[1;32m   3430\u001b[0m         \u001b[39mreturn\u001b[39;00m mean(axis\u001b[39m=\u001b[39maxis, dtype\u001b[39m=\u001b[39mdtype, out\u001b[39m=\u001b[39mout, \u001b[39m*\u001b[39m\u001b[39m*\u001b[39mkwargs)\n\u001b[0;32m-> 3432\u001b[0m \u001b[39mreturn\u001b[39;00m _methods\u001b[39m.\u001b[39;49m_mean(a, axis\u001b[39m=\u001b[39;49maxis, dtype\u001b[39m=\u001b[39;49mdtype,\n\u001b[1;32m   3433\u001b[0m                       out\u001b[39m=\u001b[39;49mout, \u001b[39m*\u001b[39;49m\u001b[39m*\u001b[39;49mkwargs)\n",
      "File \u001b[0;32m/opt/homebrew/Caskroom/miniforge/base/lib/python3.9/site-packages/numpy/core/_methods.py:192\u001b[0m, in \u001b[0;36m_mean\u001b[0;34m(a, axis, dtype, out, keepdims, where)\u001b[0m\n\u001b[1;32m    190\u001b[0m         ret \u001b[39m=\u001b[39m ret\u001b[39m.\u001b[39mdtype\u001b[39m.\u001b[39mtype(ret \u001b[39m/\u001b[39m rcount)\n\u001b[1;32m    191\u001b[0m \u001b[39melse\u001b[39;00m:\n\u001b[0;32m--> 192\u001b[0m     ret \u001b[39m=\u001b[39m ret \u001b[39m/\u001b[39;49m rcount\n\u001b[1;32m    194\u001b[0m \u001b[39mreturn\u001b[39;00m ret\n",
      "\u001b[0;31mTypeError\u001b[0m: ufunc 'divide' not supported for the input types, and the inputs could not be safely coerced to any supported types according to the casting rule ''safe''"
     ]
    }
   ],
   "source": [
    "alpha=0.05\n",
    "for i in df:\n",
    "  print (df[i])\n",
    "  a,b= stats.shapiro(df[[i]])\n",
    "  print(\"Statistics\", a, \"p-value\", b)\n",
    "  if b < alpha:\n",
    "    print (\"The null hypothesis can be rejected\")\n",
    "  else:\n",
    "    print (\"The null hypothesis cannot be rejected\")"
   ]
  },
  {
   "cell_type": "markdown",
   "metadata": {},
   "source": [
    "## Kolmogorov-Smirnov"
   ]
  },
  {
   "cell_type": "code",
   "execution_count": 69,
   "metadata": {},
   "outputs": [],
   "source": [
    "from scipy.stats import kstest"
   ]
  },
  {
   "cell_type": "code",
   "execution_count": 87,
   "metadata": {},
   "outputs": [
    {
     "data": {
      "text/plain": [
       "KstestResult(statistic=1.0, pvalue=0.0)"
      ]
     },
     "execution_count": 87,
     "metadata": {},
     "output_type": "execute_result"
    }
   ],
   "source": [
    "kstest(df.carrier_ct, 'norm')"
   ]
  },
  {
   "cell_type": "code",
   "execution_count": 71,
   "metadata": {},
   "outputs": [
    {
     "data": {
      "text/plain": [
       "KstestResult(statistic=1.0, pvalue=0.0)"
      ]
     },
     "execution_count": 71,
     "metadata": {},
     "output_type": "execute_result"
    }
   ],
   "source": [
    "kstest(df.carrier_delay, 'norm')"
   ]
  },
  {
   "cell_type": "code",
   "execution_count": 72,
   "metadata": {},
   "outputs": [
    {
     "data": {
      "text/plain": [
       "KstestResult(statistic=0.998998998998999, pvalue=0.0)"
      ]
     },
     "execution_count": 72,
     "metadata": {},
     "output_type": "execute_result"
    }
   ],
   "source": [
    "kstest(df.late_aircraft_delay, 'norm')"
   ]
  },
  {
   "cell_type": "code",
   "execution_count": 73,
   "metadata": {},
   "outputs": [
    {
     "data": {
      "text/plain": [
       "KstestResult(statistic=0.9752227294324294, pvalue=0.0)"
      ]
     },
     "execution_count": 73,
     "metadata": {},
     "output_type": "execute_result"
    }
   ],
   "source": [
    "kstest(df.late_aircraft_ct, 'norm')"
   ]
  },
  {
   "cell_type": "code",
   "execution_count": 74,
   "metadata": {},
   "outputs": [
    {
     "data": {
      "text/plain": [
       "KstestResult(statistic=0.9675868192090309, pvalue=0.0)"
      ]
     },
     "execution_count": 74,
     "metadata": {},
     "output_type": "execute_result"
    }
   ],
   "source": [
    "kstest(df.arr_delay, 'norm')"
   ]
  },
  {
   "cell_type": "code",
   "execution_count": 89,
   "metadata": {},
   "outputs": [
    {
     "data": {
      "text/plain": [
       "KstestResult(statistic=0.9675868192090309, pvalue=0.0)"
      ]
     },
     "execution_count": 89,
     "metadata": {},
     "output_type": "execute_result"
    }
   ],
   "source": [
    "stats.kstest(df.arr_delay, \"norm\", alternative='less')"
   ]
  },
  {
   "cell_type": "markdown",
   "metadata": {},
   "source": [
    "# Anderson"
   ]
  },
  {
   "cell_type": "code",
   "execution_count": 81,
   "metadata": {},
   "outputs": [
    {
     "data": {
      "text/plain": [
       "AndersonResult(statistic=0.39810139193650684, critical_values=array([0.574, 0.653, 0.784, 0.914, 1.088]), significance_level=array([15. , 10. ,  5. ,  2.5,  1. ]))"
      ]
     },
     "execution_count": 81,
     "metadata": {},
     "output_type": "execute_result"
    }
   ],
   "source": [
    "stats.anderson(df.carrier_ct, dist='norm')"
   ]
  },
  {
   "cell_type": "code",
   "execution_count": 82,
   "metadata": {},
   "outputs": [
    {
     "data": {
      "text/plain": [
       "AndersonResult(statistic=0.5492551712060276, critical_values=array([0.574, 0.653, 0.784, 0.914, 1.088]), significance_level=array([15. , 10. ,  5. ,  2.5,  1. ]))"
      ]
     },
     "execution_count": 82,
     "metadata": {},
     "output_type": "execute_result"
    }
   ],
   "source": [
    "stats.anderson(df.carrier_delay, dist='norm')"
   ]
  },
  {
   "cell_type": "code",
   "execution_count": 83,
   "metadata": {},
   "outputs": [
    {
     "data": {
      "text/plain": [
       "AndersonResult(statistic=0.3359623206974902, critical_values=array([0.574, 0.653, 0.784, 0.914, 1.088]), significance_level=array([15. , 10. ,  5. ,  2.5,  1. ]))"
      ]
     },
     "execution_count": 83,
     "metadata": {},
     "output_type": "execute_result"
    }
   ],
   "source": [
    "stats.anderson(df.late_aircraft_delay, dist='norm')"
   ]
  },
  {
   "cell_type": "code",
   "execution_count": 84,
   "metadata": {},
   "outputs": [
    {
     "data": {
      "text/plain": [
       "AndersonResult(statistic=0.3462319258350135, critical_values=array([0.574, 0.653, 0.784, 0.914, 1.088]), significance_level=array([15. , 10. ,  5. ,  2.5,  1. ]))"
      ]
     },
     "execution_count": 84,
     "metadata": {},
     "output_type": "execute_result"
    }
   ],
   "source": [
    "stats.anderson(df.late_aircraft_ct, dist='norm')"
   ]
  },
  {
   "cell_type": "code",
   "execution_count": 85,
   "metadata": {},
   "outputs": [
    {
     "data": {
      "text/plain": [
       "AndersonResult(statistic=0.2893914345977464, critical_values=array([0.574, 0.653, 0.784, 0.914, 1.088]), significance_level=array([15. , 10. ,  5. ,  2.5,  1. ]))"
      ]
     },
     "execution_count": 85,
     "metadata": {},
     "output_type": "execute_result"
    }
   ],
   "source": [
    "stats.anderson(df.arr_delay, dist='norm')"
   ]
  },
  {
   "cell_type": "markdown",
   "metadata": {},
   "source": [
    "# Log Transformations & Normality tests"
   ]
  },
  {
   "cell_type": "code",
   "execution_count": null,
   "metadata": {},
   "outputs": [],
   "source": []
  },
  {
   "cell_type": "markdown",
   "metadata": {},
   "source": [
    "# Correlations"
   ]
  },
  {
   "cell_type": "markdown",
   "metadata": {},
   "source": [
    "# Effect Size & Observed Power"
   ]
  },
  {
   "cell_type": "markdown",
   "metadata": {},
   "source": [
    "# Did X cause a significant difference in the group from time 1 to time 2"
   ]
  },
  {
   "cell_type": "markdown",
   "metadata": {},
   "source": [
    "# T-tests"
   ]
  },
  {
   "cell_type": "markdown",
   "metadata": {},
   "source": [
    "## One-Sample "
   ]
  },
  {
   "cell_type": "markdown",
   "metadata": {},
   "source": [
    "## Unpaired Sample T-tests"
   ]
  },
  {
   "cell_type": "markdown",
   "metadata": {},
   "source": [
    "## Paired Samples"
   ]
  },
  {
   "cell_type": "markdown",
   "metadata": {},
   "source": [
    "# ANOVA"
   ]
  },
  {
   "cell_type": "markdown",
   "metadata": {},
   "source": [
    "## One-Factor"
   ]
  },
  {
   "cell_type": "markdown",
   "metadata": {},
   "source": [
    "## Two-Factor"
   ]
  },
  {
   "cell_type": "markdown",
   "metadata": {},
   "source": [
    "# Done"
   ]
  },
  {
   "cell_type": "markdown",
   "metadata": {},
   "source": [
    "So far the following is done:\n",
    "\n",
    "- Log transformation of Lung Cancer variables to see if we can normal distribution. We cannot.\n",
    "- Clean Airline dataset and check for normality. The variables that follow normal distribution are carrier_ct, late_aircraft_ct, arr_delay, carrier_delay and late_aircraft_delay.\n",
    "- One sample t-test\n",
    "- Unpaired samples t-test\n",
    "- Paired samples t-test is not possible since all of our data is from the same month (we need data about the same sample from different points in time to perform a paired samples t-test).\n"
   ]
  },
  {
   "cell_type": "markdown",
   "metadata": {},
   "source": [
    "# Next"
   ]
  },
  {
   "cell_type": "markdown",
   "metadata": {},
   "source": [
    "Left to check (I think) are:\n",
    "- Can we use hypothesis tests to check for correlation between variables?\n",
    "- Can we perform one-factor ANOVA?\n",
    "- Can we perform two-factor ANOVA?"
   ]
  }
 ],
 "metadata": {
  "kernelspec": {
   "display_name": "Python 3.9.14 64-bit",
   "language": "python",
   "name": "python3"
  },
  "language_info": {
   "codemirror_mode": {
    "name": "ipython",
    "version": 3
   },
   "file_extension": ".py",
   "mimetype": "text/x-python",
   "name": "python",
   "nbconvert_exporter": "python",
   "pygments_lexer": "ipython3",
   "version": "3.9.14"
  },
  "orig_nbformat": 4,
  "vscode": {
   "interpreter": {
    "hash": "a665b5d41d17b532ea9890333293a1b812fa0b73c9c25c950b3cedf1bebd0438"
   }
  }
 },
 "nbformat": 4,
 "nbformat_minor": 2
}
